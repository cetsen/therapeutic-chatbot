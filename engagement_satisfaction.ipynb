{
 "cells": [
  {
   "cell_type": "markdown",
   "metadata": {},
   "source": [
    "# Measuring Engagement and Satisfaction in Online Mental Health Platform Conversations"
   ]
  },
  {
   "cell_type": "markdown",
   "metadata": {},
   "source": [
    "## Data preprocessing"
   ]
  },
  {
   "cell_type": "code",
   "execution_count": 61,
   "metadata": {},
   "outputs": [],
   "source": [
    "import pandas as pd\n",
    "import numpy as np\n",
    "import matplotlib.pyplot as plt\n",
    "import seaborn as sns\n",
    "from sklearn.linear_model import LinearRegression\n",
    "from math import log10, floor\n",
    "import math\n",
    "import nltk\n",
    "import string\n",
    "\n",
    "pd.set_option('mode.chained_assignment',None)"
   ]
  },
  {
   "cell_type": "code",
   "execution_count": 62,
   "metadata": {},
   "outputs": [],
   "source": [
    "# Display long column text\n",
    "pd.options.display.max_colwidth = 500\n",
    "\n",
    "df = pd.read_csv(\"mentalhealthsupport_dyadic_convs_clean_emotion.csv\")\n",
    "df = df.rename(columns={'conversation id': 'conversation_id', 'post title': 'post_title', 'dialog turn': 'dialog_turn', 'emotion prediction': 'emotion_prediction'})"
   ]
  },
  {
   "cell_type": "code",
   "execution_count": 63,
   "metadata": {},
   "outputs": [
    {
     "name": "stdout",
     "output_type": "stream",
     "text": [
      "Number of conversations in subreddit:  3551\n",
      "Number of monologues in subreddit:  29\n",
      "Number of dialogues longer than 2 turns in subreddit:  487\n"
     ]
    }
   ],
   "source": [
    "### --- CLEANING OUT CONVERSATIONS WITH ONLY 1 OR 2 TURN(S) FROM DATASET --- ###\n",
    "\n",
    "# Group data by conversation id and calculate count of each conversation id\n",
    "df_conv = df.groupby(\"conversation_id\").count()\n",
    "df_conv = df_conv.drop(columns=[\"subreddit\", \"post_title\", \"author\", \"text\", \"compound\", \"sentiment\", \"emotion_prediction\"])\n",
    "print(\"Number of conversations in subreddit: \", len(df_conv))\n",
    "\n",
    "# Separate conversation id's with a single occurrence as monologues\n",
    "df_mono = df_conv[df_conv[\"dialog_turn\"] == 1]\n",
    "print(\"Number of monologues in subreddit: \", len(df_mono))\n",
    "df_mono_ids = df_mono.reset_index()\n",
    "df_mono_ids = df_mono_ids[\"conversation_id\"]\n",
    "\n",
    "# Separate conversation id's with multiple occurrences as dialogues\n",
    "df_dia = df_conv[df_conv[\"dialog_turn\"] > 2]\n",
    "print(\"Number of dialogues longer than 2 turns in subreddit: \", len(df_dia))\n",
    "df_dia = df_dia.reset_index()\n",
    "df_dia = df_dia.drop(columns=['dialog_turn'])\n",
    "\n",
    "# Join dialogue conversation id's with original data such that only dialogues remain in the dataset\n",
    "df = df.join(df_dia.set_index('conversation_id'), on='conversation_id', how=\"right\") \n",
    "\n",
    "### ---------------------------------------------- ###"
   ]
  },
  {
   "cell_type": "code",
   "execution_count": 64,
   "metadata": {},
   "outputs": [],
   "source": [
    "# TODO: CLEAN OUT CONVERSATIONS OF ANY LENGTH WITH ONLY A SPEAKER (e.g. conversation id 25)"
   ]
  },
  {
   "cell_type": "code",
   "execution_count": 65,
   "metadata": {},
   "outputs": [],
   "source": [
    "# Round numbers to a given number of significant figures (default = 2)\n",
    "def round_sig(x, sig=2):\n",
    "    if x != 0:\n",
    "        return round(x, sig-int(floor(log10(abs(x))))-1)\n",
    "    else:\n",
    "        return"
   ]
  },
  {
   "cell_type": "markdown",
   "metadata": {},
   "source": [
    "## Measuring the level of engagement"
   ]
  },
  {
   "cell_type": "code",
   "execution_count": 66,
   "metadata": {},
   "outputs": [],
   "source": [
    "def extract_responses(conversation_id):\n",
    "    conversation = df[df[\"conversation_id\"] == conversation_id]\n",
    "    conversation.reset_index(drop=True, inplace=True)\n",
    "    speaker = conversation.author.iloc[0]\n",
    "    listener = conversation[conversation[\"author\"] != speaker][\"author\"].unique().item() \n",
    "    speaker_responses = conversation[conversation[\"author\"] == speaker]\n",
    "    listener_responses = conversation[conversation[\"author\"] == listener]\n",
    "    num_speaker_responses = len(speaker_responses) \n",
    "    num_listener_responses = len(listener_responses)\n",
    "    # TODO: you can only keep conversation, speaker, and listener (because others are dynamic)\n",
    "    return conversation, speaker, listener, speaker_responses, listener_responses, num_speaker_responses, num_listener_responses"
   ]
  },
  {
   "cell_type": "code",
   "execution_count": 67,
   "metadata": {},
   "outputs": [],
   "source": [
    "# Calculates token length for all speaker responses except for the first and adds it to a new column 'token_length', and returns their sum.\n",
    "def calculate_speaker_token_length(conversation, speaker):\n",
    "    # Create an empty dataframe column 'token_length'\n",
    "    conversation.loc[:,'token_length'] = np.nan\n",
    "    \n",
    "    sum_token_length = 0\n",
    "    \n",
    "    for i in range(1, len(conversation)):\n",
    "        if conversation['author'].iloc[i] == speaker:\n",
    "            # Tokenize speaker response and filter punctuations\n",
    "            tokens = nltk.word_tokenize(conversation[\"text\"][i])\n",
    "            tokens = list(filter(lambda tokens: tokens not in string.punctuation, tokens)) # TODO: exclude quotation marks\n",
    "            \n",
    "            # Add token length to dataframe\n",
    "            conversation.at[i,'token_length'] = len(tokens)\n",
    "            \n",
    "            # Calculate sum of all tokens by speaker\n",
    "            sum_token_length += len(tokens)\n",
    "        \n",
    "    return conversation, sum_token_length"
   ]
  },
  {
   "cell_type": "code",
   "execution_count": 68,
   "metadata": {},
   "outputs": [],
   "source": [
    "def merge_consecutive_speaker_responses(conversation, speaker, listener):\n",
    "    i = 0\n",
    "    \n",
    "    while i < (len(conversation) - 1):\n",
    "        if conversation['author'].iloc[i] == speaker and conversation['author'].iloc[i+1] == speaker:\n",
    "            if (conversation['dialog_turn'].iloc[i] + 1) == conversation['dialog_turn'].iloc[i+1]:\n",
    "                dropped_turn = conversation['dialog_turn'].iloc[i+1]\n",
    "                former_text = conversation['text'][i]\n",
    "                latter_text = conversation['text'][i+1]\n",
    "\n",
    "                # Merge consecutive responses of the speaker\n",
    "                merged_text = former_text + \" \" + latter_text \n",
    "                conversation['text'].replace({former_text: merged_text}, inplace=True)\n",
    "\n",
    "                # Get names of indexes for which column dialog_turn has value of the dropped turn\n",
    "                conversation_index_names = conversation[conversation['dialog_turn'] == dropped_turn].index\n",
    "\n",
    "                # Delete these row indexes from dataframe\n",
    "                conversation.drop(conversation_index_names, inplace=True)\n",
    "\n",
    "                # Reset indices\n",
    "                conversation.reset_index(drop=True, inplace=True)\n",
    "                \n",
    "        i += 1\n",
    "        \n",
    "    speaker_responses = conversation[conversation[\"author\"] == speaker]\n",
    "    listener_responses = conversation[conversation[\"author\"] == listener]\n",
    "    num_speaker_responses = len(speaker_responses) \n",
    "    num_listener_responses = len(listener_responses)\n",
    "                 \n",
    "    return conversation, num_speaker_responses, num_listener_responses"
   ]
  },
  {
   "cell_type": "code",
   "execution_count": 69,
   "metadata": {},
   "outputs": [],
   "source": [
    "# If all the even-numbered turns are by the speaker and if all the odd-numbered turns are by the listener, returns True. Otherwise, returns False.\n",
    "def is_interleaved_conversation(speaker, listener, conversation):\n",
    "    num_turns = len(conversation)\n",
    "    \n",
    "    for i in range(0, num_turns, 2):\n",
    "        if conversation['author'].iloc[i] == speaker:\n",
    "            continue\n",
    "        else:\n",
    "            return False\n",
    "        \n",
    "    for i in range(1, num_turns, 2):\n",
    "        if conversation['author'].iloc[i] == listener:\n",
    "            continue\n",
    "        else:\n",
    "            return False\n",
    "        \n",
    "    return True"
   ]
  },
  {
   "cell_type": "code",
   "execution_count": 70,
   "metadata": {},
   "outputs": [],
   "source": [
    "def calculate_engagement(speaker, listener, conversation):\n",
    "    conversation, num_speaker_responses, num_listener_responses = merge_consecutive_speaker_responses(conversation, speaker, listener)\n",
    "    conversation, sum_token_length = calculate_speaker_token_length(conversation, speaker)\n",
    "    diff = num_speaker_responses - num_listener_responses\n",
    "    diff = abs(diff)\n",
    "    num_turns = len(conversation)\n",
    "    \n",
    "    engagement = \"\"\n",
    "    \n",
    "    if num_turns == 2:\n",
    "        engagement = \"low engagement\"\n",
    "        \n",
    "    elif num_turns == 3:\n",
    "        if is_interleaved_conversation(speaker, listener, conversation) == True and  sum_token_length > 15: # TOASK: What number to choose as token length? Is it logical to use it like this?\n",
    "            engagement = \"moderate engagement\" \n",
    "        else:\n",
    "            engagement = \"low engagement\"\n",
    "            \n",
    "    elif num_turns >= 4:\n",
    "        if (is_interleaved_conversation(speaker, listener, conversation) == True or (diff <= 1)) and sum_token_length > 15: \n",
    "            engagement = \"high engagement\" \n",
    "        else:\n",
    "            engagement = \"low engagement\"\n",
    "            \n",
    "    return round_sig(diff), engagement"
   ]
  },
  {
   "cell_type": "markdown",
   "metadata": {},
   "source": [
    "## Measuring the level of satisfaction"
   ]
  },
  {
   "cell_type": "code",
   "execution_count": 71,
   "metadata": {},
   "outputs": [],
   "source": [
    "def plot_emotion_sentiment(speaker_responses):   \n",
    "    sns.set_theme(style=\"white\")\n",
    "    g = sns.relplot(x=\"dialog_turn\", y=\"compound\", hue=\"sentiment\", style=\"emotion_prediction\", palette=\"Set1\",data=speaker_responses, s=200)\n",
    "    g.fig.suptitle('Sentimental and Emotional Shift in Speaker Responses with Conversation Progression', fontsize=16)\n",
    "    g.fig.subplots_adjust(top=0.9);"
   ]
  },
  {
   "cell_type": "code",
   "execution_count": 72,
   "metadata": {},
   "outputs": [],
   "source": [
    "def calculate_satisfaction(speaker_responses, conversation, speaker):\n",
    "    satisfaction = \"\"\n",
    "\n",
    "    f = np.polyfit(speaker_responses['dialog_turn'], speaker_responses['compound'], deg=1)\n",
    "    slope = f[0]\n",
    "    \n",
    "    # If either the last speaker text is tagged with grateful & positive \n",
    "    # or if the last speaker text contains lexical details that express gratitude, add a bonus point to satisfaction.\n",
    "    grateful_bonus = 0\n",
    "    if check_grateful_positive(speaker_responses)==True or check_lexical_details(speaker_responses, speaker)==True:\n",
    "        grateful_bonus = 0.4\n",
    "        slope += grateful_bonus\n",
    "        \n",
    "    if len(conversation) == 2:\n",
    "        satisfaction = \"none\"\n",
    "    else:\n",
    "        if slope >= 0.8: \n",
    "            satisfaction = \"positive satisfaction\"\n",
    "        elif slope >= 0.4:\n",
    "            satisfaction = \"moderate satisfaction\"\n",
    "        elif slope < 0.4 and slope >= 0:\n",
    "            satisfaction = \"neutral satisfaction\"\n",
    "        elif slope < 0:\n",
    "            satisfaction = \"negative satisfaction\"\n",
    "            \n",
    "    return round_sig(slope), satisfaction, grateful_bonus"
   ]
  },
  {
   "cell_type": "code",
   "execution_count": 73,
   "metadata": {},
   "outputs": [],
   "source": [
    "# Return all emotions and the final emotion of the given responses\n",
    "def get_emotion_prediction(speaker_responses):\n",
    "    emotions = speaker_responses[\"emotion_prediction\"]\n",
    "    final_emotion = emotions.iloc[-1]\n",
    "    \n",
    "    return emotions, final_emotion"
   ]
  },
  {
   "cell_type": "code",
   "execution_count": 74,
   "metadata": {},
   "outputs": [],
   "source": [
    "# Return all sentiments and the final sentiment of the given responses\n",
    "def get_sentiment(speaker_responses):\n",
    "    sentiments = speaker_responses[\"sentiment\"]\n",
    "    final_sentiment = sentiments.iloc[-1]\n",
    "    \n",
    "    return sentiments, final_sentiment"
   ]
  },
  {
   "cell_type": "code",
   "execution_count": 75,
   "metadata": {},
   "outputs": [],
   "source": [
    "# Check if the last speaker emotion is grateful and its sentiment is positive. If yes, return true. Otherwise, return false.\n",
    "def check_grateful_positive(speaker_responses):\n",
    "    _, final_sentiment = get_sentiment(speaker_responses)\n",
    "    _, final_emotion = get_emotion_prediction(speaker_responses)\n",
    "    \n",
    "    if final_sentiment == \"positive\" and final_emotion == \"grateful\":\n",
    "        return True\n",
    "    \n",
    "    return False"
   ]
  },
  {
   "cell_type": "code",
   "execution_count": 76,
   "metadata": {},
   "outputs": [],
   "source": [
    "def check_lexical_details(conversation, speaker):\n",
    "    index = 0\n",
    "    for i in range(len(conversation)-1,0,-1):\n",
    "        if conversation['author'].iloc[i] == speaker:\n",
    "            index = i\n",
    "            break\n",
    "   \n",
    "    tokens = nltk.word_tokenize(conversation[\"text\"].iloc[index])\n",
    "    tokens = list(filter(lambda tokens: tokens not in string.punctuation, tokens)) # TODO: exclude quotation marks\n",
    "    \n",
    "    if \"thank\" in tokens: # if we get a lexicon of gratitude I can check if any of those words are in tokens (can also use ngrams)\n",
    "        return True\n",
    "        \n",
    "    return False"
   ]
  },
  {
   "cell_type": "markdown",
   "metadata": {},
   "source": [
    "## Final classification"
   ]
  },
  {
   "cell_type": "code",
   "execution_count": 77,
   "metadata": {},
   "outputs": [],
   "source": [
    "def classify_conversation(speaker_responses, num_speaker_responses, num_listener_responses, conversation, speaker, listener):\n",
    "    return str(calculate_engagement(speaker, listener, conversation)[1] + \", \" + calculate_satisfaction(speaker_responses, conversation, speaker)[1])"
   ]
  },
  {
   "cell_type": "markdown",
   "metadata": {},
   "source": [
    "## Testing the measures with examples"
   ]
  },
  {
   "cell_type": "code",
   "execution_count": 78,
   "metadata": {},
   "outputs": [],
   "source": [
    "def test_examples(conversation_id):\n",
    "    conversation, speaker, listener, speaker_responses, listener_responses, num_speaker_responses, num_listener_responses = extract_responses(conversation_id)\n",
    "    plot_emotion_sentiment(speaker_responses)\n",
    "    print(\"Conversation length: \", len(conversation))\n",
    "    print(\"Speaker-listener turn difference: \", calculate_engagement(speaker, listener, conversation)[0], \" --> \", calculate_engagement(speaker, listener, conversation)[1])\n",
    "    print(\"Sentiment shift: \", calculate_satisfaction(speaker_responses, conversation, speaker)[0], \" with grateful bonus: \", calculate_satisfaction(speaker_responses, conversation, speaker)[2], \" --> \", calculate_satisfaction(speaker_responses, conversation, speaker)[1])\n",
    "    print(\"Classification summary: \", classify_conversation(speaker_responses, num_speaker_responses, num_listener_responses, conversation, speaker, listener))\n",
    "    print()"
   ]
  },
  {
   "cell_type": "code",
   "execution_count": 79,
   "metadata": {},
   "outputs": [
    {
     "data": {
      "text/html": [
       "<div>\n",
       "<style scoped>\n",
       "    .dataframe tbody tr th:only-of-type {\n",
       "        vertical-align: middle;\n",
       "    }\n",
       "\n",
       "    .dataframe tbody tr th {\n",
       "        vertical-align: top;\n",
       "    }\n",
       "\n",
       "    .dataframe thead th {\n",
       "        text-align: right;\n",
       "    }\n",
       "</style>\n",
       "<table border=\"1\" class=\"dataframe\">\n",
       "  <thead>\n",
       "    <tr style=\"text-align: right;\">\n",
       "      <th></th>\n",
       "      <th>conversation_id</th>\n",
       "      <th>subreddit</th>\n",
       "      <th>post_title</th>\n",
       "      <th>author</th>\n",
       "      <th>dialog_turn</th>\n",
       "      <th>text</th>\n",
       "      <th>compound</th>\n",
       "      <th>sentiment</th>\n",
       "      <th>emotion_prediction</th>\n",
       "    </tr>\n",
       "  </thead>\n",
       "  <tbody>\n",
       "    <tr>\n",
       "      <th>55</th>\n",
       "      <td>24</td>\n",
       "      <td>MentalHealthSupport</td>\n",
       "      <td>Threatened by a stranger about mental disability.</td>\n",
       "      <td>N08ody</td>\n",
       "      <td>1</td>\n",
       "      <td>How they knew ill never know... But SOMEONE told them that shouldnt have... Here goes... I was on my way home after an evaluation ( dont worry everyone,  still nutty) and i stop by the grocery store to pick up a few things. . and the cashier says, \" we pay for that, dont we?\" in relation to my purchase. How in the hell did a cashier know i was on disability? Giving me a reason, without an identifiable motive is a good way to get yourself hurt. Keep it up.</td>\n",
       "      <td>-0.8225</td>\n",
       "      <td>negative</td>\n",
       "      <td>anxious</td>\n",
       "    </tr>\n",
       "    <tr>\n",
       "      <th>56</th>\n",
       "      <td>24</td>\n",
       "      <td>MentalHealthSupport</td>\n",
       "      <td>Threatened by a stranger about mental disability.</td>\n",
       "      <td>shatterSquish</td>\n",
       "      <td>2</td>\n",
       "      <td>That doesn't sound at all like they knew you were on disability. I think you're jumping to conclusions here. For example, their comment would also make sense in another context: if they just had to deal with a shoplifting kid and had just given a lecture about how everyone needs to pay for the stuff they want.</td>\n",
       "      <td>0.3400</td>\n",
       "      <td>positive</td>\n",
       "      <td>anxious</td>\n",
       "    </tr>\n",
       "    <tr>\n",
       "      <th>57</th>\n",
       "      <td>24</td>\n",
       "      <td>MentalHealthSupport</td>\n",
       "      <td>Threatened by a stranger about mental disability.</td>\n",
       "      <td>N08ody</td>\n",
       "      <td>3</td>\n",
       "      <td>Hey squish. Thanks for not just telling me it was \"all in my head.\"</td>\n",
       "      <td>0.4404</td>\n",
       "      <td>positive</td>\n",
       "      <td>sentimental</td>\n",
       "    </tr>\n",
       "    <tr>\n",
       "      <th>58</th>\n",
       "      <td>24</td>\n",
       "      <td>MentalHealthSupport</td>\n",
       "      <td>Threatened by a stranger about mental disability.</td>\n",
       "      <td>N08ody</td>\n",
       "      <td>4</td>\n",
       "      <td>A. I wasnt shoplifting. And B. The phrase \"We pay for that, dont we?\" is not a normal phrase. Appreciate your input, but i disagree.</td>\n",
       "      <td>-0.4118</td>\n",
       "      <td>negative</td>\n",
       "      <td>guilty</td>\n",
       "    </tr>\n",
       "  </tbody>\n",
       "</table>\n",
       "</div>"
      ],
      "text/plain": [
       "    conversation_id            subreddit  \\\n",
       "55               24  MentalHealthSupport   \n",
       "56               24  MentalHealthSupport   \n",
       "57               24  MentalHealthSupport   \n",
       "58               24  MentalHealthSupport   \n",
       "\n",
       "                                           post_title         author  \\\n",
       "55  Threatened by a stranger about mental disability.         N08ody   \n",
       "56  Threatened by a stranger about mental disability.  shatterSquish   \n",
       "57  Threatened by a stranger about mental disability.         N08ody   \n",
       "58  Threatened by a stranger about mental disability.         N08ody   \n",
       "\n",
       "    dialog_turn  \\\n",
       "55            1   \n",
       "56            2   \n",
       "57            3   \n",
       "58            4   \n",
       "\n",
       "                                                                                                                                                                                                                                                                                                                                                                                                                                                                           text  \\\n",
       "55  How they knew ill never know... But SOMEONE told them that shouldnt have... Here goes... I was on my way home after an evaluation ( dont worry everyone,  still nutty) and i stop by the grocery store to pick up a few things. . and the cashier says, \" we pay for that, dont we?\" in relation to my purchase. How in the hell did a cashier know i was on disability? Giving me a reason, without an identifiable motive is a good way to get yourself hurt. Keep it up.   \n",
       "56                                                                                                                                                      That doesn't sound at all like they knew you were on disability. I think you're jumping to conclusions here. For example, their comment would also make sense in another context: if they just had to deal with a shoplifting kid and had just given a lecture about how everyone needs to pay for the stuff they want.   \n",
       "57                                                                                                                                                                                                                                                                                                                                                                                                          Hey squish. Thanks for not just telling me it was \"all in my head.\"   \n",
       "58                                                                                                                                                                                                                                                                                                                                         A. I wasnt shoplifting. And B. The phrase \"We pay for that, dont we?\" is not a normal phrase. Appreciate your input, but i disagree.   \n",
       "\n",
       "    compound sentiment emotion_prediction  \n",
       "55   -0.8225  negative            anxious  \n",
       "56    0.3400  positive            anxious  \n",
       "57    0.4404  positive        sentimental  \n",
       "58   -0.4118  negative             guilty  "
      ]
     },
     "execution_count": 79,
     "metadata": {},
     "output_type": "execute_result"
    }
   ],
   "source": [
    "df[df[\"conversation_id\"] == 24]"
   ]
  },
  {
   "cell_type": "code",
   "execution_count": 80,
   "metadata": {},
   "outputs": [
    {
     "name": "stdout",
     "output_type": "stream",
     "text": [
      "Conversation length:  4\n",
      "Speaker-listener turn difference:  1  -->  moderate engagement\n",
      "Sentiment shift:  0.21  with grateful bonus:  0  -->  neutral satisfaction\n",
      "Classification summary:  moderate engagement, neutral satisfaction\n",
      "\n"
     ]
    },
    {
     "data": {
      "image/png": "[encoded data removed]",
      "text/plain": [
       "<Figure size 478.725x360 with 1 Axes>"
      ]
     },
     "metadata": {},
     "output_type": "display_data"
    }
   ],
   "source": [
    "test_examples(24) "
   ]
  },
  {
   "cell_type": "markdown",
   "metadata": {},
   "source": [
    "### High engagement, positive satisfaction"
   ]
  },
  {
   "cell_type": "markdown",
   "metadata": {},
   "source": [
    "high engagement: 854, 1003, 1732"
   ]
  },
  {
   "cell_type": "markdown",
   "metadata": {},
   "source": [
    "low engagement: 77"
   ]
  },
  {
   "cell_type": "markdown",
   "metadata": {},
   "source": [
    "### High engagement, negative satisfaction"
   ]
  },
  {
   "cell_type": "markdown",
   "metadata": {},
   "source": [
    "### Moderate engagement, moderate satisfaction"
   ]
  },
  {
   "cell_type": "markdown",
   "metadata": {},
   "source": [
    "### Low engagement, neutral satisfaction"
   ]
  },
  {
   "cell_type": "markdown",
   "metadata": {},
   "source": [
    "## TODO: Improve these scoring functions"
   ]
  },
  {
   "cell_type": "markdown",
   "metadata": {},
   "source": [
    "Satisfaction: \n",
    "- Take off points if speaker got offended from listener's response\n",
    "- Find a lexicon of gratitude tokens\n",
    "\n",
    "Engagement:\n",
    "- Number of tokens speaker used to respond back (excluding the first turn) ++ \n",
    "- Check if the turns are interleaved (i.e. if there is interaction) ++\n",
    "- Change ratio to difference ++\n",
    "\n",
    "Examples:\n",
    "- A few examples showing low/moderate/high engagement/satisfaction\n"
   ]
  }
 ],
 "metadata": {
  "kernelspec": {
   "display_name": "Python 3",
   "language": "python",
   "name": "python3"
  },
  "language_info": {
   "codemirror_mode": {
    "name": "ipython",
    "version": 3
   },
   "file_extension": ".py",
   "mimetype": "text/x-python",
   "name": "python",
   "nbconvert_exporter": "python",
   "pygments_lexer": "ipython3",
   "version": "3.7.6"
  }
 },
 "nbformat": 4,
 "nbformat_minor": 4
}
