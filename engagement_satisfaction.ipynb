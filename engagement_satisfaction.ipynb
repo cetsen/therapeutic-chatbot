{
 "cells": [
  {
   "cell_type": "markdown",
   "metadata": {},
   "source": [
    "# Measuring Engagement and Satisfaction in Online Mental Health Platform Conversations"
   ]
  },
  {
   "cell_type": "markdown",
   "metadata": {},
   "source": [
    "## Data preprocessing"
   ]
  },
  {
   "cell_type": "code",
   "execution_count": 348,
   "metadata": {},
   "outputs": [],
   "source": [
    "import pandas as pd\n",
    "import numpy as np\n",
    "import matplotlib.pyplot as plt\n",
    "import seaborn as sns\n",
    "from sklearn.linear_model import LinearRegression\n",
    "from math import log10, floor\n",
    "import math\n",
    "import nltk"
   ]
  },
  {
   "cell_type": "code",
   "execution_count": 349,
   "metadata": {},
   "outputs": [],
   "source": [
    "# Display long column text\n",
    "pd.options.display.max_colwidth = 500\n",
    "\n",
    "df = pd.read_csv(\"mentalhealthsupport_dyadic_convs_clean_emotion.csv\")\n",
    "df = df.rename(columns={'conversation id': 'conversation_id', 'post title': 'post_title', 'dialog turn': 'dialog_turn', 'emotion prediction': 'emotion_prediction'})"
   ]
  },
  {
   "cell_type": "code",
   "execution_count": 350,
   "metadata": {},
   "outputs": [
    {
     "name": "stdout",
     "output_type": "stream",
     "text": [
      "Number of conversations in subreddit:  3551\n",
      "Number of monologues in subreddit:  29\n",
      "Number of dialogues longer than 2 turns in subreddit:  487\n"
     ]
    }
   ],
   "source": [
    "### --- CLEANING OUT CONVERSATIONS WITH ONLY 1 OR 2 TURN(S) FROM DATASET --- ###\n",
    "\n",
    "# Group data by conversation id and calculate count of each conversation id\n",
    "df_conv = df.groupby(\"conversation_id\").count()\n",
    "df_conv = df_conv.drop(columns=[\"subreddit\", \"post_title\", \"author\", \"text\", \"compound\", \"sentiment\", \"emotion_prediction\"])\n",
    "print(\"Number of conversations in subreddit: \", len(df_conv))\n",
    "\n",
    "# Separate conversation id's with a single occurrence as monologues\n",
    "df_mono = df_conv[df_conv[\"dialog_turn\"] == 1]\n",
    "print(\"Number of monologues in subreddit: \", len(df_mono))\n",
    "df_mono_ids = df_mono.reset_index()\n",
    "df_mono_ids = df_mono_ids[\"conversation_id\"]\n",
    "\n",
    "# Separate conversation id's with multiple occurrences as dialogues\n",
    "df_dia = df_conv[df_conv[\"dialog_turn\"] > 2]\n",
    "print(\"Number of dialogues longer than 2 turns in subreddit: \", len(df_dia))\n",
    "df_dia = df_dia.reset_index()\n",
    "df_dia = df_dia.drop(columns=['dialog_turn'])\n",
    "\n",
    "# Join dialogue conversation id's with original data such that only dialogues remain in the dataset\n",
    "df = df.join(df_dia.set_index('conversation_id'), on='conversation_id', how=\"right\") \n",
    "\n",
    "### ---------------------------------------------- ###"
   ]
  },
  {
   "cell_type": "markdown",
   "metadata": {},
   "source": [
    "# TODO: CLEAN OUT CONVERSATIONS OF ANY LENGTH WITH ONLY A SPEAKER (e.g. conversation id 25)"
   ]
  },
  {
   "cell_type": "code",
   "execution_count": 351,
   "metadata": {},
   "outputs": [],
   "source": [
    "# Round numbers to a given number of significant figures (default = 2)\n",
    "def round_sig(x, sig=2):\n",
    "    if x != 0:\n",
    "        return round(x, sig-int(floor(log10(abs(x))))-1)\n",
    "    else:\n",
    "        return"
   ]
  },
  {
   "cell_type": "markdown",
   "metadata": {},
   "source": [
    "## Measuring the level of engagement"
   ]
  },
  {
   "cell_type": "markdown",
   "metadata": {},
   "source": [
    "### Does the speaker respond back when the listener gives a response?"
   ]
  },
  {
   "cell_type": "code",
   "execution_count": 352,
   "metadata": {},
   "outputs": [],
   "source": [
    "def extract_responses(conversation):\n",
    "    speaker = conversation.author.iloc[0]\n",
    "    listener = conversation[conversation[\"author\"] != speaker][\"author\"].unique().item() \n",
    "    speaker_responses = conversation[conversation[\"author\"] == speaker]\n",
    "    listener_responses = conversation[conversation[\"author\"] == listener]\n",
    "    num_speaker_responses = len(speaker_responses)\n",
    "    num_listener_responses = len(listener_responses)\n",
    "    \n",
    "    return speaker, listener, speaker_responses, listener_responses, num_speaker_responses, num_listener_responses"
   ]
  },
  {
   "cell_type": "code",
   "execution_count": 353,
   "metadata": {},
   "outputs": [],
   "source": [
    "def calculate_engagement(speaker_responses, listener_responses, num_speaker_responses, num_listener_responses, conversation):\n",
    "    # SADECE FARKLARINI DEGIL INDIVIDUALLY SAYILARINI DA DIKKATE ALABILIRSIN \n",
    "    diff = calculate_turn_diff(num_speaker_responses, num_listener_responses)\n",
    "    num_turns = len(conversation)\n",
    "\n",
    "    engagement = \"\"\n",
    "    \n",
    "    if num_turns == 2:\n",
    "        engagement = \"low engagement\"\n",
    "        \n",
    "    elif num_turns == 3:\n",
    "        if num_speaker_responses == 2 and is_interleaved_conversation(speaker_responses, listener_responses) == True : \n",
    "            engagement = \"moderate engagement\" \n",
    "        else:\n",
    "            engagement = \"low engagement\"\n",
    "            \n",
    "    elif num_turns == 4:\n",
    "        if diff == 0:\n",
    "            engagement = \"high engagement\" \n",
    "        elif diff == 3: # (only if the 2nd turn is listener, add more if statements)\n",
    "            engagement = \"moderate engagement\"\n",
    "        elif diff == (1/3):\n",
    "            engagement = \"low engagement\"\n",
    "            \n",
    "    elif num_turns > 4: # \n",
    "        if diff >= 0.7 and diff <= 1.35:\n",
    "            engagement = \"high engagement\"\n",
    "        elif diff <= 0.5 or diff >= 1.5: # separate all conditions\n",
    "            engagement = \"low engagement\"\n",
    "        else:\n",
    "            engagement = \"moderate engagement\"\n",
    "        \n",
    "    return round_sig(diff), engagement"
   ]
  },
  {
   "cell_type": "code",
   "execution_count": 354,
   "metadata": {},
   "outputs": [],
   "source": [
    "# maybe remove this if you are not going to add anything else to the function\n",
    "def calculate_turn_diff(num_speaker_responses, num_listener_responses):\n",
    "    return num_speaker_responses - num_listener_responses"
   ]
  },
  {
   "cell_type": "code",
   "execution_count": 355,
   "metadata": {},
   "outputs": [],
   "source": [
    "#def calculate_speaker_token_length():\n",
    "    "
   ]
  },
  {
   "cell_type": "code",
   "execution_count": null,
   "metadata": {},
   "outputs": [],
   "source": [
    "#def merge_consecutive_speaker_responses():"
   ]
  },
  {
   "cell_type": "code",
   "execution_count": 397,
   "metadata": {},
   "outputs": [],
   "source": [
    "# TOASK: SHOULD I CHECK THIS FOR ANY CONVERSATION LENGTH OR JUST 3 OR 4? --> ACTUALLY, YOU NEED TO MERGE THE SPEAKER TURNS ONE AFTER THE OTHER AND THENNN CHECK THIS FUNCTION\n",
    "def is_interleaved_conversation(speaker_responses, listener_responses, num_speaker_responses, num_listener_responses):\n",
    "    diff = calculate_turn_diff(num_speaker_responses, num_listener_responses)\n",
    "    \n",
    "    if diff == 1 or diff == 0:\n",
    "        for i in range(0, num_speaker_responses - 1):\n",
    "            if listener_responses['dialog_turn'].iloc[i] == (speaker_responses['dialog_turn'].iloc[i] + 1):\n",
    "                continue\n",
    "            else:\n",
    "                return False\n",
    "        return True\n",
    "    return False"
   ]
  },
  {
   "cell_type": "markdown",
   "metadata": {},
   "source": [
    "### Does the listener ask any informative questions or give any suggestions? "
   ]
  },
  {
   "cell_type": "markdown",
   "metadata": {},
   "source": [
    "Unfortunately, the emotion predictions are very inaccurate. Normally, we could have given bonus points to questioning and/or suggesting listener responses. "
   ]
  },
  {
   "cell_type": "markdown",
   "metadata": {},
   "source": [
    "## Measuring the level of satisfaction"
   ]
  },
  {
   "cell_type": "markdown",
   "metadata": {},
   "source": [
    "### Shift of sentiment in speaker responses (sentiment trend)"
   ]
  },
  {
   "cell_type": "code",
   "execution_count": 357,
   "metadata": {},
   "outputs": [],
   "source": [
    "def plot_emotion_sentiment(speaker_responses):   \n",
    "    sns.set_theme(style=\"white\")\n",
    "    g = sns.relplot(x=\"dialog_turn\", y=\"compound\", hue=\"sentiment\", style=\"emotion_prediction\", palette=\"Set1\",data=speaker_responses, s=200)\n",
    "    g.fig.suptitle('Sentimental and Emotional Shift in Speaker Responses with Conversation Progression', fontsize=16)\n",
    "    g.fig.subplots_adjust(top=0.9);"
   ]
  },
  {
   "cell_type": "code",
   "execution_count": 358,
   "metadata": {},
   "outputs": [],
   "source": [
    "def calculate_satisfaction(speaker_responses, conversation):\n",
    "    satisfaction = \"\"\n",
    "\n",
    "    f = np.polyfit(speaker_responses['dialog_turn'], speaker_responses['compound'], deg=1)\n",
    "    slope = f[0]\n",
    "    \n",
    "    # If either the last speaker text is tagged with grateful & positive \n",
    "    # or if the last speaker text contains lexical details that express gratitude, add a bonus point to satisfaction.\n",
    "    grateful_bonus = 0\n",
    "    if check_grateful_positive()==True or check_lexical_details()==True:\n",
    "        grateful_bonus = 0.4\n",
    "        slope += grateful_bonus\n",
    "        \n",
    "    if len(conversation) == 2:\n",
    "        satisfaction = \"none\"\n",
    "    else:\n",
    "        if slope >= 0.8: \n",
    "            satisfaction = \"positive satisfaction\"\n",
    "        elif slope >= 0.4:\n",
    "            satisfaction = \"moderate satisfaction\"\n",
    "        elif slope < 0.4 and slope >= 0:\n",
    "            satisfaction = \"neutral satisfaction\"\n",
    "        elif slope < 0:\n",
    "            satisfaction = \"negative satisfaction\"\n",
    "            \n",
    "    return round_sig(slope), satisfaction, grateful_bonus"
   ]
  },
  {
   "cell_type": "markdown",
   "metadata": {},
   "source": [
    "### Check if the last speaker turn has grateful emotion and has positive sentiment"
   ]
  },
  {
   "cell_type": "code",
   "execution_count": 359,
   "metadata": {},
   "outputs": [],
   "source": [
    "# Return all emotions and the final emotion of the given responses\n",
    "def get_emotion_prediction():\n",
    "    emotions = speaker_responses[\"emotion_prediction\"]\n",
    "    final_emotion = emotions.iloc[-1]\n",
    "    \n",
    "    return emotions, final_emotion"
   ]
  },
  {
   "cell_type": "code",
   "execution_count": 360,
   "metadata": {},
   "outputs": [],
   "source": [
    "# Return all sentiments and the final sentiment of the given responses\n",
    "def get_sentiment():\n",
    "    sentiments = speaker_responses[\"sentiment\"]\n",
    "    final_sentiment = sentiments.iloc[-1]\n",
    "    \n",
    "    return sentiments, final_sentiment"
   ]
  },
  {
   "cell_type": "code",
   "execution_count": 361,
   "metadata": {},
   "outputs": [],
   "source": [
    "# Check if the last speaker emotion is grateful and its sentiment is positive. If yes, return true. Otherwise, return false.\n",
    "def check_grateful_positive():\n",
    "    _, final_sentiment = get_sentiment()\n",
    "    _, final_emotion = get_emotion_prediction()\n",
    "    \n",
    "    if final_sentiment == \"positive\" and final_emotion == \"grateful\":\n",
    "        return True\n",
    "    \n",
    "    return False"
   ]
  },
  {
   "cell_type": "markdown",
   "metadata": {},
   "source": [
    "### Check if the last speaker turn contains lexical details that express gratitude, e.g. \"Thank you\" or \"It means a lot\""
   ]
  },
  {
   "cell_type": "code",
   "execution_count": 362,
   "metadata": {},
   "outputs": [],
   "source": [
    "def check_lexical_details():\n",
    "    # TO ASK: I couldn't find a gratitude lexicon. Will I create one myself or is there one that I don't know of? e.g. appreciate --> manual inspection & research\n",
    "    \n",
    "    tokens = nltk.word_tokenize(speaker_responses[\"text\"].iloc[-1].lower())\n",
    "    \n",
    "    if \"thank\" in tokens: # if we get a lexicon of gratitude I can check if any of those words are in tokens (can also use ngrams)\n",
    "        return True\n",
    "        \n",
    "    return False"
   ]
  },
  {
   "cell_type": "markdown",
   "metadata": {},
   "source": [
    "## Final classification"
   ]
  },
  {
   "cell_type": "code",
   "execution_count": 363,
   "metadata": {},
   "outputs": [],
   "source": [
    "def classify_conversation(speaker_responses, num_speaker_responses, num_listener_responses, conversation):\n",
    "    return str(calculate_engagement(speaker_responses, listener_responses, num_speaker_responses, num_listener_responses, conversation)[1] + \", \" + calculate_satisfaction(speaker_responses, conversation)[1])"
   ]
  },
  {
   "cell_type": "markdown",
   "metadata": {},
   "source": [
    "## Testing the measures with examples"
   ]
  },
  {
   "cell_type": "code",
   "execution_count": 370,
   "metadata": {},
   "outputs": [],
   "source": [
    "def test_examples(conversation_id):\n",
    "    conversation = df[df[\"conversation_id\"] == conversation_id]\n",
    "    speaker, listener, speaker_responses, listener_responses, num_speaker_responses, num_listener_responses = extract_responses(conversation)\n",
    "    plot_emotion_sentiment(speaker_responses)\n",
    "    print(\"Conversation length: \", len(conversation))\n",
    "    print(\"Speaker-listener turn difference: \", calculate_engagement(speaker_responses, listener_responses, num_speaker_responses, num_listener_responses, conversation)[0], \" --> \", calculate_engagement(speaker_responses, listener_responses, num_speaker_responses, num_listener_responses, conversation)[1])\n",
    "    print(\"Sentiment shift: \", calculate_satisfaction(speaker_responses, conversation)[0], \" with grateful bonus: \", calculate_satisfaction(speaker_responses, conversation)[2], \" --> \", calculate_satisfaction(speaker_responses, conversation)[1])\n",
    "    print(\"Classification summary: \", classify_conversation(speaker_responses, num_speaker_responses, num_listener_responses, conversation))\n",
    "    print()"
   ]
  },
  {
   "cell_type": "code",
   "execution_count": 377,
   "metadata": {},
   "outputs": [
    {
     "data": {
      "text/html": [
       "<div>\n",
       "<style scoped>\n",
       "    .dataframe tbody tr th:only-of-type {\n",
       "        vertical-align: middle;\n",
       "    }\n",
       "\n",
       "    .dataframe tbody tr th {\n",
       "        vertical-align: top;\n",
       "    }\n",
       "\n",
       "    .dataframe thead th {\n",
       "        text-align: right;\n",
       "    }\n",
       "</style>\n",
       "<table border=\"1\" class=\"dataframe\">\n",
       "  <thead>\n",
       "    <tr style=\"text-align: right;\">\n",
       "      <th></th>\n",
       "      <th>conversation_id</th>\n",
       "      <th>subreddit</th>\n",
       "      <th>post_title</th>\n",
       "      <th>author</th>\n",
       "      <th>dialog_turn</th>\n",
       "      <th>text</th>\n",
       "      <th>compound</th>\n",
       "      <th>sentiment</th>\n",
       "      <th>emotion_prediction</th>\n",
       "    </tr>\n",
       "  </thead>\n",
       "  <tbody>\n",
       "    <tr>\n",
       "      <th>85</th>\n",
       "      <td>37</td>\n",
       "      <td>MentalHealthSupport</td>\n",
       "      <td>As a minor, what can I not tell my therapist without my mom finding out?</td>\n",
       "      <td>slacktherin</td>\n",
       "      <td>1</td>\n",
       "      <td>If my mom was aware of certain things, I'd be kicked out, hence why I ask.</td>\n",
       "      <td>0.2732</td>\n",
       "      <td>positive</td>\n",
       "      <td>joyful</td>\n",
       "    </tr>\n",
       "    <tr>\n",
       "      <th>86</th>\n",
       "      <td>37</td>\n",
       "      <td>MentalHealthSupport</td>\n",
       "      <td>As a minor, what can I not tell my therapist without my mom finding out?</td>\n",
       "      <td>Leena52</td>\n",
       "      <td>2</td>\n",
       "      <td>It may depend upon the State regulations for mental health professional therapists where you live.  In Texas the parent has access to all as does the pay or (insurance provider). That is unless the therapist provides you with proof otherwise.   I would ask the therapists.</td>\n",
       "      <td>-0.1027</td>\n",
       "      <td>negative</td>\n",
       "      <td>faithful</td>\n",
       "    </tr>\n",
       "    <tr>\n",
       "      <th>87</th>\n",
       "      <td>37</td>\n",
       "      <td>MentalHealthSupport</td>\n",
       "      <td>As a minor, what can I not tell my therapist without my mom finding out?</td>\n",
       "      <td>slacktherin</td>\n",
       "      <td>3</td>\n",
       "      <td>Shit, okay</td>\n",
       "      <td>-0.4019</td>\n",
       "      <td>negative</td>\n",
       "      <td>sentimental</td>\n",
       "    </tr>\n",
       "  </tbody>\n",
       "</table>\n",
       "</div>"
      ],
      "text/plain": [
       "    conversation_id            subreddit  \\\n",
       "85               37  MentalHealthSupport   \n",
       "86               37  MentalHealthSupport   \n",
       "87               37  MentalHealthSupport   \n",
       "\n",
       "                                                                  post_title  \\\n",
       "85  As a minor, what can I not tell my therapist without my mom finding out?   \n",
       "86  As a minor, what can I not tell my therapist without my mom finding out?   \n",
       "87  As a minor, what can I not tell my therapist without my mom finding out?   \n",
       "\n",
       "         author  dialog_turn  \\\n",
       "85  slacktherin            1   \n",
       "86      Leena52            2   \n",
       "87  slacktherin            3   \n",
       "\n",
       "                                                                                                                                                                                                                                                                                 text  \\\n",
       "85                                                                                                                                                                                                         If my mom was aware of certain things, I'd be kicked out, hence why I ask.   \n",
       "86  It may depend upon the State regulations for mental health professional therapists where you live.  In Texas the parent has access to all as does the pay or (insurance provider). That is unless the therapist provides you with proof otherwise.   I would ask the therapists.    \n",
       "87                                                                                                                                                                                                                                                                        Shit, okay    \n",
       "\n",
       "    compound sentiment emotion_prediction  \n",
       "85    0.2732  positive             joyful  \n",
       "86   -0.1027  negative           faithful  \n",
       "87   -0.4019  negative        sentimental  "
      ]
     },
     "execution_count": 377,
     "metadata": {},
     "output_type": "execute_result"
    }
   ],
   "source": [
    "df[df[\"conversation_id\"] == 37]"
   ]
  },
  {
   "cell_type": "code",
   "execution_count": 376,
   "metadata": {},
   "outputs": [
    {
     "name": "stdout",
     "output_type": "stream",
     "text": [
      "Conversation length:  3\n"
     ]
    },
    {
     "ename": "TypeError",
     "evalue": "is_interleaved_conversation() missing 2 required positional arguments: 'num_speaker_responses' and 'num_listener_responses'",
     "output_type": "error",
     "traceback": [
      "\u001b[0;31m---------------------------------------------------------------------------\u001b[0m",
      "\u001b[0;31mTypeError\u001b[0m                                 Traceback (most recent call last)",
      "\u001b[0;32m<ipython-input-376-79283b68d306>\u001b[0m in \u001b[0;36m<module>\u001b[0;34m\u001b[0m\n\u001b[0;32m----> 1\u001b[0;31m \u001b[0mtest_examples\u001b[0m\u001b[0;34m(\u001b[0m\u001b[0;36m37\u001b[0m\u001b[0;34m)\u001b[0m\u001b[0;34m\u001b[0m\u001b[0;34m\u001b[0m\u001b[0m\n\u001b[0m",
      "\u001b[0;32m<ipython-input-370-fbe9ea676751>\u001b[0m in \u001b[0;36mtest_examples\u001b[0;34m(conversation_id)\u001b[0m\n\u001b[1;32m      4\u001b[0m     \u001b[0mplot_emotion_sentiment\u001b[0m\u001b[0;34m(\u001b[0m\u001b[0mspeaker_responses\u001b[0m\u001b[0;34m)\u001b[0m\u001b[0;34m\u001b[0m\u001b[0;34m\u001b[0m\u001b[0m\n\u001b[1;32m      5\u001b[0m     \u001b[0mprint\u001b[0m\u001b[0;34m(\u001b[0m\u001b[0;34m\"Conversation length: \"\u001b[0m\u001b[0;34m,\u001b[0m \u001b[0mlen\u001b[0m\u001b[0;34m(\u001b[0m\u001b[0mconversation\u001b[0m\u001b[0;34m)\u001b[0m\u001b[0;34m)\u001b[0m\u001b[0;34m\u001b[0m\u001b[0;34m\u001b[0m\u001b[0m\n\u001b[0;32m----> 6\u001b[0;31m     \u001b[0mprint\u001b[0m\u001b[0;34m(\u001b[0m\u001b[0;34m\"Speaker-listener turn difference: \"\u001b[0m\u001b[0;34m,\u001b[0m \u001b[0mcalculate_engagement\u001b[0m\u001b[0;34m(\u001b[0m\u001b[0mspeaker_responses\u001b[0m\u001b[0;34m,\u001b[0m \u001b[0mlistener_responses\u001b[0m\u001b[0;34m,\u001b[0m \u001b[0mnum_speaker_responses\u001b[0m\u001b[0;34m,\u001b[0m \u001b[0mnum_listener_responses\u001b[0m\u001b[0;34m,\u001b[0m \u001b[0mconversation\u001b[0m\u001b[0;34m)\u001b[0m\u001b[0;34m[\u001b[0m\u001b[0;36m0\u001b[0m\u001b[0;34m]\u001b[0m\u001b[0;34m,\u001b[0m \u001b[0;34m\" --> \"\u001b[0m\u001b[0;34m,\u001b[0m \u001b[0mcalculate_engagement\u001b[0m\u001b[0;34m(\u001b[0m\u001b[0mspeaker_responses\u001b[0m\u001b[0;34m,\u001b[0m \u001b[0mlistener_responses\u001b[0m\u001b[0;34m,\u001b[0m \u001b[0mnum_speaker_responses\u001b[0m\u001b[0;34m,\u001b[0m \u001b[0mnum_listener_responses\u001b[0m\u001b[0;34m,\u001b[0m \u001b[0mconversation\u001b[0m\u001b[0;34m)\u001b[0m\u001b[0;34m[\u001b[0m\u001b[0;36m1\u001b[0m\u001b[0;34m]\u001b[0m\u001b[0;34m)\u001b[0m\u001b[0;34m\u001b[0m\u001b[0;34m\u001b[0m\u001b[0m\n\u001b[0m\u001b[1;32m      7\u001b[0m     \u001b[0mprint\u001b[0m\u001b[0;34m(\u001b[0m\u001b[0;34m\"Sentiment shift: \"\u001b[0m\u001b[0;34m,\u001b[0m \u001b[0mcalculate_satisfaction\u001b[0m\u001b[0;34m(\u001b[0m\u001b[0mspeaker_responses\u001b[0m\u001b[0;34m,\u001b[0m \u001b[0mconversation\u001b[0m\u001b[0;34m)\u001b[0m\u001b[0;34m[\u001b[0m\u001b[0;36m0\u001b[0m\u001b[0;34m]\u001b[0m\u001b[0;34m,\u001b[0m \u001b[0;34m\" with grateful bonus: \"\u001b[0m\u001b[0;34m,\u001b[0m \u001b[0mcalculate_satisfaction\u001b[0m\u001b[0;34m(\u001b[0m\u001b[0mspeaker_responses\u001b[0m\u001b[0;34m,\u001b[0m \u001b[0mconversation\u001b[0m\u001b[0;34m)\u001b[0m\u001b[0;34m[\u001b[0m\u001b[0;36m2\u001b[0m\u001b[0;34m]\u001b[0m\u001b[0;34m,\u001b[0m \u001b[0;34m\" --> \"\u001b[0m\u001b[0;34m,\u001b[0m \u001b[0mcalculate_satisfaction\u001b[0m\u001b[0;34m(\u001b[0m\u001b[0mspeaker_responses\u001b[0m\u001b[0;34m,\u001b[0m \u001b[0mconversation\u001b[0m\u001b[0;34m)\u001b[0m\u001b[0;34m[\u001b[0m\u001b[0;36m1\u001b[0m\u001b[0;34m]\u001b[0m\u001b[0;34m)\u001b[0m\u001b[0;34m\u001b[0m\u001b[0;34m\u001b[0m\u001b[0m\n\u001b[1;32m      8\u001b[0m     \u001b[0mprint\u001b[0m\u001b[0;34m(\u001b[0m\u001b[0;34m\"Classification summary: \"\u001b[0m\u001b[0;34m,\u001b[0m \u001b[0mclassify_conversation\u001b[0m\u001b[0;34m(\u001b[0m\u001b[0mspeaker_responses\u001b[0m\u001b[0;34m,\u001b[0m \u001b[0mnum_speaker_responses\u001b[0m\u001b[0;34m,\u001b[0m \u001b[0mnum_listener_responses\u001b[0m\u001b[0;34m,\u001b[0m \u001b[0mconversation\u001b[0m\u001b[0;34m)\u001b[0m\u001b[0;34m)\u001b[0m\u001b[0;34m\u001b[0m\u001b[0;34m\u001b[0m\u001b[0m\n",
      "\u001b[0;32m<ipython-input-353-fed740c5ae89>\u001b[0m in \u001b[0;36mcalculate_engagement\u001b[0;34m(speaker_responses, listener_responses, num_speaker_responses, num_listener_responses, conversation)\u001b[0m\n\u001b[1;32m     10\u001b[0m \u001b[0;34m\u001b[0m\u001b[0m\n\u001b[1;32m     11\u001b[0m     \u001b[0;32melif\u001b[0m \u001b[0mnum_turns\u001b[0m \u001b[0;34m==\u001b[0m \u001b[0;36m3\u001b[0m\u001b[0;34m:\u001b[0m\u001b[0;34m\u001b[0m\u001b[0;34m\u001b[0m\u001b[0m\n\u001b[0;32m---> 12\u001b[0;31m         \u001b[0;32mif\u001b[0m \u001b[0mnum_speaker_responses\u001b[0m \u001b[0;34m==\u001b[0m \u001b[0;36m2\u001b[0m \u001b[0;32mand\u001b[0m \u001b[0mis_interleaved_conversation\u001b[0m\u001b[0;34m(\u001b[0m\u001b[0mspeaker_responses\u001b[0m\u001b[0;34m,\u001b[0m \u001b[0mlistener_responses\u001b[0m\u001b[0;34m)\u001b[0m \u001b[0;34m==\u001b[0m \u001b[0;32mTrue\u001b[0m \u001b[0;34m:\u001b[0m\u001b[0;34m\u001b[0m\u001b[0;34m\u001b[0m\u001b[0m\n\u001b[0m\u001b[1;32m     13\u001b[0m             \u001b[0mengagement\u001b[0m \u001b[0;34m=\u001b[0m \u001b[0;34m\"moderate engagement\"\u001b[0m\u001b[0;34m\u001b[0m\u001b[0;34m\u001b[0m\u001b[0m\n\u001b[1;32m     14\u001b[0m         \u001b[0;32melse\u001b[0m\u001b[0;34m:\u001b[0m\u001b[0;34m\u001b[0m\u001b[0;34m\u001b[0m\u001b[0m\n",
      "\u001b[0;31mTypeError\u001b[0m: is_interleaved_conversation() missing 2 required positional arguments: 'num_speaker_responses' and 'num_listener_responses'"
     ]
    },
    {
     "data": {
      "image/png": "[encoded data removed]",
      "text/plain": [
       "<Figure size 478.725x360 with 1 Axes>"
      ]
     },
     "metadata": {},
     "output_type": "display_data"
    }
   ],
   "source": [
    "test_examples(37)"
   ]
  },
  {
   "cell_type": "code",
   "execution_count": 395,
   "metadata": {},
   "outputs": [
    {
     "data": {
      "text/plain": [
       "True"
      ]
     },
     "execution_count": 395,
     "metadata": {},
     "output_type": "execute_result"
    }
   ],
   "source": [
    "conversation = df[df[\"conversation_id\"] == 56]\n",
    "speaker, listener, speaker_responses, listener_responses, num_speaker_responses, num_listener_responses = extract_responses(conversation)\n",
    "is_interleaved_conversation(speaker_responses, listener_responses, num_speaker_responses, num_listener_responses)"
   ]
  },
  {
   "cell_type": "code",
   "execution_count": 396,
   "metadata": {},
   "outputs": [
    {
     "data": {
      "text/html": [
       "<div>\n",
       "<style scoped>\n",
       "    .dataframe tbody tr th:only-of-type {\n",
       "        vertical-align: middle;\n",
       "    }\n",
       "\n",
       "    .dataframe tbody tr th {\n",
       "        vertical-align: top;\n",
       "    }\n",
       "\n",
       "    .dataframe thead th {\n",
       "        text-align: right;\n",
       "    }\n",
       "</style>\n",
       "<table border=\"1\" class=\"dataframe\">\n",
       "  <thead>\n",
       "    <tr style=\"text-align: right;\">\n",
       "      <th></th>\n",
       "      <th>conversation_id</th>\n",
       "      <th>subreddit</th>\n",
       "      <th>post_title</th>\n",
       "      <th>author</th>\n",
       "      <th>dialog_turn</th>\n",
       "      <th>text</th>\n",
       "      <th>compound</th>\n",
       "      <th>sentiment</th>\n",
       "      <th>emotion_prediction</th>\n",
       "    </tr>\n",
       "  </thead>\n",
       "  <tbody>\n",
       "    <tr>\n",
       "      <th>125</th>\n",
       "      <td>56</td>\n",
       "      <td>MentalHealthSupport</td>\n",
       "      <td>histrionic personality disorder</td>\n",
       "      <td>anuspain420</td>\n",
       "      <td>1</td>\n",
       "      <td>haven't seen any posts about it on here, wondering here if anyone else has it? ;^^</td>\n",
       "      <td>0.0000</td>\n",
       "      <td>neutral</td>\n",
       "      <td>sentimental</td>\n",
       "    </tr>\n",
       "    <tr>\n",
       "      <th>126</th>\n",
       "      <td>56</td>\n",
       "      <td>MentalHealthSupport</td>\n",
       "      <td>histrionic personality disorder</td>\n",
       "      <td>berry_cherry</td>\n",
       "      <td>2</td>\n",
       "      <td>I've never met anyone who has been diagnosed with HPD actually.  Even online I don't see people talk about it very much.  I have definitely met people who fit the symptoms (in my mind) but even all the treatment I've been in I've never met someone who admitted to be dx'd with HPD.   Do you have it?  What is it like?  What are your symptoms?  I am very interested in it and I actually kind of suspect my sister has it or NPD.</td>\n",
       "      <td>0.8290</td>\n",
       "      <td>positive</td>\n",
       "      <td>lonely</td>\n",
       "    </tr>\n",
       "    <tr>\n",
       "      <th>127</th>\n",
       "      <td>56</td>\n",
       "      <td>MentalHealthSupport</td>\n",
       "      <td>histrionic personality disorder</td>\n",
       "      <td>anuspain420</td>\n",
       "      <td>3</td>\n",
       "      <td>Not professionally diagnosed, so no. But I do assume I have it seeing I fit the criteria for it. It's pretty awful considering you have to have the spotlight on you all the time, and then people are mad at you because you don't understand that they can't have attention from others.</td>\n",
       "      <td>-0.1901</td>\n",
       "      <td>negative</td>\n",
       "      <td>embarrassed</td>\n",
       "    </tr>\n",
       "  </tbody>\n",
       "</table>\n",
       "</div>"
      ],
      "text/plain": [
       "     conversation_id            subreddit                       post_title  \\\n",
       "125               56  MentalHealthSupport  histrionic personality disorder   \n",
       "126               56  MentalHealthSupport  histrionic personality disorder   \n",
       "127               56  MentalHealthSupport  histrionic personality disorder   \n",
       "\n",
       "           author  dialog_turn  \\\n",
       "125   anuspain420            1   \n",
       "126  berry_cherry            2   \n",
       "127   anuspain420            3   \n",
       "\n",
       "                                                                                                                                                                                                                                                                                                                                                                                                                                           text  \\\n",
       "125                                                                                                                                                                                                                                                                                                                                                          haven't seen any posts about it on here, wondering here if anyone else has it? ;^^   \n",
       "126  I've never met anyone who has been diagnosed with HPD actually.  Even online I don't see people talk about it very much.  I have definitely met people who fit the symptoms (in my mind) but even all the treatment I've been in I've never met someone who admitted to be dx'd with HPD.   Do you have it?  What is it like?  What are your symptoms?  I am very interested in it and I actually kind of suspect my sister has it or NPD.   \n",
       "127                                                                                                                                                 Not professionally diagnosed, so no. But I do assume I have it seeing I fit the criteria for it. It's pretty awful considering you have to have the spotlight on you all the time, and then people are mad at you because you don't understand that they can't have attention from others.    \n",
       "\n",
       "     compound sentiment emotion_prediction  \n",
       "125    0.0000   neutral        sentimental  \n",
       "126    0.8290  positive             lonely  \n",
       "127   -0.1901  negative        embarrassed  "
      ]
     },
     "execution_count": 396,
     "metadata": {},
     "output_type": "execute_result"
    }
   ],
   "source": [
    "conversation"
   ]
  },
  {
   "cell_type": "markdown",
   "metadata": {},
   "source": [
    "### High engagement, positive satisfaction"
   ]
  },
  {
   "cell_type": "markdown",
   "metadata": {},
   "source": [
    "### High engagement, negative satisfaction"
   ]
  },
  {
   "cell_type": "markdown",
   "metadata": {},
   "source": [
    "### Moderate engagement, moderate satisfaction"
   ]
  },
  {
   "cell_type": "markdown",
   "metadata": {},
   "source": [
    "### Low engagement, neutral satisfaction"
   ]
  },
  {
   "cell_type": "markdown",
   "metadata": {},
   "source": [
    "## Emotion prediction is not accurate at all..."
   ]
  },
  {
   "cell_type": "code",
   "execution_count": 367,
   "metadata": {},
   "outputs": [],
   "source": [
    "#conversation_bad_emotion_prediction_example = df[df[\"conversation_id\"] == 1754]\n",
    "#conversation_bad_emotion_prediction_example"
   ]
  },
  {
   "cell_type": "markdown",
   "metadata": {},
   "source": [
    "When we check the emotion predictions, we see that most of them are very inaccurate. The sentiment tags are more accurate, but sometimes they fail too."
   ]
  },
  {
   "cell_type": "code",
   "execution_count": 368,
   "metadata": {},
   "outputs": [],
   "source": [
    "#df[df[\"emotion_prediction\"]==\"questioning\"]"
   ]
  },
  {
   "cell_type": "markdown",
   "metadata": {},
   "source": [
    "The questioning tags are not accurate either. Only one of the statements that are tagged with the questioning tag are actually questioning."
   ]
  },
  {
   "cell_type": "code",
   "execution_count": 369,
   "metadata": {},
   "outputs": [],
   "source": [
    "#df[df[\"emotion_prediction\"]==\"suggesting\"]"
   ]
  },
  {
   "cell_type": "markdown",
   "metadata": {},
   "source": [
    "There are no turns tagged as suggesting."
   ]
  },
  {
   "cell_type": "markdown",
   "metadata": {},
   "source": [
    "## TODO: Improve these scoring functions"
   ]
  },
  {
   "cell_type": "markdown",
   "metadata": {},
   "source": [
    "Satisfaction: \n",
    "- Take off points if speaker got offended from listener's response\n",
    "- Find a lexicon of gratitude tokens\n",
    "\n",
    "Engagement:\n",
    "- Number of tokens speaker used to respond back (excluding the first turn), i.e. when the speaker responds back, is it a shorter/longer response elaborating the situation\n",
    "- Check if the turns are interleaved (i.e. if there is interaction)\n",
    "- Change ratio to difference\n",
    "\n",
    "Examples:\n",
    "- A few examples showing low/moderate/high engagement/satisfaction\n"
   ]
  }
 ],
 "metadata": {
  "kernelspec": {
   "display_name": "Python 3",
   "language": "python",
   "name": "python3"
  },
  "language_info": {
   "codemirror_mode": {
    "name": "ipython",
    "version": 3
   },
   "file_extension": ".py",
   "mimetype": "text/x-python",
   "name": "python",
   "nbconvert_exporter": "python",
   "pygments_lexer": "ipython3",
   "version": "3.7.6"
  }
 },
 "nbformat": 4,
 "nbformat_minor": 4
}
