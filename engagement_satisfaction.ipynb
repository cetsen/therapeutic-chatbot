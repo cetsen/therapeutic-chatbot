{
 "cells": [
  {
   "cell_type": "markdown",
   "metadata": {},
   "source": [
    "# Measuring Engagement and Satisfaction in Online Mental Health Platform Conversations"
   ]
  },
  {
   "cell_type": "markdown",
   "metadata": {},
   "source": [
    "## Data preprocessing"
   ]
  },
  {
   "cell_type": "code",
   "execution_count": 369,
   "metadata": {},
   "outputs": [],
   "source": [
    "import pandas as pd\n",
    "import numpy as np\n",
    "import matplotlib.pyplot as plt\n",
    "import seaborn as sns\n",
    "from sklearn.linear_model import LinearRegression\n",
    "pd.options.display.max_colwidth = 500"
   ]
  },
  {
   "cell_type": "code",
   "execution_count": 370,
   "metadata": {},
   "outputs": [],
   "source": [
    "df = pd.read_csv(\"mentalhealthsupport_dyadic_convs_clean_emotion.csv\")"
   ]
  },
  {
   "cell_type": "code",
   "execution_count": 371,
   "metadata": {},
   "outputs": [
    {
     "data": {
      "text/html": [
       "<div>\n",
       "<style scoped>\n",
       "    .dataframe tbody tr th:only-of-type {\n",
       "        vertical-align: middle;\n",
       "    }\n",
       "\n",
       "    .dataframe tbody tr th {\n",
       "        vertical-align: top;\n",
       "    }\n",
       "\n",
       "    .dataframe thead th {\n",
       "        text-align: right;\n",
       "    }\n",
       "</style>\n",
       "<table border=\"1\" class=\"dataframe\">\n",
       "  <thead>\n",
       "    <tr style=\"text-align: right;\">\n",
       "      <th></th>\n",
       "      <th>conversation id</th>\n",
       "      <th>subreddit</th>\n",
       "      <th>post title</th>\n",
       "      <th>author</th>\n",
       "      <th>dialog turn</th>\n",
       "      <th>text</th>\n",
       "      <th>compound</th>\n",
       "      <th>sentiment</th>\n",
       "      <th>emotion prediction</th>\n",
       "    </tr>\n",
       "  </thead>\n",
       "  <tbody>\n",
       "  </tbody>\n",
       "</table>\n",
       "</div>"
      ],
      "text/plain": [
       "Empty DataFrame\n",
       "Columns: [conversation id, subreddit, post title, author, dialog turn, text, compound, sentiment, emotion prediction]\n",
       "Index: []"
      ]
     },
     "execution_count": 371,
     "metadata": {},
     "output_type": "execute_result"
    }
   ],
   "source": [
    "df.head(0)"
   ]
  },
  {
   "cell_type": "code",
   "execution_count": 372,
   "metadata": {},
   "outputs": [
    {
     "data": {
      "text/html": [
       "<div>\n",
       "<style scoped>\n",
       "    .dataframe tbody tr th:only-of-type {\n",
       "        vertical-align: middle;\n",
       "    }\n",
       "\n",
       "    .dataframe tbody tr th {\n",
       "        vertical-align: top;\n",
       "    }\n",
       "\n",
       "    .dataframe thead th {\n",
       "        text-align: right;\n",
       "    }\n",
       "</style>\n",
       "<table border=\"1\" class=\"dataframe\">\n",
       "  <thead>\n",
       "    <tr style=\"text-align: right;\">\n",
       "      <th></th>\n",
       "      <th>conversation_id</th>\n",
       "      <th>subreddit</th>\n",
       "      <th>post_title</th>\n",
       "      <th>author</th>\n",
       "      <th>dialog_turn</th>\n",
       "      <th>text</th>\n",
       "      <th>compound</th>\n",
       "      <th>sentiment</th>\n",
       "      <th>emotion_prediction</th>\n",
       "    </tr>\n",
       "  </thead>\n",
       "  <tbody>\n",
       "    <tr>\n",
       "      <th>0</th>\n",
       "      <td>1</td>\n",
       "      <td>MentalHealthSupport</td>\n",
       "      <td>DBT cheat sheet, for when you need a quick reminder</td>\n",
       "      <td>missfittnc</td>\n",
       "      <td>1</td>\n",
       "      <td>[DBT Skils over view](http://www.dbtselfhelp.com/html/dbt_skills_list.html)</td>\n",
       "      <td>0.0000</td>\n",
       "      <td>neutral</td>\n",
       "      <td>anticipating</td>\n",
       "    </tr>\n",
       "    <tr>\n",
       "      <th>1</th>\n",
       "      <td>1</td>\n",
       "      <td>MentalHealthSupport</td>\n",
       "      <td>DBT cheat sheet, for when you need a quick reminder</td>\n",
       "      <td>skbloom</td>\n",
       "      <td>2</td>\n",
       "      <td>Thanks for sharing!</td>\n",
       "      <td>0.7177</td>\n",
       "      <td>positive</td>\n",
       "      <td>grateful</td>\n",
       "    </tr>\n",
       "    <tr>\n",
       "      <th>2</th>\n",
       "      <td>2</td>\n",
       "      <td>MentalHealthSupport</td>\n",
       "      <td>[BPD] Difficulty in avoiding drama</td>\n",
       "      <td>I_Am_Jacks_BPD</td>\n",
       "      <td>1</td>\n",
       "      <td>*** **All names have been changed to protect the guilty** ***  It's been two days since my meltdown subsided. I spent the better part of yesterday feeling numb, which is par for the course. I'm doing even better today. I spent the first half hour of waking up laying on the couch reading my news feed and browsing Reddit instead of sleeping for 2-3 hours.  Anyway, as I sit here listening to music and sifting through the events of the past three weeks, I've come to the realization that my need ...</td>\n",
       "      <td>0.9654</td>\n",
       "      <td>positive</td>\n",
       "      <td>anticipating</td>\n",
       "    </tr>\n",
       "    <tr>\n",
       "      <th>3</th>\n",
       "      <td>2</td>\n",
       "      <td>MentalHealthSupport</td>\n",
       "      <td>[BPD] Difficulty in avoiding drama</td>\n",
       "      <td>redsaidfred</td>\n",
       "      <td>2</td>\n",
       "      <td>The best advice someone ever told me was... \"I am NOT in control. I CANNOT change someone else's behaviour. Just let it go, and the universe will unfold as it should.\" Felt like the weight of the world was lifted. I need to remind myself constantly...</td>\n",
       "      <td>0.7717</td>\n",
       "      <td>positive</td>\n",
       "      <td>faithful</td>\n",
       "    </tr>\n",
       "    <tr>\n",
       "      <th>4</th>\n",
       "      <td>3</td>\n",
       "      <td>MentalHealthSupport</td>\n",
       "      <td>How are you today and what's your recovery progress?</td>\n",
       "      <td>professorplumdidit</td>\n",
       "      <td>1</td>\n",
       "      <td>I thought maybe we should just do a thread to support each other in our own individual recovery goals as well as generally how people are feeling.</td>\n",
       "      <td>0.6486</td>\n",
       "      <td>positive</td>\n",
       "      <td>hopeful</td>\n",
       "    </tr>\n",
       "  </tbody>\n",
       "</table>\n",
       "</div>"
      ],
      "text/plain": [
       "   conversation_id            subreddit  \\\n",
       "0                1  MentalHealthSupport   \n",
       "1                1  MentalHealthSupport   \n",
       "2                2  MentalHealthSupport   \n",
       "3                2  MentalHealthSupport   \n",
       "4                3  MentalHealthSupport   \n",
       "\n",
       "                                             post_title              author  \\\n",
       "0   DBT cheat sheet, for when you need a quick reminder          missfittnc   \n",
       "1   DBT cheat sheet, for when you need a quick reminder             skbloom   \n",
       "2                    [BPD] Difficulty in avoiding drama      I_Am_Jacks_BPD   \n",
       "3                    [BPD] Difficulty in avoiding drama         redsaidfred   \n",
       "4  How are you today and what's your recovery progress?  professorplumdidit   \n",
       "\n",
       "   dialog_turn  \\\n",
       "0            1   \n",
       "1            2   \n",
       "2            1   \n",
       "3            2   \n",
       "4            1   \n",
       "\n",
       "                                                                                                                                                                                                                                                                                                                                                                                                                                                                                                                  text  \\\n",
       "0                                                                                                                                                                                                                                                                                                                                                                                                                                          [DBT Skils over view](http://www.dbtselfhelp.com/html/dbt_skills_list.html)   \n",
       "1                                                                                                                                                                                                                                                                                                                                                                                                                                                                                                 Thanks for sharing!    \n",
       "2  *** **All names have been changed to protect the guilty** ***  It's been two days since my meltdown subsided. I spent the better part of yesterday feeling numb, which is par for the course. I'm doing even better today. I spent the first half hour of waking up laying on the couch reading my news feed and browsing Reddit instead of sleeping for 2-3 hours.  Anyway, as I sit here listening to music and sifting through the events of the past three weeks, I've come to the realization that my need ...   \n",
       "3                                                                                                                                                                                                                                                          The best advice someone ever told me was... \"I am NOT in control. I CANNOT change someone else's behaviour. Just let it go, and the universe will unfold as it should.\" Felt like the weight of the world was lifted. I need to remind myself constantly...   \n",
       "4                                                                                                                                                                                                                                                                                                                                                                   I thought maybe we should just do a thread to support each other in our own individual recovery goals as well as generally how people are feeling.   \n",
       "\n",
       "   compound sentiment emotion_prediction  \n",
       "0    0.0000   neutral       anticipating  \n",
       "1    0.7177  positive           grateful  \n",
       "2    0.9654  positive       anticipating  \n",
       "3    0.7717  positive           faithful  \n",
       "4    0.6486  positive            hopeful  "
      ]
     },
     "execution_count": 372,
     "metadata": {},
     "output_type": "execute_result"
    }
   ],
   "source": [
    "df = df.rename(columns={'conversation id': 'conversation_id', 'post title': 'post_title', 'dialog turn': 'dialog_turn', 'emotion prediction': 'emotion_prediction'})\n",
    "df.head()"
   ]
  },
  {
   "cell_type": "code",
   "execution_count": 373,
   "metadata": {},
   "outputs": [
    {
     "name": "stdout",
     "output_type": "stream",
     "text": [
      "Number of conversations in subreddit:  3551\n",
      "Number of monologues in subreddit:  29\n",
      "Number of dialogues in subreddit:  3522\n"
     ]
    }
   ],
   "source": [
    "### --- CLEANING OUT MONOLOGUES FROM DATASET --- ###\n",
    "\n",
    "# Group data by conversation id and calculate count of each conversation id\n",
    "df_conv = df.groupby(\"conversation_id\").count()\n",
    "df_conv = df_conv.drop(columns=[\"subreddit\", \"post_title\", \"author\", \"text\", \"compound\", \"sentiment\", \"emotion_prediction\"])\n",
    "print(\"Number of conversations in subreddit: \", len(df_conv))\n",
    "\n",
    "# Separate conversation id's with a single occurrence as monologues\n",
    "df_mono = df_conv[df_conv[\"dialog_turn\"] == 1]\n",
    "print(\"Number of monologues in subreddit: \", len(df_mono))\n",
    "df_mono_ids = df_mono.reset_index()\n",
    "df_mono_ids = df_mono_ids[\"conversation_id\"]\n",
    "\n",
    "# Separate conversation id's with multiple occurrences as dialogues\n",
    "df_dia = df_conv[df_conv[\"dialog_turn\"] > 1]\n",
    "print(\"Number of dialogues in subreddit: \", len(df_dia))\n",
    "df_dia = df_dia.reset_index()\n",
    "df_dia = df_dia.drop(columns=['dialog_turn'])\n",
    "\n",
    "# Join dialogue conversation id's with original data such that only dialogues remain in the dataset\n",
    "df = df.join(df_dia.set_index('conversation_id'), on='conversation_id', how=\"right\") \n",
    "\n",
    "### ---------------------------------------------- ###"
   ]
  },
  {
   "cell_type": "code",
   "execution_count": 374,
   "metadata": {},
   "outputs": [
    {
     "data": {
      "text/html": [
       "<div>\n",
       "<style scoped>\n",
       "    .dataframe tbody tr th:only-of-type {\n",
       "        vertical-align: middle;\n",
       "    }\n",
       "\n",
       "    .dataframe tbody tr th {\n",
       "        vertical-align: top;\n",
       "    }\n",
       "\n",
       "    .dataframe thead th {\n",
       "        text-align: right;\n",
       "    }\n",
       "</style>\n",
       "<table border=\"1\" class=\"dataframe\">\n",
       "  <thead>\n",
       "    <tr style=\"text-align: right;\">\n",
       "      <th></th>\n",
       "      <th>conversation_id</th>\n",
       "      <th>subreddit</th>\n",
       "      <th>post_title</th>\n",
       "      <th>author</th>\n",
       "      <th>dialog_turn</th>\n",
       "      <th>text</th>\n",
       "      <th>compound</th>\n",
       "      <th>sentiment</th>\n",
       "      <th>emotion_prediction</th>\n",
       "    </tr>\n",
       "  </thead>\n",
       "  <tbody>\n",
       "    <tr>\n",
       "      <th>2418</th>\n",
       "      <td>1003</td>\n",
       "      <td>MentalHealthSupport</td>\n",
       "      <td>Mood swings from random bits of information.</td>\n",
       "      <td>q-6u</td>\n",
       "      <td>1</td>\n",
       "      <td>A bit of background information. I smoked weed twice in my life, first time in november of 2018 and second in april of 2019. both times i had extreme panic attacks that were amplified by my depersonalization disorder. I get really stressed out when I think about those episodes I had, and worry about death constantly.    Recently, my girlfriend has admitted to me that she’s been smoking weed regularly for over a year. I don’t know why, but that bothered me and put me in a really depressed moo...</td>\n",
       "      <td>-0.9820</td>\n",
       "      <td>negative</td>\n",
       "      <td>grateful</td>\n",
       "    </tr>\n",
       "    <tr>\n",
       "      <th>2419</th>\n",
       "      <td>1003</td>\n",
       "      <td>MentalHealthSupport</td>\n",
       "      <td>Mood swings from random bits of information.</td>\n",
       "      <td>you_are_marvelous</td>\n",
       "      <td>2</td>\n",
       "      <td>Well, I'm going to take a stab at it and say that you have mixed feelings and anxiety because you've been raised to think of weed as a bad thing and it's been demonized. So there's already a stigma there for you when it comes to the drug. Then there's the other side of it, which is you tried it, you had a severe panic attack (which can happen depending on the type of weed. I've had one as well with some kinds, and not with others. And I've had depersonalization on weed too. Your frame of min...</td>\n",
       "      <td>-0.8813</td>\n",
       "      <td>negative</td>\n",
       "      <td>anxious</td>\n",
       "    </tr>\n",
       "    <tr>\n",
       "      <th>2420</th>\n",
       "      <td>1003</td>\n",
       "      <td>MentalHealthSupport</td>\n",
       "      <td>Mood swings from random bits of information.</td>\n",
       "      <td>q-6u</td>\n",
       "      <td>3</td>\n",
       "      <td>you hit the nail on the head with that egg analogy. except if i were you, i’d be under this false idea that eggs are killing everyone and turning them into shitty burnouts. i don’t know why.</td>\n",
       "      <td>-0.8402</td>\n",
       "      <td>negative</td>\n",
       "      <td>sentimental</td>\n",
       "    </tr>\n",
       "    <tr>\n",
       "      <th>2421</th>\n",
       "      <td>1003</td>\n",
       "      <td>MentalHealthSupport</td>\n",
       "      <td>Mood swings from random bits of information.</td>\n",
       "      <td>you_are_marvelous</td>\n",
       "      <td>4</td>\n",
       "      <td>Awww. I’m sorry you feel that way. I’d look into why you’re having that reaction to it. 💗</td>\n",
       "      <td>0.6808</td>\n",
       "      <td>positive</td>\n",
       "      <td>sentimental</td>\n",
       "    </tr>\n",
       "    <tr>\n",
       "      <th>2422</th>\n",
       "      <td>1003</td>\n",
       "      <td>MentalHealthSupport</td>\n",
       "      <td>Mood swings from random bits of information.</td>\n",
       "      <td>q-6u</td>\n",
       "      <td>5</td>\n",
       "      <td>i feel so alone in my life and it eats me up inside to hear that the one i love is having a normal reaction to it. i feel left out and angry at the same time and i just cut my wrists tonight to get my mind off of her. i’m a fucking wreck</td>\n",
       "      <td>-0.7192</td>\n",
       "      <td>negative</td>\n",
       "      <td>embarrassed</td>\n",
       "    </tr>\n",
       "    <tr>\n",
       "      <th>2423</th>\n",
       "      <td>1003</td>\n",
       "      <td>MentalHealthSupport</td>\n",
       "      <td>Mood swings from random bits of information.</td>\n",
       "      <td>you_are_marvelous</td>\n",
       "      <td>6</td>\n",
       "      <td>Did you self-harm or attempt suicide? Are you okay?!</td>\n",
       "      <td>-0.6430</td>\n",
       "      <td>negative</td>\n",
       "      <td>sentimental</td>\n",
       "    </tr>\n",
       "    <tr>\n",
       "      <th>2424</th>\n",
       "      <td>1003</td>\n",
       "      <td>MentalHealthSupport</td>\n",
       "      <td>Mood swings from random bits of information.</td>\n",
       "      <td>q-6u</td>\n",
       "      <td>7</td>\n",
       "      <td>self harm.</td>\n",
       "      <td>-0.5423</td>\n",
       "      <td>negative</td>\n",
       "      <td>surprised</td>\n",
       "    </tr>\n",
       "    <tr>\n",
       "      <th>2425</th>\n",
       "      <td>1003</td>\n",
       "      <td>MentalHealthSupport</td>\n",
       "      <td>Mood swings from random bits of information.</td>\n",
       "      <td>you_are_marvelous</td>\n",
       "      <td>8</td>\n",
       "      <td>How are you doing today?</td>\n",
       "      <td>0.0000</td>\n",
       "      <td>neutral</td>\n",
       "      <td>grateful</td>\n",
       "    </tr>\n",
       "    <tr>\n",
       "      <th>2426</th>\n",
       "      <td>1003</td>\n",
       "      <td>MentalHealthSupport</td>\n",
       "      <td>Mood swings from random bits of information.</td>\n",
       "      <td>q-6u</td>\n",
       "      <td>9</td>\n",
       "      <td>i’ve been mych, much better since i last logged into reddit.    thanks for sticking around, and for your help. seriously.</td>\n",
       "      <td>0.7783</td>\n",
       "      <td>positive</td>\n",
       "      <td>grateful</td>\n",
       "    </tr>\n",
       "    <tr>\n",
       "      <th>2427</th>\n",
       "      <td>1003</td>\n",
       "      <td>MentalHealthSupport</td>\n",
       "      <td>Mood swings from random bits of information.</td>\n",
       "      <td>you_are_marvelous</td>\n",
       "      <td>10</td>\n",
       "      <td>So glad to hear that! And you’re very welcome. :)</td>\n",
       "      <td>0.8795</td>\n",
       "      <td>positive</td>\n",
       "      <td>anticipating</td>\n",
       "    </tr>\n",
       "  </tbody>\n",
       "</table>\n",
       "</div>"
      ],
      "text/plain": [
       "      conversation_id            subreddit  \\\n",
       "2418             1003  MentalHealthSupport   \n",
       "2419             1003  MentalHealthSupport   \n",
       "2420             1003  MentalHealthSupport   \n",
       "2421             1003  MentalHealthSupport   \n",
       "2422             1003  MentalHealthSupport   \n",
       "2423             1003  MentalHealthSupport   \n",
       "2424             1003  MentalHealthSupport   \n",
       "2425             1003  MentalHealthSupport   \n",
       "2426             1003  MentalHealthSupport   \n",
       "2427             1003  MentalHealthSupport   \n",
       "\n",
       "                                        post_title             author  \\\n",
       "2418  Mood swings from random bits of information.               q-6u   \n",
       "2419  Mood swings from random bits of information.  you_are_marvelous   \n",
       "2420  Mood swings from random bits of information.               q-6u   \n",
       "2421  Mood swings from random bits of information.  you_are_marvelous   \n",
       "2422  Mood swings from random bits of information.               q-6u   \n",
       "2423  Mood swings from random bits of information.  you_are_marvelous   \n",
       "2424  Mood swings from random bits of information.               q-6u   \n",
       "2425  Mood swings from random bits of information.  you_are_marvelous   \n",
       "2426  Mood swings from random bits of information.               q-6u   \n",
       "2427  Mood swings from random bits of information.  you_are_marvelous   \n",
       "\n",
       "      dialog_turn  \\\n",
       "2418            1   \n",
       "2419            2   \n",
       "2420            3   \n",
       "2421            4   \n",
       "2422            5   \n",
       "2423            6   \n",
       "2424            7   \n",
       "2425            8   \n",
       "2426            9   \n",
       "2427           10   \n",
       "\n",
       "                                                                                                                                                                                                                                                                                                                                                                                                                                                                                                                     text  \\\n",
       "2418  A bit of background information. I smoked weed twice in my life, first time in november of 2018 and second in april of 2019. both times i had extreme panic attacks that were amplified by my depersonalization disorder. I get really stressed out when I think about those episodes I had, and worry about death constantly.    Recently, my girlfriend has admitted to me that she’s been smoking weed regularly for over a year. I don’t know why, but that bothered me and put me in a really depressed moo...   \n",
       "2419  Well, I'm going to take a stab at it and say that you have mixed feelings and anxiety because you've been raised to think of weed as a bad thing and it's been demonized. So there's already a stigma there for you when it comes to the drug. Then there's the other side of it, which is you tried it, you had a severe panic attack (which can happen depending on the type of weed. I've had one as well with some kinds, and not with others. And I've had depersonalization on weed too. Your frame of min...   \n",
       "2420                                                                                                                                                                                                                                                                                                                       you hit the nail on the head with that egg analogy. except if i were you, i’d be under this false idea that eggs are killing everyone and turning them into shitty burnouts. i don’t know why.   \n",
       "2421                                                                                                                                                                                                                                                                                                                                                                                                                            Awww. I’m sorry you feel that way. I’d look into why you’re having that reaction to it. 💗   \n",
       "2422                                                                                                                                                                                                                                                                        i feel so alone in my life and it eats me up inside to hear that the one i love is having a normal reaction to it. i feel left out and angry at the same time and i just cut my wrists tonight to get my mind off of her. i’m a fucking wreck   \n",
       "2423                                                                                                                                                                                                                                                                                                                                                                                                                                                                 Did you self-harm or attempt suicide? Are you okay?!   \n",
       "2424                                                                                                                                                                                                                                                                                                                                                                                                                                                                                                           self harm.   \n",
       "2425                                                                                                                                                                                                                                                                                                                                                                                                                                                                                             How are you doing today?   \n",
       "2426                                                                                                                                                                                                                                                                                                                                                                                            i’ve been mych, much better since i last logged into reddit.    thanks for sticking around, and for your help. seriously.   \n",
       "2427                                                                                                                                                                                                                                                                                                                                                                                                                                                                    So glad to hear that! And you’re very welcome. :)   \n",
       "\n",
       "      compound sentiment emotion_prediction  \n",
       "2418   -0.9820  negative           grateful  \n",
       "2419   -0.8813  negative            anxious  \n",
       "2420   -0.8402  negative        sentimental  \n",
       "2421    0.6808  positive        sentimental  \n",
       "2422   -0.7192  negative        embarrassed  \n",
       "2423   -0.6430  negative        sentimental  \n",
       "2424   -0.5423  negative          surprised  \n",
       "2425    0.0000   neutral           grateful  \n",
       "2426    0.7783  positive           grateful  \n",
       "2427    0.8795  positive       anticipating  "
      ]
     },
     "execution_count": 374,
     "metadata": {},
     "output_type": "execute_result"
    }
   ],
   "source": [
    "conversation = df[df[\"conversation_id\"] == 1003]\n",
    "conversation"
   ]
  },
  {
   "cell_type": "markdown",
   "metadata": {},
   "source": [
    "## Measuring the level of engagement"
   ]
  },
  {
   "cell_type": "markdown",
   "metadata": {},
   "source": [
    "### Does the speaker respond back when the listener gives a response?"
   ]
  },
  {
   "cell_type": "code",
   "execution_count": 375,
   "metadata": {},
   "outputs": [],
   "source": [
    "def extract_responses(conversation):\n",
    "    speaker = conversation.author.iloc[0]\n",
    "    listener = conversation[conversation[\"author\"] != speaker][\"author\"].unique().item()\n",
    "    speaker_responses = conversation[conversation[\"author\"] == speaker]\n",
    "    listener_responses = conversation[conversation[\"author\"] == listener]\n",
    "    num_speaker_responses = len(speaker_responses)\n",
    "    num_listener_responses = len(listener_responses)\n",
    "    \n",
    "    return speaker, listener, speaker_responses, listener_responses, num_speaker_responses, num_listener_responses"
   ]
  },
  {
   "cell_type": "code",
   "execution_count": 376,
   "metadata": {},
   "outputs": [],
   "source": [
    "def calculate_speaker_listener_ratio(conversation):\n",
    "    _, _, _, _, num_speaker_responses, num_listener_responses = extract_responses(conversation)\n",
    "    speaker_listener_ratio = num_speaker_responses / num_listener_responses\n",
    "    \n",
    "    engagement = \"\"\n",
    "    if len(conversation) == 2:\n",
    "        engagement = \"low\"\n",
    "    elif len(conversation) <= 4 and speaker_listener_ratio < 1:\n",
    "        engagement = \"low\"\n",
    "    elif len(conversation) <= 4 and speaker_listener_ratio >= 1:\n",
    "        engagement = \"moderate\"\n",
    "    elif len(conversation) >= 4 and speaker_listener_ratio < 1:\n",
    "        engagement = \"moderate\"\n",
    "    elif len(conversation) >= 4  and speaker_listener_ratio >= 1:\n",
    "        engagement = \"high\"\n",
    "        \n",
    "    return speaker_listener_ratio, engagement"
   ]
  },
  {
   "cell_type": "code",
   "execution_count": 377,
   "metadata": {},
   "outputs": [
    {
     "data": {
      "text/plain": [
       "(1.0, 'high')"
      ]
     },
     "execution_count": 377,
     "metadata": {},
     "output_type": "execute_result"
    }
   ],
   "source": [
    "calculate_speaker_listener_ratio(conversation)"
   ]
  },
  {
   "cell_type": "markdown",
   "metadata": {},
   "source": [
    "### Does the listener ask any informative questions or give any suggestions? "
   ]
  },
  {
   "cell_type": "code",
   "execution_count": 378,
   "metadata": {},
   "outputs": [],
   "source": [
    "speaker, listener, speaker_responses, listener_responses, num_speaker_responses, num_listener_responses = extract_responses(conversation)"
   ]
  },
  {
   "cell_type": "code",
   "execution_count": 379,
   "metadata": {},
   "outputs": [
    {
     "data": {
      "text/html": [
       "<div>\n",
       "<style scoped>\n",
       "    .dataframe tbody tr th:only-of-type {\n",
       "        vertical-align: middle;\n",
       "    }\n",
       "\n",
       "    .dataframe tbody tr th {\n",
       "        vertical-align: top;\n",
       "    }\n",
       "\n",
       "    .dataframe thead th {\n",
       "        text-align: right;\n",
       "    }\n",
       "</style>\n",
       "<table border=\"1\" class=\"dataframe\">\n",
       "  <thead>\n",
       "    <tr style=\"text-align: right;\">\n",
       "      <th></th>\n",
       "      <th>conversation_id</th>\n",
       "      <th>subreddit</th>\n",
       "      <th>post_title</th>\n",
       "      <th>author</th>\n",
       "      <th>dialog_turn</th>\n",
       "      <th>text</th>\n",
       "      <th>compound</th>\n",
       "      <th>sentiment</th>\n",
       "      <th>emotion_prediction</th>\n",
       "    </tr>\n",
       "  </thead>\n",
       "  <tbody>\n",
       "    <tr>\n",
       "      <th>799</th>\n",
       "      <td>342</td>\n",
       "      <td>MentalHealthSupport</td>\n",
       "      <td>Mental Health in the Black Community</td>\n",
       "      <td>yadadameannn</td>\n",
       "      <td>4</td>\n",
       "      <td>thanks man. We just got everything fixed. We were working on coding this weekend. Everything is fine now.</td>\n",
       "      <td>0.5719</td>\n",
       "      <td>positive</td>\n",
       "      <td>questioning</td>\n",
       "    </tr>\n",
       "    <tr>\n",
       "      <th>1070</th>\n",
       "      <td>455</td>\n",
       "      <td>MentalHealthSupport</td>\n",
       "      <td>I’m really struggling</td>\n",
       "      <td>McThrowaway42069</td>\n",
       "      <td>2</td>\n",
       "      <td>Dont. No matter how bad it seems there a people who care for you. You are loved, don't hurt the people who care about you.</td>\n",
       "      <td>0.8635</td>\n",
       "      <td>positive</td>\n",
       "      <td>questioning</td>\n",
       "    </tr>\n",
       "    <tr>\n",
       "      <th>1361</th>\n",
       "      <td>578</td>\n",
       "      <td>MentalHealthSupport</td>\n",
       "      <td>Let Me Introduce Myself</td>\n",
       "      <td>antwerpbanana</td>\n",
       "      <td>2</td>\n",
       "      <td>Hi Caty, thank you for sharing your story. I hope we can be of help to you here.</td>\n",
       "      <td>0.8720</td>\n",
       "      <td>positive</td>\n",
       "      <td>questioning</td>\n",
       "    </tr>\n",
       "    <tr>\n",
       "      <th>4239</th>\n",
       "      <td>1761</td>\n",
       "      <td>MentalHealthSupport</td>\n",
       "      <td>Feel awful</td>\n",
       "      <td>TheBassClarinetBoy</td>\n",
       "      <td>2</td>\n",
       "      <td>Hey friend. I’m recommend talking with people you trust about this, and trying to find professional help</td>\n",
       "      <td>0.8934</td>\n",
       "      <td>positive</td>\n",
       "      <td>questioning</td>\n",
       "    </tr>\n",
       "    <tr>\n",
       "      <th>5636</th>\n",
       "      <td>2414</td>\n",
       "      <td>MentalHealthSupport</td>\n",
       "      <td>Need help! Mental health destroying relationship...</td>\n",
       "      <td>Rock-it1</td>\n",
       "      <td>2</td>\n",
       "      <td>Therapist here. Can you provide a few more details?</td>\n",
       "      <td>0.0000</td>\n",
       "      <td>neutral</td>\n",
       "      <td>questioning</td>\n",
       "    </tr>\n",
       "  </tbody>\n",
       "</table>\n",
       "</div>"
      ],
      "text/plain": [
       "      conversation_id            subreddit  \\\n",
       "799               342  MentalHealthSupport   \n",
       "1070              455  MentalHealthSupport   \n",
       "1361              578  MentalHealthSupport   \n",
       "4239             1761  MentalHealthSupport   \n",
       "5636             2414  MentalHealthSupport   \n",
       "\n",
       "                                               post_title              author  \\\n",
       "799                  Mental Health in the Black Community        yadadameannn   \n",
       "1070                                I’m really struggling    McThrowaway42069   \n",
       "1361                              Let Me Introduce Myself       antwerpbanana   \n",
       "4239                                           Feel awful  TheBassClarinetBoy   \n",
       "5636  Need help! Mental health destroying relationship...            Rock-it1   \n",
       "\n",
       "      dialog_turn  \\\n",
       "799             4   \n",
       "1070            2   \n",
       "1361            2   \n",
       "4239            2   \n",
       "5636            2   \n",
       "\n",
       "                                                                                                                            text  \\\n",
       "799                   thanks man. We just got everything fixed. We were working on coding this weekend. Everything is fine now.    \n",
       "1070  Dont. No matter how bad it seems there a people who care for you. You are loved, don't hurt the people who care about you.   \n",
       "1361                                            Hi Caty, thank you for sharing your story. I hope we can be of help to you here.   \n",
       "4239                    Hey friend. I’m recommend talking with people you trust about this, and trying to find professional help   \n",
       "5636                                                                         Therapist here. Can you provide a few more details?   \n",
       "\n",
       "      compound sentiment emotion_prediction  \n",
       "799     0.5719  positive        questioning  \n",
       "1070    0.8635  positive        questioning  \n",
       "1361    0.8720  positive        questioning  \n",
       "4239    0.8934  positive        questioning  \n",
       "5636    0.0000   neutral        questioning  "
      ]
     },
     "execution_count": 379,
     "metadata": {},
     "output_type": "execute_result"
    }
   ],
   "source": [
    "df[df[\"emotion_prediction\"]==\"questioning\"]"
   ]
  },
  {
   "cell_type": "code",
   "execution_count": 380,
   "metadata": {},
   "outputs": [
    {
     "name": "stdout",
     "output_type": "stream",
     "text": [
      "799    thanks man. We just got everything fixed. We were working on coding this weekend. Everything is fine now. \n",
      "Name: text, dtype: object\n",
      "1070    Dont. No matter how bad it seems there a people who care for you. You are loved, don't hurt the people who care about you.\n",
      "Name: text, dtype: object\n",
      "1361    Hi Caty, thank you for sharing your story. I hope we can be of help to you here.\n",
      "Name: text, dtype: object\n",
      "4239    Hey friend. I’m recommend talking with people you trust about this, and trying to find professional help\n",
      "Name: text, dtype: object\n",
      "5636    Therapist here. Can you provide a few more details?\n",
      "Name: text, dtype: object\n"
     ]
    }
   ],
   "source": [
    "print(df[(df[\"conversation_id\"]==342) & (df[\"dialog_turn\"]==4)][\"text\"])\n",
    "print(df[(df[\"conversation_id\"]==455) & (df[\"dialog_turn\"]==2)][\"text\"])\n",
    "print(df[(df[\"conversation_id\"]==578) & (df[\"dialog_turn\"]==2)][\"text\"])\n",
    "print(df[(df[\"conversation_id\"]==1761) & (df[\"dialog_turn\"]==2)][\"text\"])\n",
    "print(df[(df[\"conversation_id\"]==2414) & (df[\"dialog_turn\"]==2)][\"text\"])"
   ]
  },
  {
   "cell_type": "markdown",
   "metadata": {},
   "source": [
    "The emotion prediction tags are not very accurate. Only the last of the listener responses above are questioning. "
   ]
  },
  {
   "cell_type": "code",
   "execution_count": 381,
   "metadata": {},
   "outputs": [
    {
     "data": {
      "text/html": [
       "<div>\n",
       "<style scoped>\n",
       "    .dataframe tbody tr th:only-of-type {\n",
       "        vertical-align: middle;\n",
       "    }\n",
       "\n",
       "    .dataframe tbody tr th {\n",
       "        vertical-align: top;\n",
       "    }\n",
       "\n",
       "    .dataframe thead th {\n",
       "        text-align: right;\n",
       "    }\n",
       "</style>\n",
       "<table border=\"1\" class=\"dataframe\">\n",
       "  <thead>\n",
       "    <tr style=\"text-align: right;\">\n",
       "      <th></th>\n",
       "      <th>conversation_id</th>\n",
       "      <th>subreddit</th>\n",
       "      <th>post_title</th>\n",
       "      <th>author</th>\n",
       "      <th>dialog_turn</th>\n",
       "      <th>text</th>\n",
       "      <th>compound</th>\n",
       "      <th>sentiment</th>\n",
       "      <th>emotion_prediction</th>\n",
       "    </tr>\n",
       "  </thead>\n",
       "  <tbody>\n",
       "  </tbody>\n",
       "</table>\n",
       "</div>"
      ],
      "text/plain": [
       "Empty DataFrame\n",
       "Columns: [conversation_id, subreddit, post_title, author, dialog_turn, text, compound, sentiment, emotion_prediction]\n",
       "Index: []"
      ]
     },
     "execution_count": 381,
     "metadata": {},
     "output_type": "execute_result"
    }
   ],
   "source": [
    "df[df[\"emotion_prediction\"]==\"suggesting\"]"
   ]
  },
  {
   "cell_type": "markdown",
   "metadata": {},
   "source": [
    "There are no posts with a suggesting tag in this subreddit. Therefore, it cannot be utilized in the calculation of the engagement measure."
   ]
  },
  {
   "cell_type": "markdown",
   "metadata": {},
   "source": [
    "### How the literature measures engagement"
   ]
  },
  {
   "cell_type": "markdown",
   "metadata": {},
   "source": [
    "## Measuring the level of satisfaction"
   ]
  },
  {
   "cell_type": "markdown",
   "metadata": {},
   "source": [
    "### Lexical details: \"Thank you\", \"It means a lot\""
   ]
  },
  {
   "cell_type": "markdown",
   "metadata": {},
   "source": [
    "### Shift of sentiment in speaker responses (sentiment trend)"
   ]
  },
  {
   "cell_type": "code",
   "execution_count": 382,
   "metadata": {},
   "outputs": [
    {
     "data": {
      "text/html": [
       "<div>\n",
       "<style scoped>\n",
       "    .dataframe tbody tr th:only-of-type {\n",
       "        vertical-align: middle;\n",
       "    }\n",
       "\n",
       "    .dataframe tbody tr th {\n",
       "        vertical-align: top;\n",
       "    }\n",
       "\n",
       "    .dataframe thead th {\n",
       "        text-align: right;\n",
       "    }\n",
       "</style>\n",
       "<table border=\"1\" class=\"dataframe\">\n",
       "  <thead>\n",
       "    <tr style=\"text-align: right;\">\n",
       "      <th></th>\n",
       "      <th>conversation_id</th>\n",
       "      <th>subreddit</th>\n",
       "      <th>post_title</th>\n",
       "      <th>author</th>\n",
       "      <th>dialog_turn</th>\n",
       "      <th>text</th>\n",
       "      <th>compound</th>\n",
       "      <th>sentiment</th>\n",
       "      <th>emotion_prediction</th>\n",
       "    </tr>\n",
       "  </thead>\n",
       "  <tbody>\n",
       "    <tr>\n",
       "      <th>2418</th>\n",
       "      <td>1003</td>\n",
       "      <td>MentalHealthSupport</td>\n",
       "      <td>Mood swings from random bits of information.</td>\n",
       "      <td>q-6u</td>\n",
       "      <td>1</td>\n",
       "      <td>A bit of background information. I smoked weed twice in my life, first time in november of 2018 and second in april of 2019. both times i had extreme panic attacks that were amplified by my depersonalization disorder. I get really stressed out when I think about those episodes I had, and worry about death constantly.    Recently, my girlfriend has admitted to me that she’s been smoking weed regularly for over a year. I don’t know why, but that bothered me and put me in a really depressed moo...</td>\n",
       "      <td>-0.9820</td>\n",
       "      <td>negative</td>\n",
       "      <td>grateful</td>\n",
       "    </tr>\n",
       "    <tr>\n",
       "      <th>2420</th>\n",
       "      <td>1003</td>\n",
       "      <td>MentalHealthSupport</td>\n",
       "      <td>Mood swings from random bits of information.</td>\n",
       "      <td>q-6u</td>\n",
       "      <td>3</td>\n",
       "      <td>you hit the nail on the head with that egg analogy. except if i were you, i’d be under this false idea that eggs are killing everyone and turning them into shitty burnouts. i don’t know why.</td>\n",
       "      <td>-0.8402</td>\n",
       "      <td>negative</td>\n",
       "      <td>sentimental</td>\n",
       "    </tr>\n",
       "    <tr>\n",
       "      <th>2422</th>\n",
       "      <td>1003</td>\n",
       "      <td>MentalHealthSupport</td>\n",
       "      <td>Mood swings from random bits of information.</td>\n",
       "      <td>q-6u</td>\n",
       "      <td>5</td>\n",
       "      <td>i feel so alone in my life and it eats me up inside to hear that the one i love is having a normal reaction to it. i feel left out and angry at the same time and i just cut my wrists tonight to get my mind off of her. i’m a fucking wreck</td>\n",
       "      <td>-0.7192</td>\n",
       "      <td>negative</td>\n",
       "      <td>embarrassed</td>\n",
       "    </tr>\n",
       "    <tr>\n",
       "      <th>2424</th>\n",
       "      <td>1003</td>\n",
       "      <td>MentalHealthSupport</td>\n",
       "      <td>Mood swings from random bits of information.</td>\n",
       "      <td>q-6u</td>\n",
       "      <td>7</td>\n",
       "      <td>self harm.</td>\n",
       "      <td>-0.5423</td>\n",
       "      <td>negative</td>\n",
       "      <td>surprised</td>\n",
       "    </tr>\n",
       "    <tr>\n",
       "      <th>2426</th>\n",
       "      <td>1003</td>\n",
       "      <td>MentalHealthSupport</td>\n",
       "      <td>Mood swings from random bits of information.</td>\n",
       "      <td>q-6u</td>\n",
       "      <td>9</td>\n",
       "      <td>i’ve been mych, much better since i last logged into reddit.    thanks for sticking around, and for your help. seriously.</td>\n",
       "      <td>0.7783</td>\n",
       "      <td>positive</td>\n",
       "      <td>grateful</td>\n",
       "    </tr>\n",
       "  </tbody>\n",
       "</table>\n",
       "</div>"
      ],
      "text/plain": [
       "      conversation_id            subreddit  \\\n",
       "2418             1003  MentalHealthSupport   \n",
       "2420             1003  MentalHealthSupport   \n",
       "2422             1003  MentalHealthSupport   \n",
       "2424             1003  MentalHealthSupport   \n",
       "2426             1003  MentalHealthSupport   \n",
       "\n",
       "                                        post_title author  dialog_turn  \\\n",
       "2418  Mood swings from random bits of information.   q-6u            1   \n",
       "2420  Mood swings from random bits of information.   q-6u            3   \n",
       "2422  Mood swings from random bits of information.   q-6u            5   \n",
       "2424  Mood swings from random bits of information.   q-6u            7   \n",
       "2426  Mood swings from random bits of information.   q-6u            9   \n",
       "\n",
       "                                                                                                                                                                                                                                                                                                                                                                                                                                                                                                                     text  \\\n",
       "2418  A bit of background information. I smoked weed twice in my life, first time in november of 2018 and second in april of 2019. both times i had extreme panic attacks that were amplified by my depersonalization disorder. I get really stressed out when I think about those episodes I had, and worry about death constantly.    Recently, my girlfriend has admitted to me that she’s been smoking weed regularly for over a year. I don’t know why, but that bothered me and put me in a really depressed moo...   \n",
       "2420                                                                                                                                                                                                                                                                                                                       you hit the nail on the head with that egg analogy. except if i were you, i’d be under this false idea that eggs are killing everyone and turning them into shitty burnouts. i don’t know why.   \n",
       "2422                                                                                                                                                                                                                                                                        i feel so alone in my life and it eats me up inside to hear that the one i love is having a normal reaction to it. i feel left out and angry at the same time and i just cut my wrists tonight to get my mind off of her. i’m a fucking wreck   \n",
       "2424                                                                                                                                                                                                                                                                                                                                                                                                                                                                                                           self harm.   \n",
       "2426                                                                                                                                                                                                                                                                                                                                                                                            i’ve been mych, much better since i last logged into reddit.    thanks for sticking around, and for your help. seriously.   \n",
       "\n",
       "      compound sentiment emotion_prediction  \n",
       "2418   -0.9820  negative           grateful  \n",
       "2420   -0.8402  negative        sentimental  \n",
       "2422   -0.7192  negative        embarrassed  \n",
       "2424   -0.5423  negative          surprised  \n",
       "2426    0.7783  positive           grateful  "
      ]
     },
     "execution_count": 382,
     "metadata": {},
     "output_type": "execute_result"
    }
   ],
   "source": [
    "speaker_responses"
   ]
  },
  {
   "cell_type": "code",
   "execution_count": 383,
   "metadata": {},
   "outputs": [
    {
     "data": {
      "text/plain": [
       "<seaborn.axisgrid.FacetGrid at 0x7fb7d02c4110>"
      ]
     },
     "execution_count": 383,
     "metadata": {},
     "output_type": "execute_result"
    },
    {
     "data": {
      "image/png": "[encoded data removed]",
      "text/plain": [
       "<Figure size 478.725x360 with 1 Axes>"
      ]
     },
     "metadata": {},
     "output_type": "display_data"
    }
   ],
   "source": [
    "sns.set_theme(style=\"white\")\n",
    "sns.relplot(x=\"dialog_turn\", y=\"compound\", hue=\"emotion_prediction\", style=\"sentiment\", palette=\"Set2\", data=speaker_responses, s=200)"
   ]
  },
  {
   "cell_type": "code",
   "execution_count": 384,
   "metadata": {},
   "outputs": [
    {
     "data": {
      "text/plain": [
       "<seaborn.axisgrid.FacetGrid at 0x7fb7b51a6f50>"
      ]
     },
     "execution_count": 384,
     "metadata": {},
     "output_type": "execute_result"
    },
    {
     "data": {
      "image/png": "[encoded data removed]",
      "text/plain": [
       "<Figure size 478.725x360 with 1 Axes>"
      ]
     },
     "metadata": {},
     "output_type": "display_data"
    }
   ],
   "source": [
    "sns.set_theme(style=\"white\")\n",
    "sns.relplot(x=\"dialog_turn\", y=\"compound\", hue=\"sentiment\", style=\"emotion_prediction\", palette=\"Set2\",data=speaker_responses, s=200)"
   ]
  },
  {
   "cell_type": "code",
   "execution_count": 385,
   "metadata": {},
   "outputs": [],
   "source": [
    "def calculate_sentiment_shift(responses):\n",
    "    x = np.array(responses[\"dialog_turn\"]).reshape((-1, 1))\n",
    "    y = np.array(responses[\"compound\"])\n",
    "    model = LinearRegression().fit(x, y)\n",
    "    r_sq = model.score(x, y)\n",
    "    \n",
    "    satisfaction = \"\"\n",
    "    if r_sq >= 0.7:\n",
    "        satisfaction = \"positive\"\n",
    "    elif r_sq >= 0.3:\n",
    "        satisfaction = \"moderate\"\n",
    "    elif r_sq < 0.3 and r_sq >= 0:\n",
    "        satisfaction = \"neutral\"\n",
    "    elif r_sq < 0:\n",
    "        satisfaction = \"negative\"\n",
    "        \n",
    "    return r_sq, satisfaction"
   ]
  },
  {
   "cell_type": "code",
   "execution_count": 386,
   "metadata": {},
   "outputs": [
    {
     "data": {
      "text/plain": [
       "(0.7202688260981651, 'positive')"
      ]
     },
     "execution_count": 386,
     "metadata": {},
     "output_type": "execute_result"
    }
   ],
   "source": [
    "calculate_sentiment_shift(speaker_responses)"
   ]
  },
  {
   "cell_type": "code",
   "execution_count": 387,
   "metadata": {},
   "outputs": [],
   "source": [
    "def get_sentiment(responses):\n",
    "    sentiments = responses[\"sentiment\"]\n",
    "    final_sentiment = sentiments.iloc[-1]\n",
    "    \n",
    "    return sentiments, final_sentiment"
   ]
  },
  {
   "cell_type": "markdown",
   "metadata": {},
   "source": [
    "### If the last speaker turn has grateful emotion and has positive sentiment"
   ]
  },
  {
   "cell_type": "code",
   "execution_count": 390,
   "metadata": {},
   "outputs": [],
   "source": [
    "def get_emotion_prediction(responses):\n",
    "    emotions = responses[\"emotion_prediction\"]\n",
    "    final_emotion = emotions.iloc[-1]\n",
    "    \n",
    "    return emotions, final_emotion"
   ]
  },
  {
   "cell_type": "code",
   "execution_count": 391,
   "metadata": {},
   "outputs": [
    {
     "data": {
      "text/plain": [
       "(2418       grateful\n",
       " 2420    sentimental\n",
       " 2422    embarrassed\n",
       " 2424      surprised\n",
       " 2426       grateful\n",
       " Name: emotion_prediction, dtype: object,\n",
       " 'grateful')"
      ]
     },
     "execution_count": 391,
     "metadata": {},
     "output_type": "execute_result"
    }
   ],
   "source": [
    "get_emotion_prediction(speaker_responses)"
   ]
  },
  {
   "cell_type": "markdown",
   "metadata": {},
   "source": [
    "### How the literature measures satisfaction"
   ]
  },
  {
   "cell_type": "markdown",
   "metadata": {},
   "source": [
    "## Equation to measure the engagement and satisfaction of a conversation"
   ]
  },
  {
   "cell_type": "code",
   "execution_count": 395,
   "metadata": {},
   "outputs": [],
   "source": [
    "def classify_conversation(conversation):\n",
    "    print(calculate_speaker_listener_ratio(conversation)[1] + \" engagement, \" + calculate_sentiment_shift(speaker_responses)[1] + \" satisfaction\")"
   ]
  },
  {
   "cell_type": "code",
   "execution_count": 396,
   "metadata": {},
   "outputs": [
    {
     "name": "stdout",
     "output_type": "stream",
     "text": [
      "high engagement, positive satisfaction\n"
     ]
    }
   ],
   "source": [
    "classify_conversation(conversation)"
   ]
  }
 ],
 "metadata": {
  "kernelspec": {
   "display_name": "Python 3",
   "language": "python",
   "name": "python3"
  },
  "language_info": {
   "codemirror_mode": {
    "name": "ipython",
    "version": 3
   },
   "file_extension": ".py",
   "mimetype": "text/x-python",
   "name": "python",
   "nbconvert_exporter": "python",
   "pygments_lexer": "ipython3",
   "version": "3.7.6"
  }
 },
 "nbformat": 4,
 "nbformat_minor": 4
}
