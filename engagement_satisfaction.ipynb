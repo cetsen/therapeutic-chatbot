{
 "cells": [
  {
   "cell_type": "markdown",
   "metadata": {},
   "source": [
    "# Measuring Engagement and Satisfaction in Online Mental Health Platform Conversations"
   ]
  },
  {
   "cell_type": "markdown",
   "metadata": {},
   "source": [
    "## Data preprocessing"
   ]
  },
  {
   "cell_type": "code",
   "execution_count": 89,
   "metadata": {},
   "outputs": [],
   "source": [
    "import pandas as pd\n",
    "import numpy as np\n",
    "import matplotlib.pyplot as plt\n",
    "import seaborn as sns\n",
    "from sklearn.linear_model import LinearRegression\n",
    "from math import log10, floor\n",
    "import math\n",
    "import nltk\n",
    "import string\n",
    "from nltk.tokenize import sent_tokenize\n",
    "from vaderSentiment.vaderSentiment import SentimentIntensityAnalyzer\n",
    "sid = SentimentIntensityAnalyzer()\n",
    "\n",
    "pd.set_option('mode.chained_assignment',None)"
   ]
  },
  {
   "cell_type": "code",
   "execution_count": 41,
   "metadata": {},
   "outputs": [],
   "source": [
    "# Display long column text\n",
    "pd.options.display.max_colwidth = 500\n",
    "\n",
    "df = pd.read_csv(\"mentalhealthsupport_dyadic_convs_clean_emotion.csv\")\n",
    "df = df.rename(columns={'conversation id': 'conversation_id', 'post title': 'post_title', 'dialog turn': 'dialog_turn', 'emotion prediction': 'emotion_prediction'})"
   ]
  },
  {
   "cell_type": "code",
   "execution_count": 42,
   "metadata": {},
   "outputs": [
    {
     "name": "stdout",
     "output_type": "stream",
     "text": [
      "Number of conversations in subreddit:  3551\n",
      "Number of conversations longer than 2 turns in subreddit:  487\n",
      "Number of conversations longer than 2 turns with more than a single author in subreddit:  476\n"
     ]
    }
   ],
   "source": [
    "### --- CLEANING OUT CONVERSATIONS WITH ONLY 1 OR 2 TURN(S) AND/OR WITH A SINGLE AUTHOR --- ###\n",
    "\n",
    "# Group data by conversation id and calculate count of each conversation id\n",
    "df_conv_len = df.groupby(\"conversation_id\").count()\n",
    "df_conv_len = df_conv_len.drop(columns=[\"subreddit\", \"post_title\", \"author\", \"text\", \"compound\", \"sentiment\", \"emotion_prediction\"])\n",
    "print(\"Number of conversations in subreddit: \", len(df_conv_len))\n",
    "\n",
    "# Separate conversation id's with a single occurrence as monologues\n",
    "df_mono = df_conv_len[df_conv_len[\"dialog_turn\"] == 1]\n",
    "#print(\"Number of conversations with a single turn in subreddit: \", len(df_mono))\n",
    "df_mono_ids = df_mono.reset_index()\n",
    "df_mono_ids = df_mono_ids[\"conversation_id\"]\n",
    "\n",
    "# Separate conversation id's with multiple occurrences as dialogues\n",
    "df_dia = df_conv_len[df_conv_len[\"dialog_turn\"] > 2]\n",
    "print(\"Number of conversations longer than 2 turns in subreddit: \", len(df_dia))\n",
    "df_dia = df_dia.reset_index()\n",
    "df_dia = df_dia.drop(columns=['dialog_turn'])\n",
    "\n",
    "# Join dialogue conversation id's with original data such that only dialogues remain in the dataset\n",
    "df = df.join(df_dia.set_index('conversation_id'), on='conversation_id', how=\"right\") \n",
    "\n",
    "# Separate conversations that have more than one author\n",
    "df_conv_authors = df.groupby(\"conversation_id\")[\"author\"].unique().reset_index()\n",
    "df_conv_authors[\"author\"] = df_conv_authors[\"author\"].apply(lambda x: x.size)\n",
    "df_conv_authors = df_conv_authors[df_conv_authors[\"author\"] > 1]\n",
    "df_conv_authors = df_conv_authors.drop(columns=['author'])\n",
    "\n",
    "# Join dialogue conversation id's with original data such that only conversations that have more than one author remain in the dataset\n",
    "df = df.join(df_conv_authors.set_index('conversation_id'), on='conversation_id', how=\"right\") \n",
    "print(\"Number of conversations longer than 2 turns with more than a single author in subreddit: \", len(df_conv_authors))\n",
    "\n",
    "### ---------------------------------------------- ###"
   ]
  },
  {
   "cell_type": "code",
   "execution_count": 43,
   "metadata": {},
   "outputs": [],
   "source": [
    "# Round numbers to a given number of significant figures (default = 2)\n",
    "def round_sig(x, sig=2):\n",
    "    if x != 0:\n",
    "        return round(x, sig-int(floor(log10(abs(x))))-1)\n",
    "    else:\n",
    "        return"
   ]
  },
  {
   "cell_type": "markdown",
   "metadata": {},
   "source": [
    "## Extracting conversation, speaker, and listener"
   ]
  },
  {
   "cell_type": "code",
   "execution_count": 44,
   "metadata": {},
   "outputs": [],
   "source": [
    "def extract_responses(conversation_id):\n",
    "    conversation = df[df[\"conversation_id\"] == conversation_id]\n",
    "    conversation.reset_index(drop=True, inplace=True)\n",
    "    speaker = conversation.author.iloc[0]\n",
    "    listener = conversation[conversation[\"author\"] != speaker][\"author\"].unique().item() \n",
    "    speaker_responses = conversation[conversation[\"author\"] == speaker]\n",
    "    listener_responses = conversation[conversation[\"author\"] == listener]\n",
    "    num_speaker_responses = len(speaker_responses) \n",
    "    num_listener_responses = len(listener_responses)\n",
    "    # TOIMPROVE: you can only keep conversation, speaker, and listener (because others are dynamic and can be calculated from these 3)\n",
    "    return conversation, speaker, listener, speaker_responses, listener_responses, num_speaker_responses, num_listener_responses"
   ]
  },
  {
   "cell_type": "markdown",
   "metadata": {},
   "source": [
    "## Measuring the level of engagement"
   ]
  },
  {
   "cell_type": "code",
   "execution_count": 45,
   "metadata": {},
   "outputs": [],
   "source": [
    "# Calculates token length for all speaker responses except for the first and adds it to a new column 'token_length', and returns their sum.\n",
    "def calculate_speaker_token_length(conversation, speaker):\n",
    "    # Create an empty dataframe column 'token_length'\n",
    "    conversation.loc[:,'token_length'] = np.nan\n",
    "    \n",
    "    sum_token_length = 0\n",
    "    \n",
    "    for i in range(1, len(conversation)):\n",
    "        if conversation['author'].iloc[i] == speaker:\n",
    "            # Tokenize speaker response and filter punctuations\n",
    "            tokens = nltk.word_tokenize(conversation[\"text\"][i])\n",
    "            tokens = list(filter(lambda tokens: tokens not in string.punctuation, tokens)) # TOIMPROVE: exclude quotation marks\n",
    "            \n",
    "            # Add token length to dataframe\n",
    "            conversation.at[i,'token_length'] = len(tokens)\n",
    "            \n",
    "            # Calculate sum of all tokens by speaker\n",
    "            sum_token_length += len(tokens)\n",
    "        \n",
    "    return conversation, sum_token_length"
   ]
  },
  {
   "cell_type": "code",
   "execution_count": 46,
   "metadata": {},
   "outputs": [],
   "source": [
    "def merge_consecutive_speaker_responses(conversation, speaker, listener):\n",
    "    i = 0\n",
    "    \n",
    "    while i < (len(conversation) - 1):\n",
    "        if conversation['author'].iloc[i] == speaker and conversation['author'].iloc[i+1] == speaker:\n",
    "            if (conversation['dialog_turn'].iloc[i] + 1) == conversation['dialog_turn'].iloc[i+1]:\n",
    "                dropped_turn = conversation['dialog_turn'].iloc[i+1]\n",
    "                former_text = conversation['text'][i]\n",
    "                latter_text = conversation['text'][i+1]\n",
    "\n",
    "                # Merge consecutive responses of the speaker\n",
    "                merged_text = former_text + \" \" + latter_text \n",
    "                conversation['text'].replace({former_text: merged_text}, inplace=True)\n",
    "\n",
    "                # Get names of indexes for which column dialog_turn has value of the dropped turn\n",
    "                conversation_index_names = conversation[conversation['dialog_turn'] == dropped_turn].index\n",
    "\n",
    "                # Delete these row indexes from dataframe\n",
    "                conversation.drop(conversation_index_names, inplace=True)\n",
    "\n",
    "                # Reset indexes\n",
    "                conversation.reset_index(drop=True, inplace=True)\n",
    "                \n",
    "                # TODO: Run the sentiment and emotion analysis code and retag the merged texts\n",
    "                # I assume VADER\n",
    "                \n",
    "        i += 1\n",
    "        \n",
    "    speaker_responses = conversation[conversation[\"author\"] == speaker]\n",
    "    listener_responses = conversation[conversation[\"author\"] == listener]\n",
    "    num_speaker_responses = len(speaker_responses) \n",
    "    num_listener_responses = len(listener_responses)\n",
    "                 \n",
    "    return conversation, num_speaker_responses, num_listener_responses"
   ]
  },
  {
   "cell_type": "code",
   "execution_count": 47,
   "metadata": {},
   "outputs": [],
   "source": [
    "# If all the even-numbered turns are by the speaker and if all the odd-numbered turns are by the listener, returns True. Otherwise, returns False.\n",
    "def is_interleaved_conversation(speaker, listener, conversation):\n",
    "    num_turns = len(conversation)\n",
    "    \n",
    "    for i in range(0, num_turns, 2):\n",
    "        if conversation['author'].iloc[i] == speaker:\n",
    "            continue\n",
    "        else:\n",
    "            return False\n",
    "        \n",
    "    for i in range(1, num_turns, 2):\n",
    "        if conversation['author'].iloc[i] == listener:\n",
    "            continue\n",
    "        else:\n",
    "            return False\n",
    "        \n",
    "    return True"
   ]
  },
  {
   "cell_type": "code",
   "execution_count": 274,
   "metadata": {},
   "outputs": [],
   "source": [
    "# Obtain sentence-level sentiment compounds\n",
    "def sent_lvl_sentiment(conversation):\n",
    "    conversation, speaker, listener, speaker_responses, listener_responses, num_speaker_responses, num_listener_responses = extract_responses(24)\n",
    "    conversation['sentences'] = conversation['text'].apply(lambda x: sent_tokenize(x)) # optionally, I could directly replace text with tokenized version\n",
    "\n",
    "    conversation['sentence_compounds'] = conversation['sentences']\n",
    "    for i in range(0,len(conversation)):\n",
    "\n",
    "        num_sentences = len(sent_tokenize(conversation['text'].iloc[i]))\n",
    "        scores = np.zeros(num_sentences)\n",
    "\n",
    "        for j in range(0,num_sentences):\n",
    "            # i'th turn, j'th sentence\n",
    "            scores[j] = sid.polarity_scores(sent_tokenize(conversation['text'][i])[j])['compound']\n",
    "\n",
    "            conversation['sentence_compounds'][i] = scores\n",
    "            \n",
    "    return conversation"
   ]
  },
  {
   "cell_type": "code",
   "execution_count": null,
   "metadata": {},
   "outputs": [],
   "source": []
  },
  {
   "cell_type": "code",
   "execution_count": 172,
   "metadata": {},
   "outputs": [
    {
     "data": {
      "text/plain": [
       "3"
      ]
     },
     "execution_count": 172,
     "metadata": {},
     "output_type": "execute_result"
    }
   ],
   "source": [
    "sentences = \"Thank you for the response. I'm going to try that tonight. Hopefully it will work, I'll get back to you!\"\n",
    "len(sent_tokenize(sentences))"
   ]
  },
  {
   "cell_type": "code",
   "execution_count": 237,
   "metadata": {},
   "outputs": [],
   "source": [
    "sentences = \"Thank you for the response. I'm going to try that tonight. Hopefully it will work, I'll get back to you!\"\n"
   ]
  },
  {
   "cell_type": "code",
   "execution_count": 188,
   "metadata": {},
   "outputs": [
    {
     "name": "stdout",
     "output_type": "stream",
     "text": [
      "[0.3612 0.     0.4574]\n"
     ]
    }
   ],
   "source": [
    "\n",
    "for i in range(0,len(sent_tokenize(sentences))):\n",
    "    scores[i] = sid.polarity_scores(sent_tokenize(sentences)[i])['compound']\n",
    "print(scores)"
   ]
  },
  {
   "cell_type": "code",
   "execution_count": 256,
   "metadata": {},
   "outputs": [
    {
     "data": {
      "text/plain": [
       "'How they knew ill never know... But SOMEONE told them that shouldnt have... Here goes... I was on my way home after an evaluation ( dont worry everyone,  still nutty) and i stop by the grocery store to pick up a few things. . and the cashier says, \" we pay for that, dont we?\" in relation to my purchase. How in the hell did a cashier know i was on disability? Giving me a reason, without an identifiable motive is a good way to get yourself hurt. Keep it up.'"
      ]
     },
     "execution_count": 256,
     "metadata": {},
     "output_type": "execute_result"
    }
   ],
   "source": [
    "conversation['text'].iloc[0]"
   ]
  },
  {
   "cell_type": "code",
   "execution_count": 262,
   "metadata": {},
   "outputs": [
    {
     "data": {
      "text/plain": [
       "'How they knew ill never know...'"
      ]
     },
     "execution_count": 262,
     "metadata": {},
     "output_type": "execute_result"
    }
   ],
   "source": [
    "sent_tokenize(conversation['text'][0])[0]"
   ]
  },
  {
   "cell_type": "code",
   "execution_count": 254,
   "metadata": {},
   "outputs": [
    {
     "data": {
      "text/plain": [
       "['How they knew ill never know...',\n",
       " 'But SOMEONE told them that shouldnt have...',\n",
       " 'Here goes...',\n",
       " 'I was on my way home after an evaluation ( dont worry everyone,  still nutty) and i stop by the grocery store to pick up a few things.',\n",
       " '.',\n",
       " 'and the cashier says, \" we pay for that, dont we?\"',\n",
       " 'in relation to my purchase.',\n",
       " 'How in the hell did a cashier know i was on disability?',\n",
       " 'Giving me a reason, without an identifiable motive is a good way to get yourself hurt.',\n",
       " 'Keep it up.']"
      ]
     },
     "execution_count": 254,
     "metadata": {},
     "output_type": "execute_result"
    }
   ],
   "source": [
    "sent_tokenize(sentences)"
   ]
  },
  {
   "cell_type": "code",
   "execution_count": 238,
   "metadata": {},
   "outputs": [
    {
     "data": {
      "text/plain": [
       "3"
      ]
     },
     "execution_count": 238,
     "metadata": {},
     "output_type": "execute_result"
    }
   ],
   "source": [
    "len(sent_tokenize(sentences))"
   ]
  },
  {
   "cell_type": "code",
   "execution_count": 266,
   "metadata": {},
   "outputs": [
    {
     "data": {
      "text/plain": [
       "['How they knew ill never know...',\n",
       " 'But SOMEONE told them that shouldnt have...',\n",
       " 'Here goes...',\n",
       " 'I was on my way home after an evaluation ( dont worry everyone,  still nutty) and i stop by the grocery store to pick up a few things.',\n",
       " '.',\n",
       " 'and the cashier says, \" we pay for that, dont we?\"',\n",
       " 'in relation to my purchase.',\n",
       " 'How in the hell did a cashier know i was on disability?',\n",
       " 'Giving me a reason, without an identifiable motive is a good way to get yourself hurt.',\n",
       " 'Keep it up.']"
      ]
     },
     "execution_count": 266,
     "metadata": {},
     "output_type": "execute_result"
    }
   ],
   "source": [
    "sent_tokenize(conversation['text'].iloc[0])"
   ]
  },
  {
   "cell_type": "code",
   "execution_count": 268,
   "metadata": {},
   "outputs": [
    {
     "data": {
      "text/plain": [
       "0.0"
      ]
     },
     "execution_count": 268,
     "metadata": {},
     "output_type": "execute_result"
    }
   ],
   "source": [
    "sid.polarity_scores('But SOMEONE told them that shouldnt have...')['compound']"
   ]
  },
  {
   "cell_type": "code",
   "execution_count": 273,
   "metadata": {},
   "outputs": [
    {
     "data": {
      "text/html": [
       "<div>\n",
       "<style scoped>\n",
       "    .dataframe tbody tr th:only-of-type {\n",
       "        vertical-align: middle;\n",
       "    }\n",
       "\n",
       "    .dataframe tbody tr th {\n",
       "        vertical-align: top;\n",
       "    }\n",
       "\n",
       "    .dataframe thead th {\n",
       "        text-align: right;\n",
       "    }\n",
       "</style>\n",
       "<table border=\"1\" class=\"dataframe\">\n",
       "  <thead>\n",
       "    <tr style=\"text-align: right;\">\n",
       "      <th></th>\n",
       "      <th>conversation_id</th>\n",
       "      <th>subreddit</th>\n",
       "      <th>post_title</th>\n",
       "      <th>author</th>\n",
       "      <th>dialog_turn</th>\n",
       "      <th>text</th>\n",
       "      <th>compound</th>\n",
       "      <th>sentiment</th>\n",
       "      <th>emotion_prediction</th>\n",
       "      <th>sentences</th>\n",
       "      <th>sentence_compounds</th>\n",
       "    </tr>\n",
       "  </thead>\n",
       "  <tbody>\n",
       "    <tr>\n",
       "      <th>0</th>\n",
       "      <td>24</td>\n",
       "      <td>MentalHealthSupport</td>\n",
       "      <td>Threatened by a stranger about mental disability.</td>\n",
       "      <td>N08ody</td>\n",
       "      <td>1</td>\n",
       "      <td>How they knew ill never know... But SOMEONE told them that shouldnt have... Here goes... I was on my way home after an evaluation ( dont worry everyone,  still nutty) and i stop by the grocery store to pick up a few things. . and the cashier says, \" we pay for that, dont we?\" in relation to my purchase. How in the hell did a cashier know i was on disability? Giving me a reason, without an identifiable motive is a good way to get yourself hurt. Keep it up.</td>\n",
       "      <td>-0.8225</td>\n",
       "      <td>negative</td>\n",
       "      <td>anxious</td>\n",
       "      <td>[How they knew ill never know..., But SOMEONE told them that shouldnt have..., Here goes..., I was on my way home after an evaluation ( dont worry everyone,  still nutty) and i stop by the grocery store to pick up a few things., ., and the cashier says, \" we pay for that, dont we?\", in relation to my purchase., How in the hell did a cashier know i was on disability?, Giving me a reason, without an identifiable motive is a good way to get yourself hurt., Keep it up.]</td>\n",
       "      <td>[-0.4215, 0.0, 0.0, 0.0531, 0.0, -0.1027, 0.0, -0.6808, 0.2263, 0.0]</td>\n",
       "    </tr>\n",
       "    <tr>\n",
       "      <th>1</th>\n",
       "      <td>24</td>\n",
       "      <td>MentalHealthSupport</td>\n",
       "      <td>Threatened by a stranger about mental disability.</td>\n",
       "      <td>shatterSquish</td>\n",
       "      <td>2</td>\n",
       "      <td>That doesn't sound at all like they knew you were on disability. I think you're jumping to conclusions here. For example, their comment would also make sense in another context: if they just had to deal with a shoplifting kid and had just given a lecture about how everyone needs to pay for the stuff they want.</td>\n",
       "      <td>0.3400</td>\n",
       "      <td>positive</td>\n",
       "      <td>anxious</td>\n",
       "      <td>[That doesn't sound at all like they knew you were on disability., I think you're jumping to conclusions here., For example, their comment would also make sense in another context: if they just had to deal with a shoplifting kid and had just given a lecture about how everyone needs to pay for the stuff they want.]</td>\n",
       "      <td>[0.3612, 0.0, -0.0258]</td>\n",
       "    </tr>\n",
       "    <tr>\n",
       "      <th>2</th>\n",
       "      <td>24</td>\n",
       "      <td>MentalHealthSupport</td>\n",
       "      <td>Threatened by a stranger about mental disability.</td>\n",
       "      <td>N08ody</td>\n",
       "      <td>3</td>\n",
       "      <td>Hey squish. Thanks for not just telling me it was \"all in my head.\"</td>\n",
       "      <td>0.4404</td>\n",
       "      <td>positive</td>\n",
       "      <td>sentimental</td>\n",
       "      <td>[Hey squish., Thanks for not just telling me it was \"all in my head.\"]</td>\n",
       "      <td>[0.0, 0.4404]</td>\n",
       "    </tr>\n",
       "    <tr>\n",
       "      <th>3</th>\n",
       "      <td>24</td>\n",
       "      <td>MentalHealthSupport</td>\n",
       "      <td>Threatened by a stranger about mental disability.</td>\n",
       "      <td>N08ody</td>\n",
       "      <td>4</td>\n",
       "      <td>A. I wasnt shoplifting. And B. The phrase \"We pay for that, dont we?\" is not a normal phrase. Appreciate your input, but i disagree.</td>\n",
       "      <td>-0.4118</td>\n",
       "      <td>negative</td>\n",
       "      <td>guilty</td>\n",
       "      <td>[A. I wasnt shoplifting., And B., The phrase \"We pay for that, dont we?\", is not a normal phrase., Appreciate your input, but i disagree.]</td>\n",
       "      <td>[0.0, 0.0, -0.1027, 0.0, -0.3716]</td>\n",
       "    </tr>\n",
       "  </tbody>\n",
       "</table>\n",
       "</div>"
      ],
      "text/plain": [
       "   conversation_id            subreddit  \\\n",
       "0               24  MentalHealthSupport   \n",
       "1               24  MentalHealthSupport   \n",
       "2               24  MentalHealthSupport   \n",
       "3               24  MentalHealthSupport   \n",
       "\n",
       "                                          post_title         author  \\\n",
       "0  Threatened by a stranger about mental disability.         N08ody   \n",
       "1  Threatened by a stranger about mental disability.  shatterSquish   \n",
       "2  Threatened by a stranger about mental disability.         N08ody   \n",
       "3  Threatened by a stranger about mental disability.         N08ody   \n",
       "\n",
       "   dialog_turn  \\\n",
       "0            1   \n",
       "1            2   \n",
       "2            3   \n",
       "3            4   \n",
       "\n",
       "                                                                                                                                                                                                                                                                                                                                                                                                                                                                          text  \\\n",
       "0  How they knew ill never know... But SOMEONE told them that shouldnt have... Here goes... I was on my way home after an evaluation ( dont worry everyone,  still nutty) and i stop by the grocery store to pick up a few things. . and the cashier says, \" we pay for that, dont we?\" in relation to my purchase. How in the hell did a cashier know i was on disability? Giving me a reason, without an identifiable motive is a good way to get yourself hurt. Keep it up.   \n",
       "1                                                                                                                                                      That doesn't sound at all like they knew you were on disability. I think you're jumping to conclusions here. For example, their comment would also make sense in another context: if they just had to deal with a shoplifting kid and had just given a lecture about how everyone needs to pay for the stuff they want.   \n",
       "2                                                                                                                                                                                                                                                                                                                                                                                                          Hey squish. Thanks for not just telling me it was \"all in my head.\"   \n",
       "3                                                                                                                                                                                                                                                                                                                                         A. I wasnt shoplifting. And B. The phrase \"We pay for that, dont we?\" is not a normal phrase. Appreciate your input, but i disagree.   \n",
       "\n",
       "   compound sentiment emotion_prediction  \\\n",
       "0   -0.8225  negative            anxious   \n",
       "1    0.3400  positive            anxious   \n",
       "2    0.4404  positive        sentimental   \n",
       "3   -0.4118  negative             guilty   \n",
       "\n",
       "                                                                                                                                                                                                                                                                                                                                                                                                                                                                                sentences  \\\n",
       "0  [How they knew ill never know..., But SOMEONE told them that shouldnt have..., Here goes..., I was on my way home after an evaluation ( dont worry everyone,  still nutty) and i stop by the grocery store to pick up a few things., ., and the cashier says, \" we pay for that, dont we?\", in relation to my purchase., How in the hell did a cashier know i was on disability?, Giving me a reason, without an identifiable motive is a good way to get yourself hurt., Keep it up.]   \n",
       "1                                                                                                                                                             [That doesn't sound at all like they knew you were on disability., I think you're jumping to conclusions here., For example, their comment would also make sense in another context: if they just had to deal with a shoplifting kid and had just given a lecture about how everyone needs to pay for the stuff they want.]   \n",
       "2                                                                                                                                                                                                                                                                                                                                                                                                                  [Hey squish., Thanks for not just telling me it was \"all in my head.\"]   \n",
       "3                                                                                                                                                                                                                                                                                                                                              [A. I wasnt shoplifting., And B., The phrase \"We pay for that, dont we?\", is not a normal phrase., Appreciate your input, but i disagree.]   \n",
       "\n",
       "                                                     sentence_compounds  \n",
       "0  [-0.4215, 0.0, 0.0, 0.0531, 0.0, -0.1027, 0.0, -0.6808, 0.2263, 0.0]  \n",
       "1                                                [0.3612, 0.0, -0.0258]  \n",
       "2                                                         [0.0, 0.4404]  \n",
       "3                                     [0.0, 0.0, -0.1027, 0.0, -0.3716]  "
      ]
     },
     "execution_count": 273,
     "metadata": {},
     "output_type": "execute_result"
    }
   ],
   "source": []
  },
  {
   "cell_type": "code",
   "execution_count": 222,
   "metadata": {},
   "outputs": [],
   "source": [
    "string = \"It's really starting to drive me crazy.\""
   ]
  },
  {
   "cell_type": "code",
   "execution_count": 146,
   "metadata": {},
   "outputs": [
    {
     "data": {
      "text/plain": [
       "{'neg': 0.286, 'neu': 0.714, 'pos': 0.0, 'compound': -0.34}"
      ]
     },
     "execution_count": 146,
     "metadata": {},
     "output_type": "execute_result"
    }
   ],
   "source": [
    "sid.polarity_scores(string)"
   ]
  },
  {
   "cell_type": "code",
   "execution_count": 147,
   "metadata": {},
   "outputs": [],
   "source": [
    "def calculate_engagement(speaker, listener, conversation):\n",
    "    conversation, num_speaker_responses, num_listener_responses = merge_consecutive_speaker_responses(conversation, speaker, listener)\n",
    "    conversation = sent_lvl_sentiment(conversation)\n",
    "    conversation, sum_token_length = calculate_speaker_token_length(conversation, speaker)\n",
    "    diff = num_speaker_responses - num_listener_responses\n",
    "    diff = abs(diff)\n",
    "    num_turns = len(conversation)\n",
    "    \n",
    "    engagement = \"\"\n",
    "    \n",
    "    if num_turns == 2:\n",
    "        engagement = \"low engagement\"\n",
    "        \n",
    "    elif num_turns == 3:\n",
    "        if is_interleaved_conversation(speaker, listener, conversation) == True and sum_token_length > 15: # TOASK: What number to choose as token length? Is it logical to use it like this?\n",
    "            engagement = \"moderate engagement\" \n",
    "        else:\n",
    "            engagement = \"low engagement\"\n",
    "            \n",
    "    elif num_turns >= 4:\n",
    "        if (is_interleaved_conversation(speaker, listener, conversation) == True or (diff <= 1)) and sum_token_length > 15: \n",
    "            engagement = \"high engagement\" \n",
    "        else:\n",
    "            engagement = \"low engagement\"\n",
    "    \n",
    "    # TODO: Create a function that takes a weighted sum of these individual measures. Take a subset and calculate for each weight and inspect (which weight is most meaningful?) --> like a compound score\n",
    "            \n",
    "    return round_sig(diff), engagement"
   ]
  },
  {
   "cell_type": "markdown",
   "metadata": {},
   "source": [
    "## Measuring the level of satisfaction"
   ]
  },
  {
   "cell_type": "code",
   "execution_count": 50,
   "metadata": {},
   "outputs": [],
   "source": [
    "def plot_emotion_sentiment(speaker_responses):   \n",
    "    sns.set_theme(style=\"white\")\n",
    "    g = sns.relplot(x=\"dialog_turn\", y=\"compound\", hue=\"sentiment\", style=\"emotion_prediction\", palette=\"Set1\",data=speaker_responses, s=200)\n",
    "    g.fig.suptitle('Sentimental and Emotional Shift in Speaker Responses with Conversation Progression', fontsize=16)\n",
    "    g.fig.subplots_adjust(top=0.9);"
   ]
  },
  {
   "cell_type": "code",
   "execution_count": 51,
   "metadata": {},
   "outputs": [],
   "source": [
    "# Return all emotions and the final emotion of the given responses\n",
    "def get_emotion_prediction(speaker_responses):\n",
    "    emotions = speaker_responses[\"emotion_prediction\"]\n",
    "    final_emotion = emotions.iloc[-1]\n",
    "    \n",
    "    return emotions, final_emotion"
   ]
  },
  {
   "cell_type": "code",
   "execution_count": 52,
   "metadata": {},
   "outputs": [],
   "source": [
    "# Return all sentiments and the final sentiment of the given responses\n",
    "def get_sentiment(speaker_responses):\n",
    "    sentiments = speaker_responses[\"sentiment\"]\n",
    "    final_sentiment = sentiments.iloc[-1]\n",
    "    \n",
    "    return sentiments, final_sentiment"
   ]
  },
  {
   "cell_type": "code",
   "execution_count": 53,
   "metadata": {},
   "outputs": [],
   "source": [
    "# Check if the last speaker emotion is grateful and its sentiment is positive. If yes, return true. Otherwise, return false.\n",
    "def is_tagged_grateful_positive(speaker_responses):\n",
    "    _, final_sentiment = get_sentiment(speaker_responses)\n",
    "    _, final_emotion = get_emotion_prediction(speaker_responses)\n",
    "    \n",
    "    if final_sentiment == \"positive\" and final_emotion == \"grateful\":\n",
    "        return True\n",
    "    \n",
    "    return False"
   ]
  },
  {
   "cell_type": "code",
   "execution_count": 54,
   "metadata": {},
   "outputs": [],
   "source": [
    "def contains_grateful_tokens(conversation, speaker):\n",
    "    index = 0\n",
    "    \n",
    "    # Takes the last speaker response\n",
    "    for i in range(len(conversation)-1,0,-1):\n",
    "        if conversation['author'].iloc[i] == speaker:\n",
    "            index = i\n",
    "            break\n",
    "   \n",
    "    tokens = nltk.word_tokenize(conversation[\"text\"].iloc[index].lower())\n",
    "    tokens = list(filter(lambda tokens: tokens not in string.punctuation, tokens)) # TODO: exclude quotation marks\n",
    "    \n",
    "    # TODO: finish lexicon of gratitude words towards listener \n",
    "    gratitude_words = ['thank', 'means so much to me', 'thanks', 'appreciate', 'your support', 'your help']\n",
    "    \n",
    "    if gratitude_words in tokens: \n",
    "        return True\n",
    "        \n",
    "    return False"
   ]
  },
  {
   "cell_type": "code",
   "execution_count": 55,
   "metadata": {},
   "outputs": [],
   "source": [
    "# def is_offended(conversation):\n",
    "    "
   ]
  },
  {
   "cell_type": "code",
   "execution_count": 56,
   "metadata": {},
   "outputs": [],
   "source": [
    "# TODO: Create a compound score for satisfaction too\n",
    "def calculate_satisfaction(conversation, speaker):\n",
    "    speaker_responses = conversation[conversation[\"author\"] == speaker]\n",
    "    num_speaker_responses = len(speaker_responses)\n",
    "    satisfaction = \"\"\n",
    "    \n",
    "    # Take the slope of the compounds of speaker responses\n",
    "    # TODO: Should I take the slope of all speaker response compounds as well as (last speaker response compound) - (first speaker response compound)?\n",
    "    f = np.polyfit(speaker_responses['dialog_turn'], speaker_responses['compound'], deg=1)\n",
    "    slope = f[0]\n",
    "    \n",
    "    # If either the last speaker text is tagged with grateful & positive \n",
    "    # or if the last speaker text contains lexical details that express gratitude, add a bonus point to satisfaction.\n",
    "    grateful_bonus = 0\n",
    "    if is_tagged_grateful_positive(speaker_responses)==True or contains_grateful_tokens(speaker_responses, speaker)==True:\n",
    "        grateful_bonus = 0.4\n",
    "        slope += grateful_bonus\n",
    "        \n",
    "    # TODO: If the speaker responses express being offended by the listener, deduct point from satisfaction.    \n",
    "    offended_penalty = 0\n",
    "    \n",
    "    if len(conversation) == 2:\n",
    "        satisfaction = \"none\"\n",
    "    else:\n",
    "        if slope >= 0.8: \n",
    "            satisfaction = \"positive satisfaction\"\n",
    "        elif slope >= 0.4:\n",
    "            satisfaction = \"moderate satisfaction\"\n",
    "        elif slope < 0.4 and slope >= 0:\n",
    "            satisfaction = \"neutral satisfaction\"\n",
    "        elif slope < 0:\n",
    "            satisfaction = \"negative satisfaction\"\n",
    "            \n",
    "    return round_sig(slope), satisfaction, grateful_bonus"
   ]
  },
  {
   "cell_type": "markdown",
   "metadata": {},
   "source": [
    "## Final classification"
   ]
  },
  {
   "cell_type": "code",
   "execution_count": 57,
   "metadata": {},
   "outputs": [],
   "source": [
    "def classify_conversation(speaker_responses, num_speaker_responses, num_listener_responses, conversation, speaker, listener):\n",
    "    return str(calculate_engagement(speaker, listener, conversation)[1] + \", \" + calculate_satisfaction(conversation, speaker)[1])"
   ]
  },
  {
   "cell_type": "markdown",
   "metadata": {},
   "source": [
    "## Testing the measures"
   ]
  },
  {
   "cell_type": "code",
   "execution_count": 58,
   "metadata": {},
   "outputs": [],
   "source": [
    "def test_examples(conversation_id):\n",
    "    conversation, speaker, listener, speaker_responses, listener_responses, num_speaker_responses, num_listener_responses = extract_responses(conversation_id)\n",
    "    plot_emotion_sentiment(speaker_responses)\n",
    "    print(\"Conversation length: \", len(conversation))\n",
    "    print(\"Speaker-listener turn difference: \", calculate_engagement(speaker, listener, conversation)[0], \" --> \", calculate_engagement(speaker, listener, conversation)[1])\n",
    "    print(\"Sentiment shift: \", calculate_satisfaction(conversation, speaker)[0], \" with grateful bonus: \", calculate_satisfaction(conversation, speaker)[2], \" --> \", calculate_satisfaction(conversation, speaker)[1])\n",
    "    print(\"Classification summary: \", classify_conversation(speaker_responses, num_speaker_responses, num_listener_responses, conversation, speaker, listener))\n",
    "    print()"
   ]
  },
  {
   "cell_type": "code",
   "execution_count": 77,
   "metadata": {},
   "outputs": [
    {
     "data": {
      "text/html": [
       "<div>\n",
       "<style scoped>\n",
       "    .dataframe tbody tr th:only-of-type {\n",
       "        vertical-align: middle;\n",
       "    }\n",
       "\n",
       "    .dataframe tbody tr th {\n",
       "        vertical-align: top;\n",
       "    }\n",
       "\n",
       "    .dataframe thead th {\n",
       "        text-align: right;\n",
       "    }\n",
       "</style>\n",
       "<table border=\"1\" class=\"dataframe\">\n",
       "  <thead>\n",
       "    <tr style=\"text-align: right;\">\n",
       "      <th></th>\n",
       "      <th>conversation_id</th>\n",
       "      <th>subreddit</th>\n",
       "      <th>post_title</th>\n",
       "      <th>author</th>\n",
       "      <th>dialog_turn</th>\n",
       "      <th>text</th>\n",
       "      <th>compound</th>\n",
       "      <th>sentiment</th>\n",
       "      <th>emotion_prediction</th>\n",
       "    </tr>\n",
       "  </thead>\n",
       "  <tbody>\n",
       "    <tr>\n",
       "      <th>52</th>\n",
       "      <td>23</td>\n",
       "      <td>MentalHealthSupport</td>\n",
       "      <td>I've been having a horrible recurring dream.</td>\n",
       "      <td>jacksongray213</td>\n",
       "      <td>1</td>\n",
       "      <td>(Just an FYI I've posted this in other places but I'm new to Reddit and I'm not sure where this best fits)  Hey there guys, for the past month or so I have a reoccurring dream that happens probably once every 2-3 nights. It's really starting to drive me crazy. Just a heads up, this dream is pretty inappropriate and has a lot of gross and graphic things happening so if you don't want to read something like that, please move on.  Basically what happens is I start out in a dark room, then some ...</td>\n",
       "      <td>0.9970</td>\n",
       "      <td>positive</td>\n",
       "      <td>anticipating</td>\n",
       "    </tr>\n",
       "    <tr>\n",
       "      <th>53</th>\n",
       "      <td>23</td>\n",
       "      <td>MentalHealthSupport</td>\n",
       "      <td>I've been having a horrible recurring dream.</td>\n",
       "      <td>normalornotwhoa</td>\n",
       "      <td>2</td>\n",
       "      <td>Hey there.  That sounds really frightening.  I'll share with you what I learned in therapy to help rid yourself of nightmares.   Write down in a book or on your phone the story of what happens in the dream, but when bad things start to happen, imagine something positive happening instead.  The more fantastical it is the better (not sure why that helps but it does).  So write that you sprout wings and fly away, or shoot fire out of your mouth and kill your enemies and then ride an elephant to...</td>\n",
       "      <td>0.7072</td>\n",
       "      <td>positive</td>\n",
       "      <td>guilty</td>\n",
       "    </tr>\n",
       "    <tr>\n",
       "      <th>54</th>\n",
       "      <td>23</td>\n",
       "      <td>MentalHealthSupport</td>\n",
       "      <td>I've been having a horrible recurring dream.</td>\n",
       "      <td>jacksongray213</td>\n",
       "      <td>3</td>\n",
       "      <td>Thank you for the response. I'm going to try that tonight. Hopefully it will work, I'll get back to you!</td>\n",
       "      <td>0.6696</td>\n",
       "      <td>positive</td>\n",
       "      <td>guilty</td>\n",
       "    </tr>\n",
       "  </tbody>\n",
       "</table>\n",
       "</div>"
      ],
      "text/plain": [
       "    conversation_id            subreddit  \\\n",
       "52               23  MentalHealthSupport   \n",
       "53               23  MentalHealthSupport   \n",
       "54               23  MentalHealthSupport   \n",
       "\n",
       "                                      post_title           author  \\\n",
       "52  I've been having a horrible recurring dream.   jacksongray213   \n",
       "53  I've been having a horrible recurring dream.  normalornotwhoa   \n",
       "54  I've been having a horrible recurring dream.   jacksongray213   \n",
       "\n",
       "    dialog_turn  \\\n",
       "52            1   \n",
       "53            2   \n",
       "54            3   \n",
       "\n",
       "                                                                                                                                                                                                                                                                                                                                                                                                                                                                                                                   text  \\\n",
       "52  (Just an FYI I've posted this in other places but I'm new to Reddit and I'm not sure where this best fits)  Hey there guys, for the past month or so I have a reoccurring dream that happens probably once every 2-3 nights. It's really starting to drive me crazy. Just a heads up, this dream is pretty inappropriate and has a lot of gross and graphic things happening so if you don't want to read something like that, please move on.  Basically what happens is I start out in a dark room, then some ...   \n",
       "53  Hey there.  That sounds really frightening.  I'll share with you what I learned in therapy to help rid yourself of nightmares.   Write down in a book or on your phone the story of what happens in the dream, but when bad things start to happen, imagine something positive happening instead.  The more fantastical it is the better (not sure why that helps but it does).  So write that you sprout wings and fly away, or shoot fire out of your mouth and kill your enemies and then ride an elephant to...   \n",
       "54                                                                                                                                                                                                                                                                                                                                                                                                             Thank you for the response. I'm going to try that tonight. Hopefully it will work, I'll get back to you!   \n",
       "\n",
       "    compound sentiment emotion_prediction  \n",
       "52    0.9970  positive       anticipating  \n",
       "53    0.7072  positive             guilty  \n",
       "54    0.6696  positive             guilty  "
      ]
     },
     "execution_count": 77,
     "metadata": {},
     "output_type": "execute_result"
    }
   ],
   "source": [
    "conversation_id = 23\n",
    "df[df[\"conversation_id\"] == conversation_id]"
   ]
  },
  {
   "cell_type": "code",
   "execution_count": 78,
   "metadata": {},
   "outputs": [
    {
     "name": "stdout",
     "output_type": "stream",
     "text": [
      "Conversation length:  3\n",
      "Speaker-listener turn difference:  1  -->  moderate engagement\n",
      "Sentiment shift:  -0.16  with grateful bonus:  0  -->  negative satisfaction\n",
      "Classification summary:  moderate engagement, negative satisfaction\n",
      "\n"
     ]
    },
    {
     "data": {
      "image/png": "[encoded data removed]",
      "text/plain": [
       "<Figure size 478.725x360 with 1 Axes>"
      ]
     },
     "metadata": {},
     "output_type": "display_data"
    }
   ],
   "source": [
    "test_examples(conversation_id) "
   ]
  },
  {
   "cell_type": "markdown",
   "metadata": {},
   "source": [
    "## More examples"
   ]
  },
  {
   "cell_type": "markdown",
   "metadata": {},
   "source": [
    "### High engagement, neutral satisfaction (but should be positive satisfaction)"
   ]
  },
  {
   "cell_type": "code",
   "execution_count": 61,
   "metadata": {},
   "outputs": [
    {
     "data": {
      "text/html": [
       "<div>\n",
       "<style scoped>\n",
       "    .dataframe tbody tr th:only-of-type {\n",
       "        vertical-align: middle;\n",
       "    }\n",
       "\n",
       "    .dataframe tbody tr th {\n",
       "        vertical-align: top;\n",
       "    }\n",
       "\n",
       "    .dataframe thead th {\n",
       "        text-align: right;\n",
       "    }\n",
       "</style>\n",
       "<table border=\"1\" class=\"dataframe\">\n",
       "  <thead>\n",
       "    <tr style=\"text-align: right;\">\n",
       "      <th></th>\n",
       "      <th>conversation_id</th>\n",
       "      <th>subreddit</th>\n",
       "      <th>post_title</th>\n",
       "      <th>author</th>\n",
       "      <th>dialog_turn</th>\n",
       "      <th>text</th>\n",
       "      <th>compound</th>\n",
       "      <th>sentiment</th>\n",
       "      <th>emotion_prediction</th>\n",
       "    </tr>\n",
       "  </thead>\n",
       "  <tbody>\n",
       "    <tr>\n",
       "      <th>4125</th>\n",
       "      <td>1732</td>\n",
       "      <td>MentalHealthSupport</td>\n",
       "      <td>Hello, I need some advice/help</td>\n",
       "      <td>itsyaboi-apyr</td>\n",
       "      <td>1</td>\n",
       "      <td>I’m kinda worried about posting this here because I don’t know if it is correct or not but I’m stuck in a very bad anxiety hole atm, I posted this in one of the legal advice subs and everyone said it’s more of a mental health problem, (also sorry I don’t know how to do paragraphs) ok so recently every single day and night I’ve been having panic attacks over something that happened 2-3 years ago, when I was 13 I was on pornhub and came across Ben 10 hentai and being thirty I was very stupid a...</td>\n",
       "      <td>-0.9960</td>\n",
       "      <td>negative</td>\n",
       "      <td>anticipating</td>\n",
       "    </tr>\n",
       "    <tr>\n",
       "      <th>4126</th>\n",
       "      <td>1732</td>\n",
       "      <td>MentalHealthSupport</td>\n",
       "      <td>Hello, I need some advice/help</td>\n",
       "      <td>SophieSofar</td>\n",
       "      <td>2</td>\n",
       "      <td>No it's not illegal and you won't get in trouble for it. Especially as pornhub is legal.  There's weirder things on there like scooby doo or American dad sketches.  We all get curious. There's nothing to worry about x</td>\n",
       "      <td>0.8477</td>\n",
       "      <td>positive</td>\n",
       "      <td>faithful</td>\n",
       "    </tr>\n",
       "    <tr>\n",
       "      <th>4127</th>\n",
       "      <td>1732</td>\n",
       "      <td>MentalHealthSupport</td>\n",
       "      <td>Hello, I need some advice/help</td>\n",
       "      <td>itsyaboi-apyr</td>\n",
       "      <td>3</td>\n",
       "      <td>Thank you so much, I’ve felt so bad for so long, I was at the point where I can’t handle it anymore, I know this whole thing sounds stupid but I have been having serious suicidal thoughts over it, after reading your comment I’m crying lol, I was so worried about posting this but I’m at the point where it was either a suicidal help line or this, I chose this because I wasn’t brave enough for the latter but seriously thank you I was so nervous, also please excuse my lack of ability to do parag...</td>\n",
       "      <td>-0.9430</td>\n",
       "      <td>negative</td>\n",
       "      <td>anxious</td>\n",
       "    </tr>\n",
       "    <tr>\n",
       "      <th>4128</th>\n",
       "      <td>1732</td>\n",
       "      <td>MentalHealthSupport</td>\n",
       "      <td>Hello, I need some advice/help</td>\n",
       "      <td>SophieSofar</td>\n",
       "      <td>4</td>\n",
       "      <td>No problem. I was the same when I started exploring that side of the web. It's harmless x</td>\n",
       "      <td>0.5037</td>\n",
       "      <td>positive</td>\n",
       "      <td>sentimental</td>\n",
       "    </tr>\n",
       "    <tr>\n",
       "      <th>4129</th>\n",
       "      <td>1732</td>\n",
       "      <td>MentalHealthSupport</td>\n",
       "      <td>Hello, I need some advice/help</td>\n",
       "      <td>itsyaboi-apyr</td>\n",
       "      <td>5</td>\n",
       "      <td>So do you really think I’ll be ok?</td>\n",
       "      <td>0.0000</td>\n",
       "      <td>neutral</td>\n",
       "      <td>sentimental</td>\n",
       "    </tr>\n",
       "    <tr>\n",
       "      <th>4130</th>\n",
       "      <td>1732</td>\n",
       "      <td>MentalHealthSupport</td>\n",
       "      <td>Hello, I need some advice/help</td>\n",
       "      <td>SophieSofar</td>\n",
       "      <td>6</td>\n",
       "      <td>Yeah for sure. Pornhub can't have anything illegal on there or they'll lose their licence</td>\n",
       "      <td>0.5753</td>\n",
       "      <td>positive</td>\n",
       "      <td>angry</td>\n",
       "    </tr>\n",
       "    <tr>\n",
       "      <th>4131</th>\n",
       "      <td>1732</td>\n",
       "      <td>MentalHealthSupport</td>\n",
       "      <td>Hello, I need some advice/help</td>\n",
       "      <td>itsyaboi-apyr</td>\n",
       "      <td>7</td>\n",
       "      <td>I was just really worried because i read that even hentai which is underage is illegal, so as you could probably guess I had a panic attack, but it’s been 2-3 years so I don’t think I’ll be in trouble right? And I never downloaded it</td>\n",
       "      <td>-0.8688</td>\n",
       "      <td>negative</td>\n",
       "      <td>embarrassed</td>\n",
       "    </tr>\n",
       "    <tr>\n",
       "      <th>4132</th>\n",
       "      <td>1732</td>\n",
       "      <td>MentalHealthSupport</td>\n",
       "      <td>Hello, I need some advice/help</td>\n",
       "      <td>SophieSofar</td>\n",
       "      <td>8</td>\n",
       "      <td>Kids sent each other weirder stuff when I was in school. If nothing has happened by now it won't happen x</td>\n",
       "      <td>-0.1280</td>\n",
       "      <td>negative</td>\n",
       "      <td>embarrassed</td>\n",
       "    </tr>\n",
       "    <tr>\n",
       "      <th>4133</th>\n",
       "      <td>1732</td>\n",
       "      <td>MentalHealthSupport</td>\n",
       "      <td>Hello, I need some advice/help</td>\n",
       "      <td>itsyaboi-apyr</td>\n",
       "      <td>9</td>\n",
       "      <td>Thank you, your really nice which really helps my anxiety, I hope you have an amazing year, also would it be ok if I ever messaged you just in case I was worrying?</td>\n",
       "      <td>0.9189</td>\n",
       "      <td>positive</td>\n",
       "      <td>sentimental</td>\n",
       "    </tr>\n",
       "    <tr>\n",
       "      <th>4134</th>\n",
       "      <td>1732</td>\n",
       "      <td>MentalHealthSupport</td>\n",
       "      <td>Hello, I need some advice/help</td>\n",
       "      <td>SophieSofar</td>\n",
       "      <td>10</td>\n",
       "      <td>No problem. Hopefully this advice will allow you to move forward with your life x</td>\n",
       "      <td>0.2263</td>\n",
       "      <td>positive</td>\n",
       "      <td>sentimental</td>\n",
       "    </tr>\n",
       "  </tbody>\n",
       "</table>\n",
       "</div>"
      ],
      "text/plain": [
       "      conversation_id            subreddit                      post_title  \\\n",
       "4125             1732  MentalHealthSupport  Hello, I need some advice/help   \n",
       "4126             1732  MentalHealthSupport  Hello, I need some advice/help   \n",
       "4127             1732  MentalHealthSupport  Hello, I need some advice/help   \n",
       "4128             1732  MentalHealthSupport  Hello, I need some advice/help   \n",
       "4129             1732  MentalHealthSupport  Hello, I need some advice/help   \n",
       "4130             1732  MentalHealthSupport  Hello, I need some advice/help   \n",
       "4131             1732  MentalHealthSupport  Hello, I need some advice/help   \n",
       "4132             1732  MentalHealthSupport  Hello, I need some advice/help   \n",
       "4133             1732  MentalHealthSupport  Hello, I need some advice/help   \n",
       "4134             1732  MentalHealthSupport  Hello, I need some advice/help   \n",
       "\n",
       "             author  dialog_turn  \\\n",
       "4125  itsyaboi-apyr            1   \n",
       "4126    SophieSofar            2   \n",
       "4127  itsyaboi-apyr            3   \n",
       "4128    SophieSofar            4   \n",
       "4129  itsyaboi-apyr            5   \n",
       "4130    SophieSofar            6   \n",
       "4131  itsyaboi-apyr            7   \n",
       "4132    SophieSofar            8   \n",
       "4133  itsyaboi-apyr            9   \n",
       "4134    SophieSofar           10   \n",
       "\n",
       "                                                                                                                                                                                                                                                                                                                                                                                                                                                                                                                     text  \\\n",
       "4125  I’m kinda worried about posting this here because I don’t know if it is correct or not but I’m stuck in a very bad anxiety hole atm, I posted this in one of the legal advice subs and everyone said it’s more of a mental health problem, (also sorry I don’t know how to do paragraphs) ok so recently every single day and night I’ve been having panic attacks over something that happened 2-3 years ago, when I was 13 I was on pornhub and came across Ben 10 hentai and being thirty I was very stupid a...   \n",
       "4126                                                                                                                                                                                                                                                                                            No it's not illegal and you won't get in trouble for it. Especially as pornhub is legal.  There's weirder things on there like scooby doo or American dad sketches.  We all get curious. There's nothing to worry about x   \n",
       "4127  Thank you so much, I’ve felt so bad for so long, I was at the point where I can’t handle it anymore, I know this whole thing sounds stupid but I have been having serious suicidal thoughts over it, after reading your comment I’m crying lol, I was so worried about posting this but I’m at the point where it was either a suicidal help line or this, I chose this because I wasn’t brave enough for the latter but seriously thank you I was so nervous, also please excuse my lack of ability to do parag...   \n",
       "4128                                                                                                                                                                                                                                                                                                                                                                                                                            No problem. I was the same when I started exploring that side of the web. It's harmless x   \n",
       "4129                                                                                                                                                                                                                                                                                                                                                                                                                                                                                   So do you really think I’ll be ok?   \n",
       "4130                                                                                                                                                                                                                                                                                                                                                                                                                            Yeah for sure. Pornhub can't have anything illegal on there or they'll lose their licence   \n",
       "4131                                                                                                                                                                                                                                                                            I was just really worried because i read that even hentai which is underage is illegal, so as you could probably guess I had a panic attack, but it’s been 2-3 years so I don’t think I’ll be in trouble right? And I never downloaded it   \n",
       "4132                                                                                                                                                                                                                                                                                                                                                                                                            Kids sent each other weirder stuff when I was in school. If nothing has happened by now it won't happen x   \n",
       "4133                                                                                                                                                                                                                                                                                                                                                  Thank you, your really nice which really helps my anxiety, I hope you have an amazing year, also would it be ok if I ever messaged you just in case I was worrying?   \n",
       "4134                                                                                                                                                                                                                                                                                                                                                                                                                                    No problem. Hopefully this advice will allow you to move forward with your life x   \n",
       "\n",
       "      compound sentiment emotion_prediction  \n",
       "4125   -0.9960  negative       anticipating  \n",
       "4126    0.8477  positive           faithful  \n",
       "4127   -0.9430  negative            anxious  \n",
       "4128    0.5037  positive        sentimental  \n",
       "4129    0.0000   neutral        sentimental  \n",
       "4130    0.5753  positive              angry  \n",
       "4131   -0.8688  negative        embarrassed  \n",
       "4132   -0.1280  negative        embarrassed  \n",
       "4133    0.9189  positive        sentimental  \n",
       "4134    0.2263  positive        sentimental  "
      ]
     },
     "execution_count": 61,
     "metadata": {},
     "output_type": "execute_result"
    }
   ],
   "source": [
    "df[df[\"conversation_id\"] == 1732]"
   ]
  },
  {
   "cell_type": "code",
   "execution_count": 62,
   "metadata": {},
   "outputs": [
    {
     "name": "stdout",
     "output_type": "stream",
     "text": [
      "Conversation length:  10\n",
      "Speaker-listener turn difference:  None  -->  high engagement\n",
      "Sentiment shift:  0.2  with grateful bonus:  0  -->  neutral satisfaction\n",
      "Classification summary:  high engagement, neutral satisfaction\n",
      "\n"
     ]
    },
    {
     "data": {
      "image/png": "[encoded data removed]",
      "text/plain": [
       "<Figure size 478.725x360 with 1 Axes>"
      ]
     },
     "metadata": {},
     "output_type": "display_data"
    }
   ],
   "source": [
    "test_examples(1732) "
   ]
  },
  {
   "cell_type": "markdown",
   "metadata": {},
   "source": [
    "### High engagement, moderate satisfaction"
   ]
  },
  {
   "cell_type": "code",
   "execution_count": 63,
   "metadata": {},
   "outputs": [
    {
     "data": {
      "text/html": [
       "<div>\n",
       "<style scoped>\n",
       "    .dataframe tbody tr th:only-of-type {\n",
       "        vertical-align: middle;\n",
       "    }\n",
       "\n",
       "    .dataframe tbody tr th {\n",
       "        vertical-align: top;\n",
       "    }\n",
       "\n",
       "    .dataframe thead th {\n",
       "        text-align: right;\n",
       "    }\n",
       "</style>\n",
       "<table border=\"1\" class=\"dataframe\">\n",
       "  <thead>\n",
       "    <tr style=\"text-align: right;\">\n",
       "      <th></th>\n",
       "      <th>conversation_id</th>\n",
       "      <th>subreddit</th>\n",
       "      <th>post_title</th>\n",
       "      <th>author</th>\n",
       "      <th>dialog_turn</th>\n",
       "      <th>text</th>\n",
       "      <th>compound</th>\n",
       "      <th>sentiment</th>\n",
       "      <th>emotion_prediction</th>\n",
       "    </tr>\n",
       "  </thead>\n",
       "  <tbody>\n",
       "    <tr>\n",
       "      <th>2418</th>\n",
       "      <td>1003</td>\n",
       "      <td>MentalHealthSupport</td>\n",
       "      <td>Mood swings from random bits of information.</td>\n",
       "      <td>q-6u</td>\n",
       "      <td>1</td>\n",
       "      <td>A bit of background information. I smoked weed twice in my life, first time in november of 2018 and second in april of 2019. both times i had extreme panic attacks that were amplified by my depersonalization disorder. I get really stressed out when I think about those episodes I had, and worry about death constantly.    Recently, my girlfriend has admitted to me that she’s been smoking weed regularly for over a year. I don’t know why, but that bothered me and put me in a really depressed moo...</td>\n",
       "      <td>-0.9820</td>\n",
       "      <td>negative</td>\n",
       "      <td>grateful</td>\n",
       "    </tr>\n",
       "    <tr>\n",
       "      <th>2419</th>\n",
       "      <td>1003</td>\n",
       "      <td>MentalHealthSupport</td>\n",
       "      <td>Mood swings from random bits of information.</td>\n",
       "      <td>you_are_marvelous</td>\n",
       "      <td>2</td>\n",
       "      <td>Well, I'm going to take a stab at it and say that you have mixed feelings and anxiety because you've been raised to think of weed as a bad thing and it's been demonized. So there's already a stigma there for you when it comes to the drug. Then there's the other side of it, which is you tried it, you had a severe panic attack (which can happen depending on the type of weed. I've had one as well with some kinds, and not with others. And I've had depersonalization on weed too. Your frame of min...</td>\n",
       "      <td>-0.8813</td>\n",
       "      <td>negative</td>\n",
       "      <td>anxious</td>\n",
       "    </tr>\n",
       "    <tr>\n",
       "      <th>2420</th>\n",
       "      <td>1003</td>\n",
       "      <td>MentalHealthSupport</td>\n",
       "      <td>Mood swings from random bits of information.</td>\n",
       "      <td>q-6u</td>\n",
       "      <td>3</td>\n",
       "      <td>you hit the nail on the head with that egg analogy. except if i were you, i’d be under this false idea that eggs are killing everyone and turning them into shitty burnouts. i don’t know why.</td>\n",
       "      <td>-0.8402</td>\n",
       "      <td>negative</td>\n",
       "      <td>sentimental</td>\n",
       "    </tr>\n",
       "    <tr>\n",
       "      <th>2421</th>\n",
       "      <td>1003</td>\n",
       "      <td>MentalHealthSupport</td>\n",
       "      <td>Mood swings from random bits of information.</td>\n",
       "      <td>you_are_marvelous</td>\n",
       "      <td>4</td>\n",
       "      <td>Awww. I’m sorry you feel that way. I’d look into why you’re having that reaction to it. 💗</td>\n",
       "      <td>0.6808</td>\n",
       "      <td>positive</td>\n",
       "      <td>sentimental</td>\n",
       "    </tr>\n",
       "    <tr>\n",
       "      <th>2422</th>\n",
       "      <td>1003</td>\n",
       "      <td>MentalHealthSupport</td>\n",
       "      <td>Mood swings from random bits of information.</td>\n",
       "      <td>q-6u</td>\n",
       "      <td>5</td>\n",
       "      <td>i feel so alone in my life and it eats me up inside to hear that the one i love is having a normal reaction to it. i feel left out and angry at the same time and i just cut my wrists tonight to get my mind off of her. i’m a fucking wreck</td>\n",
       "      <td>-0.7192</td>\n",
       "      <td>negative</td>\n",
       "      <td>embarrassed</td>\n",
       "    </tr>\n",
       "    <tr>\n",
       "      <th>2423</th>\n",
       "      <td>1003</td>\n",
       "      <td>MentalHealthSupport</td>\n",
       "      <td>Mood swings from random bits of information.</td>\n",
       "      <td>you_are_marvelous</td>\n",
       "      <td>6</td>\n",
       "      <td>Did you self-harm or attempt suicide? Are you okay?!</td>\n",
       "      <td>-0.6430</td>\n",
       "      <td>negative</td>\n",
       "      <td>sentimental</td>\n",
       "    </tr>\n",
       "    <tr>\n",
       "      <th>2424</th>\n",
       "      <td>1003</td>\n",
       "      <td>MentalHealthSupport</td>\n",
       "      <td>Mood swings from random bits of information.</td>\n",
       "      <td>q-6u</td>\n",
       "      <td>7</td>\n",
       "      <td>self harm.</td>\n",
       "      <td>-0.5423</td>\n",
       "      <td>negative</td>\n",
       "      <td>surprised</td>\n",
       "    </tr>\n",
       "    <tr>\n",
       "      <th>2425</th>\n",
       "      <td>1003</td>\n",
       "      <td>MentalHealthSupport</td>\n",
       "      <td>Mood swings from random bits of information.</td>\n",
       "      <td>you_are_marvelous</td>\n",
       "      <td>8</td>\n",
       "      <td>How are you doing today?</td>\n",
       "      <td>0.0000</td>\n",
       "      <td>neutral</td>\n",
       "      <td>grateful</td>\n",
       "    </tr>\n",
       "    <tr>\n",
       "      <th>2426</th>\n",
       "      <td>1003</td>\n",
       "      <td>MentalHealthSupport</td>\n",
       "      <td>Mood swings from random bits of information.</td>\n",
       "      <td>q-6u</td>\n",
       "      <td>9</td>\n",
       "      <td>i’ve been mych, much better since i last logged into reddit.    thanks for sticking around, and for your help. seriously.</td>\n",
       "      <td>0.7783</td>\n",
       "      <td>positive</td>\n",
       "      <td>grateful</td>\n",
       "    </tr>\n",
       "    <tr>\n",
       "      <th>2427</th>\n",
       "      <td>1003</td>\n",
       "      <td>MentalHealthSupport</td>\n",
       "      <td>Mood swings from random bits of information.</td>\n",
       "      <td>you_are_marvelous</td>\n",
       "      <td>10</td>\n",
       "      <td>So glad to hear that! And you’re very welcome. :)</td>\n",
       "      <td>0.8795</td>\n",
       "      <td>positive</td>\n",
       "      <td>anticipating</td>\n",
       "    </tr>\n",
       "  </tbody>\n",
       "</table>\n",
       "</div>"
      ],
      "text/plain": [
       "      conversation_id            subreddit  \\\n",
       "2418             1003  MentalHealthSupport   \n",
       "2419             1003  MentalHealthSupport   \n",
       "2420             1003  MentalHealthSupport   \n",
       "2421             1003  MentalHealthSupport   \n",
       "2422             1003  MentalHealthSupport   \n",
       "2423             1003  MentalHealthSupport   \n",
       "2424             1003  MentalHealthSupport   \n",
       "2425             1003  MentalHealthSupport   \n",
       "2426             1003  MentalHealthSupport   \n",
       "2427             1003  MentalHealthSupport   \n",
       "\n",
       "                                        post_title             author  \\\n",
       "2418  Mood swings from random bits of information.               q-6u   \n",
       "2419  Mood swings from random bits of information.  you_are_marvelous   \n",
       "2420  Mood swings from random bits of information.               q-6u   \n",
       "2421  Mood swings from random bits of information.  you_are_marvelous   \n",
       "2422  Mood swings from random bits of information.               q-6u   \n",
       "2423  Mood swings from random bits of information.  you_are_marvelous   \n",
       "2424  Mood swings from random bits of information.               q-6u   \n",
       "2425  Mood swings from random bits of information.  you_are_marvelous   \n",
       "2426  Mood swings from random bits of information.               q-6u   \n",
       "2427  Mood swings from random bits of information.  you_are_marvelous   \n",
       "\n",
       "      dialog_turn  \\\n",
       "2418            1   \n",
       "2419            2   \n",
       "2420            3   \n",
       "2421            4   \n",
       "2422            5   \n",
       "2423            6   \n",
       "2424            7   \n",
       "2425            8   \n",
       "2426            9   \n",
       "2427           10   \n",
       "\n",
       "                                                                                                                                                                                                                                                                                                                                                                                                                                                                                                                     text  \\\n",
       "2418  A bit of background information. I smoked weed twice in my life, first time in november of 2018 and second in april of 2019. both times i had extreme panic attacks that were amplified by my depersonalization disorder. I get really stressed out when I think about those episodes I had, and worry about death constantly.    Recently, my girlfriend has admitted to me that she’s been smoking weed regularly for over a year. I don’t know why, but that bothered me and put me in a really depressed moo...   \n",
       "2419  Well, I'm going to take a stab at it and say that you have mixed feelings and anxiety because you've been raised to think of weed as a bad thing and it's been demonized. So there's already a stigma there for you when it comes to the drug. Then there's the other side of it, which is you tried it, you had a severe panic attack (which can happen depending on the type of weed. I've had one as well with some kinds, and not with others. And I've had depersonalization on weed too. Your frame of min...   \n",
       "2420                                                                                                                                                                                                                                                                                                                       you hit the nail on the head with that egg analogy. except if i were you, i’d be under this false idea that eggs are killing everyone and turning them into shitty burnouts. i don’t know why.   \n",
       "2421                                                                                                                                                                                                                                                                                                                                                                                                                            Awww. I’m sorry you feel that way. I’d look into why you’re having that reaction to it. 💗   \n",
       "2422                                                                                                                                                                                                                                                                        i feel so alone in my life and it eats me up inside to hear that the one i love is having a normal reaction to it. i feel left out and angry at the same time and i just cut my wrists tonight to get my mind off of her. i’m a fucking wreck   \n",
       "2423                                                                                                                                                                                                                                                                                                                                                                                                                                                                 Did you self-harm or attempt suicide? Are you okay?!   \n",
       "2424                                                                                                                                                                                                                                                                                                                                                                                                                                                                                                           self harm.   \n",
       "2425                                                                                                                                                                                                                                                                                                                                                                                                                                                                                             How are you doing today?   \n",
       "2426                                                                                                                                                                                                                                                                                                                                                                                            i’ve been mych, much better since i last logged into reddit.    thanks for sticking around, and for your help. seriously.   \n",
       "2427                                                                                                                                                                                                                                                                                                                                                                                                                                                                    So glad to hear that! And you’re very welcome. :)   \n",
       "\n",
       "      compound sentiment emotion_prediction  \n",
       "2418   -0.9820  negative           grateful  \n",
       "2419   -0.8813  negative            anxious  \n",
       "2420   -0.8402  negative        sentimental  \n",
       "2421    0.6808  positive        sentimental  \n",
       "2422   -0.7192  negative        embarrassed  \n",
       "2423   -0.6430  negative        sentimental  \n",
       "2424   -0.5423  negative          surprised  \n",
       "2425    0.0000   neutral           grateful  \n",
       "2426    0.7783  positive           grateful  \n",
       "2427    0.8795  positive       anticipating  "
      ]
     },
     "execution_count": 63,
     "metadata": {},
     "output_type": "execute_result"
    }
   ],
   "source": [
    "df[df[\"conversation_id\"] == 1003]"
   ]
  },
  {
   "cell_type": "code",
   "execution_count": 64,
   "metadata": {},
   "outputs": [
    {
     "name": "stdout",
     "output_type": "stream",
     "text": [
      "Conversation length:  10\n",
      "Speaker-listener turn difference:  None  -->  high engagement\n",
      "Sentiment shift:  0.59  with grateful bonus:  0.4  -->  moderate satisfaction\n",
      "Classification summary:  high engagement, moderate satisfaction\n",
      "\n"
     ]
    },
    {
     "data": {
      "image/png": "[encoded data removed]",
      "text/plain": [
       "<Figure size 478.725x360 with 1 Axes>"
      ]
     },
     "metadata": {},
     "output_type": "display_data"
    }
   ],
   "source": [
    "test_examples(1003) "
   ]
  },
  {
   "cell_type": "markdown",
   "metadata": {},
   "source": [
    "### High engagement, neutral satisfaction"
   ]
  },
  {
   "cell_type": "code",
   "execution_count": 65,
   "metadata": {},
   "outputs": [
    {
     "data": {
      "text/html": [
       "<div>\n",
       "<style scoped>\n",
       "    .dataframe tbody tr th:only-of-type {\n",
       "        vertical-align: middle;\n",
       "    }\n",
       "\n",
       "    .dataframe tbody tr th {\n",
       "        vertical-align: top;\n",
       "    }\n",
       "\n",
       "    .dataframe thead th {\n",
       "        text-align: right;\n",
       "    }\n",
       "</style>\n",
       "<table border=\"1\" class=\"dataframe\">\n",
       "  <thead>\n",
       "    <tr style=\"text-align: right;\">\n",
       "      <th></th>\n",
       "      <th>conversation_id</th>\n",
       "      <th>subreddit</th>\n",
       "      <th>post_title</th>\n",
       "      <th>author</th>\n",
       "      <th>dialog_turn</th>\n",
       "      <th>text</th>\n",
       "      <th>compound</th>\n",
       "      <th>sentiment</th>\n",
       "      <th>emotion_prediction</th>\n",
       "    </tr>\n",
       "  </thead>\n",
       "  <tbody>\n",
       "    <tr>\n",
       "      <th>2028</th>\n",
       "      <td>854</td>\n",
       "      <td>MentalHealthSupport</td>\n",
       "      <td>Whenever I'm alone I get really depressed, and I worry about my friends too much</td>\n",
       "      <td>EvieCryophoenix</td>\n",
       "      <td>1</td>\n",
       "      <td>Ok so I haven't been diagnosed with anything fwi.  But it's gotten to the point where if I'm alone or not busy I get really depressed about random stuff, and I can't help it, I always put happy music on to try and help but it doesn't. I've had the most amazing weekend ever from Friday to Monday I was at a friend's house and ive never laughed so much in such a short amount of time in my life. But now (Tuesday) I just feel awful, empty, sad. And idk why.  And I have this real problem where I g...</td>\n",
       "      <td>0.9023</td>\n",
       "      <td>positive</td>\n",
       "      <td>anxious</td>\n",
       "    </tr>\n",
       "    <tr>\n",
       "      <th>2029</th>\n",
       "      <td>854</td>\n",
       "      <td>MentalHealthSupport</td>\n",
       "      <td>Whenever I'm alone I get really depressed, and I worry about my friends too much</td>\n",
       "      <td>MorningStar113</td>\n",
       "      <td>2</td>\n",
       "      <td>Maybe your extroverted, and something else is making those feelings worse. It might just be that you really need to be around people. Don't worry, you're going to be okay. I'm really sorry, I really wish I could help more</td>\n",
       "      <td>0.6492</td>\n",
       "      <td>positive</td>\n",
       "      <td>guilty</td>\n",
       "    </tr>\n",
       "    <tr>\n",
       "      <th>2030</th>\n",
       "      <td>854</td>\n",
       "      <td>MentalHealthSupport</td>\n",
       "      <td>Whenever I'm alone I get really depressed, and I worry about my friends too much</td>\n",
       "      <td>EvieCryophoenix</td>\n",
       "      <td>3</td>\n",
       "      <td>I'm not though. I like being inside the house. And there is something that makes everything worse but that's personal.</td>\n",
       "      <td>-0.3828</td>\n",
       "      <td>negative</td>\n",
       "      <td>lonely</td>\n",
       "    </tr>\n",
       "    <tr>\n",
       "      <th>2031</th>\n",
       "      <td>854</td>\n",
       "      <td>MentalHealthSupport</td>\n",
       "      <td>Whenever I'm alone I get really depressed, and I worry about my friends too much</td>\n",
       "      <td>MorningStar113</td>\n",
       "      <td>4</td>\n",
       "      <td>I'm really sorry. I'm not an expert, and I really wish I could help you. The most I can do is give you someone to talk to</td>\n",
       "      <td>0.6249</td>\n",
       "      <td>positive</td>\n",
       "      <td>sentimental</td>\n",
       "    </tr>\n",
       "    <tr>\n",
       "      <th>2032</th>\n",
       "      <td>854</td>\n",
       "      <td>MentalHealthSupport</td>\n",
       "      <td>Whenever I'm alone I get really depressed, and I worry about my friends too much</td>\n",
       "      <td>EvieCryophoenix</td>\n",
       "      <td>5</td>\n",
       "      <td>Does this sound like anything serious?</td>\n",
       "      <td>0.2960</td>\n",
       "      <td>positive</td>\n",
       "      <td>grateful</td>\n",
       "    </tr>\n",
       "    <tr>\n",
       "      <th>2033</th>\n",
       "      <td>854</td>\n",
       "      <td>MentalHealthSupport</td>\n",
       "      <td>Whenever I'm alone I get really depressed, and I worry about my friends too much</td>\n",
       "      <td>MorningStar113</td>\n",
       "      <td>6</td>\n",
       "      <td>From my very limited knowledge, it doesn't seem to be. It seems to be just something with your personality, not anything serious. But again, I'm not an expert. I'm sorry</td>\n",
       "      <td>-0.2348</td>\n",
       "      <td>negative</td>\n",
       "      <td>sentimental</td>\n",
       "    </tr>\n",
       "    <tr>\n",
       "      <th>2034</th>\n",
       "      <td>854</td>\n",
       "      <td>MentalHealthSupport</td>\n",
       "      <td>Whenever I'm alone I get really depressed, and I worry about my friends too much</td>\n",
       "      <td>EvieCryophoenix</td>\n",
       "      <td>7</td>\n",
       "      <td>its okay, thanks for the help</td>\n",
       "      <td>0.7579</td>\n",
       "      <td>positive</td>\n",
       "      <td>furious</td>\n",
       "    </tr>\n",
       "    <tr>\n",
       "      <th>2035</th>\n",
       "      <td>854</td>\n",
       "      <td>MentalHealthSupport</td>\n",
       "      <td>Whenever I'm alone I get really depressed, and I worry about my friends too much</td>\n",
       "      <td>MorningStar113</td>\n",
       "      <td>8</td>\n",
       "      <td>If you need someone to talk to, I'd like to volunteer</td>\n",
       "      <td>0.3612</td>\n",
       "      <td>positive</td>\n",
       "      <td>sentimental</td>\n",
       "    </tr>\n",
       "  </tbody>\n",
       "</table>\n",
       "</div>"
      ],
      "text/plain": [
       "      conversation_id            subreddit  \\\n",
       "2028              854  MentalHealthSupport   \n",
       "2029              854  MentalHealthSupport   \n",
       "2030              854  MentalHealthSupport   \n",
       "2031              854  MentalHealthSupport   \n",
       "2032              854  MentalHealthSupport   \n",
       "2033              854  MentalHealthSupport   \n",
       "2034              854  MentalHealthSupport   \n",
       "2035              854  MentalHealthSupport   \n",
       "\n",
       "                                                                            post_title  \\\n",
       "2028  Whenever I'm alone I get really depressed, and I worry about my friends too much   \n",
       "2029  Whenever I'm alone I get really depressed, and I worry about my friends too much   \n",
       "2030  Whenever I'm alone I get really depressed, and I worry about my friends too much   \n",
       "2031  Whenever I'm alone I get really depressed, and I worry about my friends too much   \n",
       "2032  Whenever I'm alone I get really depressed, and I worry about my friends too much   \n",
       "2033  Whenever I'm alone I get really depressed, and I worry about my friends too much   \n",
       "2034  Whenever I'm alone I get really depressed, and I worry about my friends too much   \n",
       "2035  Whenever I'm alone I get really depressed, and I worry about my friends too much   \n",
       "\n",
       "               author  dialog_turn  \\\n",
       "2028  EvieCryophoenix            1   \n",
       "2029   MorningStar113            2   \n",
       "2030  EvieCryophoenix            3   \n",
       "2031   MorningStar113            4   \n",
       "2032  EvieCryophoenix            5   \n",
       "2033   MorningStar113            6   \n",
       "2034  EvieCryophoenix            7   \n",
       "2035   MorningStar113            8   \n",
       "\n",
       "                                                                                                                                                                                                                                                                                                                                                                                                                                                                                                                     text  \\\n",
       "2028  Ok so I haven't been diagnosed with anything fwi.  But it's gotten to the point where if I'm alone or not busy I get really depressed about random stuff, and I can't help it, I always put happy music on to try and help but it doesn't. I've had the most amazing weekend ever from Friday to Monday I was at a friend's house and ive never laughed so much in such a short amount of time in my life. But now (Tuesday) I just feel awful, empty, sad. And idk why.  And I have this real problem where I g...   \n",
       "2029                                                                                                                                                                                                                                                                                        Maybe your extroverted, and something else is making those feelings worse. It might just be that you really need to be around people. Don't worry, you're going to be okay. I'm really sorry, I really wish I could help more   \n",
       "2030                                                                                                                                                                                                                                                                                                                                                                                               I'm not though. I like being inside the house. And there is something that makes everything worse but that's personal.   \n",
       "2031                                                                                                                                                                                                                                                                                                                                                                                            I'm really sorry. I'm not an expert, and I really wish I could help you. The most I can do is give you someone to talk to   \n",
       "2032                                                                                                                                                                                                                                                                                                                                                                                                                                                                               Does this sound like anything serious?   \n",
       "2033                                                                                                                                                                                                                                                                                                                                            From my very limited knowledge, it doesn't seem to be. It seems to be just something with your personality, not anything serious. But again, I'm not an expert. I'm sorry   \n",
       "2034                                                                                                                                                                                                                                                                                                                                                                                                                                                                                        its okay, thanks for the help   \n",
       "2035                                                                                                                                                                                                                                                                                                                                                                                                                                                                If you need someone to talk to, I'd like to volunteer   \n",
       "\n",
       "      compound sentiment emotion_prediction  \n",
       "2028    0.9023  positive            anxious  \n",
       "2029    0.6492  positive             guilty  \n",
       "2030   -0.3828  negative             lonely  \n",
       "2031    0.6249  positive        sentimental  \n",
       "2032    0.2960  positive           grateful  \n",
       "2033   -0.2348  negative        sentimental  \n",
       "2034    0.7579  positive            furious  \n",
       "2035    0.3612  positive        sentimental  "
      ]
     },
     "execution_count": 65,
     "metadata": {},
     "output_type": "execute_result"
    }
   ],
   "source": [
    "df[df[\"conversation_id\"] == 854]"
   ]
  },
  {
   "cell_type": "code",
   "execution_count": 66,
   "metadata": {},
   "outputs": [
    {
     "name": "stdout",
     "output_type": "stream",
     "text": [
      "Conversation length:  8\n",
      "Speaker-listener turn difference:  None  -->  high engagement\n",
      "Sentiment shift:  0.012  with grateful bonus:  0  -->  neutral satisfaction\n",
      "Classification summary:  high engagement, neutral satisfaction\n",
      "\n"
     ]
    },
    {
     "data": {
      "image/png": "[encoded data removed]",
      "text/plain": [
       "<Figure size 478.725x360 with 1 Axes>"
      ]
     },
     "metadata": {},
     "output_type": "display_data"
    }
   ],
   "source": [
    "test_examples(854) "
   ]
  },
  {
   "cell_type": "markdown",
   "metadata": {},
   "source": [
    "### Moderate engagement, neutral satisfaction"
   ]
  },
  {
   "cell_type": "markdown",
   "metadata": {},
   "source": [
    "This is also an example with merged speaker turns. "
   ]
  },
  {
   "cell_type": "code",
   "execution_count": 67,
   "metadata": {},
   "outputs": [
    {
     "data": {
      "text/html": [
       "<div>\n",
       "<style scoped>\n",
       "    .dataframe tbody tr th:only-of-type {\n",
       "        vertical-align: middle;\n",
       "    }\n",
       "\n",
       "    .dataframe tbody tr th {\n",
       "        vertical-align: top;\n",
       "    }\n",
       "\n",
       "    .dataframe thead th {\n",
       "        text-align: right;\n",
       "    }\n",
       "</style>\n",
       "<table border=\"1\" class=\"dataframe\">\n",
       "  <thead>\n",
       "    <tr style=\"text-align: right;\">\n",
       "      <th></th>\n",
       "      <th>conversation_id</th>\n",
       "      <th>subreddit</th>\n",
       "      <th>post_title</th>\n",
       "      <th>author</th>\n",
       "      <th>dialog_turn</th>\n",
       "      <th>text</th>\n",
       "      <th>compound</th>\n",
       "      <th>sentiment</th>\n",
       "      <th>emotion_prediction</th>\n",
       "    </tr>\n",
       "  </thead>\n",
       "  <tbody>\n",
       "    <tr>\n",
       "      <th>55</th>\n",
       "      <td>24</td>\n",
       "      <td>MentalHealthSupport</td>\n",
       "      <td>Threatened by a stranger about mental disability.</td>\n",
       "      <td>N08ody</td>\n",
       "      <td>1</td>\n",
       "      <td>How they knew ill never know... But SOMEONE told them that shouldnt have... Here goes... I was on my way home after an evaluation ( dont worry everyone,  still nutty) and i stop by the grocery store to pick up a few things. . and the cashier says, \" we pay for that, dont we?\" in relation to my purchase. How in the hell did a cashier know i was on disability? Giving me a reason, without an identifiable motive is a good way to get yourself hurt. Keep it up.</td>\n",
       "      <td>-0.8225</td>\n",
       "      <td>negative</td>\n",
       "      <td>anxious</td>\n",
       "    </tr>\n",
       "    <tr>\n",
       "      <th>56</th>\n",
       "      <td>24</td>\n",
       "      <td>MentalHealthSupport</td>\n",
       "      <td>Threatened by a stranger about mental disability.</td>\n",
       "      <td>shatterSquish</td>\n",
       "      <td>2</td>\n",
       "      <td>That doesn't sound at all like they knew you were on disability. I think you're jumping to conclusions here. For example, their comment would also make sense in another context: if they just had to deal with a shoplifting kid and had just given a lecture about how everyone needs to pay for the stuff they want.</td>\n",
       "      <td>0.3400</td>\n",
       "      <td>positive</td>\n",
       "      <td>anxious</td>\n",
       "    </tr>\n",
       "    <tr>\n",
       "      <th>57</th>\n",
       "      <td>24</td>\n",
       "      <td>MentalHealthSupport</td>\n",
       "      <td>Threatened by a stranger about mental disability.</td>\n",
       "      <td>N08ody</td>\n",
       "      <td>3</td>\n",
       "      <td>Hey squish. Thanks for not just telling me it was \"all in my head.\"</td>\n",
       "      <td>0.4404</td>\n",
       "      <td>positive</td>\n",
       "      <td>sentimental</td>\n",
       "    </tr>\n",
       "    <tr>\n",
       "      <th>58</th>\n",
       "      <td>24</td>\n",
       "      <td>MentalHealthSupport</td>\n",
       "      <td>Threatened by a stranger about mental disability.</td>\n",
       "      <td>N08ody</td>\n",
       "      <td>4</td>\n",
       "      <td>A. I wasnt shoplifting. And B. The phrase \"We pay for that, dont we?\" is not a normal phrase. Appreciate your input, but i disagree.</td>\n",
       "      <td>-0.4118</td>\n",
       "      <td>negative</td>\n",
       "      <td>guilty</td>\n",
       "    </tr>\n",
       "  </tbody>\n",
       "</table>\n",
       "</div>"
      ],
      "text/plain": [
       "    conversation_id            subreddit  \\\n",
       "55               24  MentalHealthSupport   \n",
       "56               24  MentalHealthSupport   \n",
       "57               24  MentalHealthSupport   \n",
       "58               24  MentalHealthSupport   \n",
       "\n",
       "                                           post_title         author  \\\n",
       "55  Threatened by a stranger about mental disability.         N08ody   \n",
       "56  Threatened by a stranger about mental disability.  shatterSquish   \n",
       "57  Threatened by a stranger about mental disability.         N08ody   \n",
       "58  Threatened by a stranger about mental disability.         N08ody   \n",
       "\n",
       "    dialog_turn  \\\n",
       "55            1   \n",
       "56            2   \n",
       "57            3   \n",
       "58            4   \n",
       "\n",
       "                                                                                                                                                                                                                                                                                                                                                                                                                                                                           text  \\\n",
       "55  How they knew ill never know... But SOMEONE told them that shouldnt have... Here goes... I was on my way home after an evaluation ( dont worry everyone,  still nutty) and i stop by the grocery store to pick up a few things. . and the cashier says, \" we pay for that, dont we?\" in relation to my purchase. How in the hell did a cashier know i was on disability? Giving me a reason, without an identifiable motive is a good way to get yourself hurt. Keep it up.   \n",
       "56                                                                                                                                                      That doesn't sound at all like they knew you were on disability. I think you're jumping to conclusions here. For example, their comment would also make sense in another context: if they just had to deal with a shoplifting kid and had just given a lecture about how everyone needs to pay for the stuff they want.   \n",
       "57                                                                                                                                                                                                                                                                                                                                                                                                          Hey squish. Thanks for not just telling me it was \"all in my head.\"   \n",
       "58                                                                                                                                                                                                                                                                                                                                         A. I wasnt shoplifting. And B. The phrase \"We pay for that, dont we?\" is not a normal phrase. Appreciate your input, but i disagree.   \n",
       "\n",
       "    compound sentiment emotion_prediction  \n",
       "55   -0.8225  negative            anxious  \n",
       "56    0.3400  positive            anxious  \n",
       "57    0.4404  positive        sentimental  \n",
       "58   -0.4118  negative             guilty  "
      ]
     },
     "execution_count": 67,
     "metadata": {},
     "output_type": "execute_result"
    }
   ],
   "source": [
    "df[df[\"conversation_id\"] == 24]"
   ]
  },
  {
   "cell_type": "code",
   "execution_count": 68,
   "metadata": {},
   "outputs": [
    {
     "name": "stdout",
     "output_type": "stream",
     "text": [
      "Conversation length:  4\n",
      "Speaker-listener turn difference:  1  -->  moderate engagement\n",
      "Sentiment shift:  0.63  with grateful bonus:  0  -->  moderate satisfaction\n",
      "Classification summary:  moderate engagement, moderate satisfaction\n",
      "\n"
     ]
    },
    {
     "data": {
      "image/png": "[encoded data removed]",
      "text/plain": [
       "<Figure size 478.725x360 with 1 Axes>"
      ]
     },
     "metadata": {},
     "output_type": "display_data"
    }
   ],
   "source": [
    "test_examples(24) "
   ]
  },
  {
   "cell_type": "markdown",
   "metadata": {},
   "source": [
    "### Low engagement, moderate satisfaction"
   ]
  },
  {
   "cell_type": "code",
   "execution_count": 69,
   "metadata": {},
   "outputs": [
    {
     "data": {
      "text/html": [
       "<div>\n",
       "<style scoped>\n",
       "    .dataframe tbody tr th:only-of-type {\n",
       "        vertical-align: middle;\n",
       "    }\n",
       "\n",
       "    .dataframe tbody tr th {\n",
       "        vertical-align: top;\n",
       "    }\n",
       "\n",
       "    .dataframe thead th {\n",
       "        text-align: right;\n",
       "    }\n",
       "</style>\n",
       "<table border=\"1\" class=\"dataframe\">\n",
       "  <thead>\n",
       "    <tr style=\"text-align: right;\">\n",
       "      <th></th>\n",
       "      <th>conversation_id</th>\n",
       "      <th>subreddit</th>\n",
       "      <th>post_title</th>\n",
       "      <th>author</th>\n",
       "      <th>dialog_turn</th>\n",
       "      <th>text</th>\n",
       "      <th>compound</th>\n",
       "      <th>sentiment</th>\n",
       "      <th>emotion_prediction</th>\n",
       "    </tr>\n",
       "  </thead>\n",
       "  <tbody>\n",
       "    <tr>\n",
       "      <th>80</th>\n",
       "      <td>35</td>\n",
       "      <td>MentalHealthSupport</td>\n",
       "      <td>Losing hope</td>\n",
       "      <td>kelseybrynn</td>\n",
       "      <td>1</td>\n",
       "      <td>I'm not doing well today. I don't know how to contain or control my angst and abandonment issues.</td>\n",
       "      <td>-0.6386</td>\n",
       "      <td>negative</td>\n",
       "      <td>lonely</td>\n",
       "    </tr>\n",
       "    <tr>\n",
       "      <th>81</th>\n",
       "      <td>35</td>\n",
       "      <td>MentalHealthSupport</td>\n",
       "      <td>Losing hope</td>\n",
       "      <td>Leena52</td>\n",
       "      <td>2</td>\n",
       "      <td>If it is interfering with your ability to work and function, then you may wish to seek out professional help.  This sub is a good resource; however, you are worthy of more.  If you can not get to a professional or find some one to interact with in person, you may need to spend some time focused on something that you enjoy, preferable outdoor time (sunlight is known to lift mood) or exercise (this is proven to help lift the mood by releasing the good brain chemicals).  Staying focused on ones...</td>\n",
       "      <td>0.9837</td>\n",
       "      <td>positive</td>\n",
       "      <td>anticipating</td>\n",
       "    </tr>\n",
       "    <tr>\n",
       "      <th>82</th>\n",
       "      <td>35</td>\n",
       "      <td>MentalHealthSupport</td>\n",
       "      <td>Losing hope</td>\n",
       "      <td>kelseybrynn</td>\n",
       "      <td>3</td>\n",
       "      <td>Thank you...</td>\n",
       "      <td>0.3612</td>\n",
       "      <td>positive</td>\n",
       "      <td>sentimental</td>\n",
       "    </tr>\n",
       "  </tbody>\n",
       "</table>\n",
       "</div>"
      ],
      "text/plain": [
       "    conversation_id            subreddit   post_title       author  \\\n",
       "80               35  MentalHealthSupport  Losing hope  kelseybrynn   \n",
       "81               35  MentalHealthSupport  Losing hope      Leena52   \n",
       "82               35  MentalHealthSupport  Losing hope  kelseybrynn   \n",
       "\n",
       "    dialog_turn  \\\n",
       "80            1   \n",
       "81            2   \n",
       "82            3   \n",
       "\n",
       "                                                                                                                                                                                                                                                                                                                                                                                                                                                                                                                   text  \\\n",
       "80                                                                                                                                                                                                                                                                                                                                                                                                                   I'm not doing well today. I don't know how to contain or control my angst and abandonment issues.    \n",
       "81  If it is interfering with your ability to work and function, then you may wish to seek out professional help.  This sub is a good resource; however, you are worthy of more.  If you can not get to a professional or find some one to interact with in person, you may need to spend some time focused on something that you enjoy, preferable outdoor time (sunlight is known to lift mood) or exercise (this is proven to help lift the mood by releasing the good brain chemicals).  Staying focused on ones...   \n",
       "82                                                                                                                                                                                                                                                                                                                                                                                                                                                                                                         Thank you...   \n",
       "\n",
       "    compound sentiment emotion_prediction  \n",
       "80   -0.6386  negative             lonely  \n",
       "81    0.9837  positive       anticipating  \n",
       "82    0.3612  positive        sentimental  "
      ]
     },
     "execution_count": 69,
     "metadata": {},
     "output_type": "execute_result"
    }
   ],
   "source": [
    "df[df[\"conversation_id\"] == 35]"
   ]
  },
  {
   "cell_type": "code",
   "execution_count": 70,
   "metadata": {},
   "outputs": [
    {
     "name": "stdout",
     "output_type": "stream",
     "text": [
      "Conversation length:  3\n",
      "Speaker-listener turn difference:  1  -->  low engagement\n",
      "Sentiment shift:  0.5  with grateful bonus:  0  -->  moderate satisfaction\n",
      "Classification summary:  low engagement, moderate satisfaction\n",
      "\n"
     ]
    },
    {
     "data": {
      "image/png": "[encoded data removed]",
      "text/plain": [
       "<Figure size 478.725x360 with 1 Axes>"
      ]
     },
     "metadata": {},
     "output_type": "display_data"
    }
   ],
   "source": [
    "test_examples(35) "
   ]
  },
  {
   "cell_type": "markdown",
   "metadata": {},
   "source": [
    "## TODO: Create compound scores for engagement and satisfaction "
   ]
  },
  {
   "cell_type": "markdown",
   "metadata": {},
   "source": [
    "Check out VADER and Chun-Hung's code\n",
    "\n",
    "**VADER:**\n",
    "\n",
    "The **compound score** is computed by summing the **valence** scores of each word in the lexicon, adjusted according to the rules, and then **normalized** to be between -1 (most extreme negative) and +1 (most extreme positive). This is the most useful metric if you want a single unidimensional measure of sentiment for a given sentence. Calling it a 'normalized, weighted composite score' is accurate. \n",
    "\n",
    "It is also useful for researchers who would like to set standardized thresholds for classifying sentences as either positive, neutral, or negative. Typical **threshold values** (used in the literature cited on this page) are:\n",
    "- **positive sentiment: compound score >= 0.05**\n",
    "- **neutral sentiment: (compound score > -0.05) and (compound score < 0.05)**\n",
    "- **negative sentiment: compound score <= -0.05**"
   ]
  },
  {
   "cell_type": "markdown",
   "metadata": {},
   "source": [
    "**Satisfaction:**\n",
    "- Take off points if speaker got offended from listener's response \n",
    "- Find a lexicon of gratitude tokens\n",
    "\n",
    "**Engagement:**\n",
    "- make scoring numerical (a compound score column)\n",
    "    - put a weight to all the factors \n",
    "        - experiment and inspect which weights and threshold yield a good scoring\n",
    "\n",
    "**Examples:**\n",
    "- A few examples showing low/moderate/high engagement/satisfaction"
   ]
  }
 ],
 "metadata": {
  "kernelspec": {
   "display_name": "Python 3",
   "language": "python",
   "name": "python3"
  },
  "language_info": {
   "codemirror_mode": {
    "name": "ipython",
    "version": 3
   },
   "file_extension": ".py",
   "mimetype": "text/x-python",
   "name": "python",
   "nbconvert_exporter": "python",
   "pygments_lexer": "ipython3",
   "version": "3.7.6"
  }
 },
 "nbformat": 4,
 "nbformat_minor": 4
}
