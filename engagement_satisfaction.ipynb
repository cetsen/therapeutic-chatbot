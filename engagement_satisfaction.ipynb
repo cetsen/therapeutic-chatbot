{
 "cells": [
  {
   "cell_type": "markdown",
   "metadata": {},
   "source": [
    "# Measuring Engagement and Satisfaction in Online Mental Health Platform Conversations"
   ]
  },
  {
   "cell_type": "markdown",
   "metadata": {},
   "source": [
    "## Data preprocessing"
   ]
  },
  {
   "cell_type": "code",
   "execution_count": null,
   "metadata": {},
   "outputs": [],
   "source": [
    "import pandas as pd\n",
    "import numpy as np\n",
    "import matplotlib.pyplot as plt\n",
    "import seaborn as sns\n",
    "from sklearn.linear_model import LinearRegression\n",
    "from math import log10, floor\n",
    "import math"
   ]
  },
  {
   "cell_type": "code",
   "execution_count": null,
   "metadata": {},
   "outputs": [],
   "source": [
    "# Display long column text\n",
    "pd.options.display.max_colwidth = 500\n",
    "\n",
    "df = pd.read_csv(\"mentalhealthsupport_dyadic_convs_clean_emotion.csv\")\n",
    "df = df.rename(columns={'conversation id': 'conversation_id', 'post title': 'post_title', 'dialog turn': 'dialog_turn', 'emotion prediction': 'emotion_prediction'})"
   ]
  },
  {
   "cell_type": "code",
   "execution_count": 78,
   "metadata": {},
   "outputs": [
    {
     "name": "stdout",
     "output_type": "stream",
     "text": [
      "Number of conversations in subreddit:  3551\n",
      "Number of monologues in subreddit:  29\n",
      "Number of dialogues in subreddit:  487\n"
     ]
    }
   ],
   "source": [
    "### --- CLEANING OUT MONOLOGUES FROM DATASET --- ###\n",
    "\n",
    "# Group data by conversation id and calculate count of each conversation id\n",
    "df_conv = df.groupby(\"conversation_id\").count()\n",
    "df_conv = df_conv.drop(columns=[\"subreddit\", \"post_title\", \"author\", \"text\", \"compound\", \"sentiment\", \"emotion_prediction\"])\n",
    "print(\"Number of conversations in subreddit: \", len(df_conv))\n",
    "\n",
    "# Separate conversation id's with a single occurrence as monologues\n",
    "df_mono = df_conv[df_conv[\"dialog_turn\"] == 1]\n",
    "print(\"Number of monologues in subreddit: \", len(df_mono))\n",
    "df_mono_ids = df_mono.reset_index()\n",
    "df_mono_ids = df_mono_ids[\"conversation_id\"]\n",
    "\n",
    "# Separate conversation id's with multiple occurrences as dialogues\n",
    "df_dia = df_conv[df_conv[\"dialog_turn\"] > 2]\n",
    "print(\"Number of dialogues longer than 2 turns in subreddit: \", len(df_dia))\n",
    "df_dia = df_dia.reset_index()\n",
    "df_dia = df_dia.drop(columns=['dialog_turn'])\n",
    "\n",
    "# Join dialogue conversation id's with original data such that only dialogues remain in the dataset\n",
    "df = df.join(df_dia.set_index('conversation_id'), on='conversation_id', how=\"right\") \n",
    "\n",
    "# TODO: possibly remove single interaction conversations too as we cannot determine satisfaction\n",
    "\n",
    "### ---------------------------------------------- ###"
   ]
  },
  {
   "cell_type": "code",
   "execution_count": 79,
   "metadata": {},
   "outputs": [],
   "source": [
    "# Round numbers to a given number of significant figures (default = 2)\n",
    "def round_sig(x, sig=2):\n",
    "    if x != 0:\n",
    "        return round(x, sig-int(floor(log10(abs(x))))-1)\n",
    "    else:\n",
    "        return"
   ]
  },
  {
   "cell_type": "markdown",
   "metadata": {},
   "source": [
    "## Measuring the level of engagement"
   ]
  },
  {
   "cell_type": "markdown",
   "metadata": {},
   "source": [
    "### Does the speaker respond back when the listener gives a response?"
   ]
  },
  {
   "cell_type": "code",
   "execution_count": 80,
   "metadata": {},
   "outputs": [],
   "source": [
    "def extract_responses(conversation):\n",
    "    speaker = conversation.author.iloc[0]\n",
    "    listener = conversation[conversation[\"author\"] != speaker][\"author\"].unique().item() \n",
    "    speaker_responses = conversation[conversation[\"author\"] == speaker]\n",
    "    listener_responses = conversation[conversation[\"author\"] == listener]\n",
    "    num_speaker_responses = len(speaker_responses)\n",
    "    num_listener_responses = len(listener_responses)\n",
    "    \n",
    "    return speaker, listener, speaker_responses, listener_responses, num_speaker_responses, num_listener_responses"
   ]
  },
  {
   "cell_type": "code",
   "execution_count": 81,
   "metadata": {},
   "outputs": [],
   "source": [
    "def calculate_speaker_listener_ratio():\n",
    "    speaker_listener_ratio = num_speaker_responses / num_listener_responses\n",
    "    \n",
    "    engagement = \"\"\n",
    "    if len(conversation) == 2:\n",
    "        engagement = \"low engagement\" # single interaction\n",
    "    elif len(conversation) == 3:\n",
    "        if speaker_listener_ratio == 2: \n",
    "            engagement = \"low engagement\" # repeated seeker interaction)\n",
    "        else: #speaker_listener_ratio == 0.5: \n",
    "            engagement = \"low engagement\" # repeated peer supporter interaction\n",
    "    elif len(conversation) == 4:\n",
    "        if speaker_listener_ratio == 1:\n",
    "            engagement = \"high engagement\" # TODO: ask if 4 is enough to classify as high engagement b/c Sharma et. al. classifies it as mutual discourse\n",
    "        elif speaker_listener_ratio == 3 or speaker_listener_ratio == (1/3):\n",
    "            engagement = \"low engagement\"\n",
    "    elif len(conversation) > 4:\n",
    "        if speaker_listener_ratio >= 0.75 and speaker_listener_ratio <= 1.25:\n",
    "            engagement = \"high engagement\"\n",
    "        elif speaker_listener_ratio <= 0.5 or speaker_listener_ratio >= 1.5:\n",
    "            engagement = \"low engagement\"\n",
    "        else:\n",
    "            engagement = \"moderate engagement\"\n",
    "        \n",
    "    return round_sig(speaker_listener_ratio), engagement"
   ]
  },
  {
   "cell_type": "markdown",
   "metadata": {},
   "source": [
    "### Does the listener ask any informative questions or give any suggestions? "
   ]
  },
  {
   "cell_type": "markdown",
   "metadata": {},
   "source": [
    "Unfortunately, the emotion predictions are very inaccurate. Normally, we could have given bonus points to questioning and/or suggesting listener responses. "
   ]
  },
  {
   "cell_type": "code",
   "execution_count": 82,
   "metadata": {},
   "outputs": [],
   "source": [
    "# TODO: separately label each & every sentence, currently only the whole text is labeled"
   ]
  },
  {
   "cell_type": "markdown",
   "metadata": {},
   "source": [
    "### How the literature measures engagement"
   ]
  },
  {
   "cell_type": "markdown",
   "metadata": {},
   "source": [
    "## Measuring the level of satisfaction"
   ]
  },
  {
   "cell_type": "markdown",
   "metadata": {},
   "source": [
    "### Lexical details: \"Thank you\", \"It means a lot\""
   ]
  },
  {
   "cell_type": "markdown",
   "metadata": {},
   "source": [
    "### Shift of sentiment in speaker responses (sentiment trend)"
   ]
  },
  {
   "cell_type": "code",
   "execution_count": 83,
   "metadata": {},
   "outputs": [],
   "source": [
    "def plot_emotion_sentiment():   \n",
    "    sns.set_theme(style=\"white\")\n",
    "    g = sns.relplot(x=\"dialog_turn\", y=\"compound\", hue=\"sentiment\", style=\"emotion_prediction\", palette=\"Set1\",data=speaker_responses, s=200)\n",
    "    g.fig.suptitle('Sentimental and Emotional Shift in Speaker Responses with Conversation Progression', fontsize=16)\n",
    "    g.fig.subplots_adjust(top=0.9);"
   ]
  },
  {
   "cell_type": "code",
   "execution_count": 98,
   "metadata": {},
   "outputs": [],
   "source": [
    "# TODO: check if r^2 is actually a good measure for this\n",
    "def calculate_sentiment_shift():\n",
    "    satisfaction = \"\"\n",
    "    \n",
    "    x = np.array(speaker_responses[\"dialog_turn\"]).reshape((-1, 1))\n",
    "    y = np.array(speaker_responses[\"compound\"])\n",
    "    model = LinearRegression().fit(x, y)\n",
    "    r_sq = model.score(x, y)\n",
    "    \n",
    "    grateful_bonus = check_grateful_positive()\n",
    "    r_sq += grateful_bonus\n",
    "    \n",
    "    if len(conversation) == 2:\n",
    "        satisfaction = \"none\"\n",
    "        r_sq = 0\n",
    "    \n",
    "    else:\n",
    "        if r_sq >= 0.6: # TODO: play with these variables (maybe even do some ML to learn these params)\n",
    "            satisfaction = \"positive satisfaction\"\n",
    "        elif r_sq >= 0.4:\n",
    "            satisfaction = \"moderate satisfaction\"\n",
    "        elif r_sq < 0.4 and r_sq >= 0.3:\n",
    "            satisfaction = \"neutral satisfaction\"\n",
    "        elif r_sq < 0.3:\n",
    "            satisfaction = \"negative satisfaction\"\n",
    "            \n",
    "    return round_sig(r_sq), satisfaction, grateful_bonus"
   ]
  },
  {
   "cell_type": "markdown",
   "metadata": {},
   "source": [
    "### If the last speaker turn has grateful emotion and has positive sentiment"
   ]
  },
  {
   "cell_type": "code",
   "execution_count": 85,
   "metadata": {},
   "outputs": [],
   "source": [
    "# Get all emotions and the final emotion of the given responses\n",
    "def get_emotion_prediction():\n",
    "    emotions = speaker_responses[\"emotion_prediction\"]\n",
    "    final_emotion = emotions.iloc[-1]\n",
    "    \n",
    "    return emotions, final_emotion"
   ]
  },
  {
   "cell_type": "code",
   "execution_count": 86,
   "metadata": {},
   "outputs": [],
   "source": [
    "# Get all sentiments and the final sentiment of the given responses\n",
    "def get_sentiment():\n",
    "    sentiments = speaker_responses[\"sentiment\"]\n",
    "    final_sentiment = sentiments.iloc[-1]\n",
    "    \n",
    "    return sentiments, final_sentiment"
   ]
  },
  {
   "cell_type": "code",
   "execution_count": 87,
   "metadata": {},
   "outputs": [],
   "source": [
    "# Add bonus points if the last speaker post is grateful and has positive sentiment\n",
    "def check_grateful_positive():\n",
    "    _, final_sentiment = get_sentiment()\n",
    "    _, final_emotion = get_emotion_prediction()\n",
    "    \n",
    "    grateful_bonus=0\n",
    "    \n",
    "    if final_sentiment == \"positive\" and final_emotion == \"grateful\":\n",
    "        grateful_bonus += 0.1\n",
    "    \n",
    "    return grateful_bonus"
   ]
  },
  {
   "cell_type": "markdown",
   "metadata": {},
   "source": [
    "### How the literature measures satisfaction"
   ]
  },
  {
   "cell_type": "markdown",
   "metadata": {},
   "source": [
    "## Final classification"
   ]
  },
  {
   "cell_type": "code",
   "execution_count": 88,
   "metadata": {},
   "outputs": [],
   "source": [
    "def classify_conversation(conversation):\n",
    "    return str(calculate_speaker_listener_ratio()[1] + \", \" + calculate_sentiment_shift()[1])"
   ]
  },
  {
   "cell_type": "markdown",
   "metadata": {},
   "source": [
    "## Testing the measures"
   ]
  },
  {
   "cell_type": "code",
   "execution_count": 89,
   "metadata": {},
   "outputs": [],
   "source": [
    "def test_examples(conversation_id):\n",
    "    plot_emotion_sentiment()\n",
    "    print(\"Conversation length: \", len(conversation))\n",
    "    print(\"Engagement coefficient: \", calculate_speaker_listener_ratio()[0], \" --> \", calculate_speaker_listener_ratio()[1])\n",
    "    print(\"Sentiment coefficient: \", calculate_sentiment_shift()[0], \" with grateful bonus: \", calculate_sentiment_shift()[2], \" --> \", calculate_sentiment_shift()[1])\n",
    "    print(\"Classification summary: \", classify_conversation(conversation))"
   ]
  },
  {
   "cell_type": "code",
   "execution_count": 95,
   "metadata": {},
   "outputs": [
    {
     "name": "stdin",
     "output_type": "stream",
     "text": [
      "Enter order number of long conversation:  10\n"
     ]
    },
    {
     "name": "stdout",
     "output_type": "stream",
     "text": [
      "Chosen conversation id:  56\n"
     ]
    }
   ],
   "source": [
    "# Get a random conversation to test on from either short or long conversations\n",
    "long_conversations = df[df[\"dialog_turn\"] >= 6][\"conversation_id\"].unique()\n",
    "short_conversations = df[df[\"dialog_turn\"] < 6][\"conversation_id\"].unique()\n",
    "\n",
    "num = int(input(\"Enter order number of long conversation: \"))\n",
    "conversation_id = df[df[\"conversation_id\"] == short_conversations[num]][\"conversation_id\"]\n",
    "conversation_id = conversation_id.iloc[0]\n",
    "print(\"Chosen conversation id: \", conversation_id)\n",
    "conversation = df[df[\"conversation_id\"] == conversation_id]\n",
    "speaker, listener, speaker_responses, listener_responses, num_speaker_responses, num_listener_responses = extract_responses(conversation)"
   ]
  },
  {
   "cell_type": "code",
   "execution_count": 96,
   "metadata": {},
   "outputs": [
    {
     "name": "stdout",
     "output_type": "stream",
     "text": [
      "Conversation length:  3\n",
      "Engagement coefficient:  2.0  -->  low engagement\n",
      "Sentiment coefficient:  1.0  with grateful bonus:  0  -->  positive satisfaction\n",
      "Classification summary:  low engagement, positive satisfaction\n"
     ]
    },
    {
     "data": {
      "image/png": "[encoded data removed]",
      "text/plain": [
       "<Figure size 478.725x360 with 1 Axes>"
      ]
     },
     "metadata": {},
     "output_type": "display_data"
    }
   ],
   "source": [
    "test_examples(conversation_id)"
   ]
  },
  {
   "cell_type": "code",
   "execution_count": 97,
   "metadata": {},
   "outputs": [
    {
     "data": {
      "text/html": [
       "<div>\n",
       "<style scoped>\n",
       "    .dataframe tbody tr th:only-of-type {\n",
       "        vertical-align: middle;\n",
       "    }\n",
       "\n",
       "    .dataframe tbody tr th {\n",
       "        vertical-align: top;\n",
       "    }\n",
       "\n",
       "    .dataframe thead th {\n",
       "        text-align: right;\n",
       "    }\n",
       "</style>\n",
       "<table border=\"1\" class=\"dataframe\">\n",
       "  <thead>\n",
       "    <tr style=\"text-align: right;\">\n",
       "      <th></th>\n",
       "      <th>conversation_id</th>\n",
       "      <th>subreddit</th>\n",
       "      <th>post_title</th>\n",
       "      <th>author</th>\n",
       "      <th>dialog_turn</th>\n",
       "      <th>text</th>\n",
       "      <th>compound</th>\n",
       "      <th>sentiment</th>\n",
       "      <th>emotion_prediction</th>\n",
       "    </tr>\n",
       "  </thead>\n",
       "  <tbody>\n",
       "    <tr>\n",
       "      <th>125</th>\n",
       "      <td>56</td>\n",
       "      <td>MentalHealthSupport</td>\n",
       "      <td>histrionic personality disorder</td>\n",
       "      <td>anuspain420</td>\n",
       "      <td>1</td>\n",
       "      <td>haven't seen any posts about it on here, wondering here if anyone else has it? ;^^</td>\n",
       "      <td>0.0000</td>\n",
       "      <td>neutral</td>\n",
       "      <td>sentimental</td>\n",
       "    </tr>\n",
       "    <tr>\n",
       "      <th>126</th>\n",
       "      <td>56</td>\n",
       "      <td>MentalHealthSupport</td>\n",
       "      <td>histrionic personality disorder</td>\n",
       "      <td>berry_cherry</td>\n",
       "      <td>2</td>\n",
       "      <td>I've never met anyone who has been diagnosed with HPD actually.  Even online I don't see people talk about it very much.  I have definitely met people who fit the symptoms (in my mind) but even all the treatment I've been in I've never met someone who admitted to be dx'd with HPD.   Do you have it?  What is it like?  What are your symptoms?  I am very interested in it and I actually kind of suspect my sister has it or NPD.</td>\n",
       "      <td>0.8290</td>\n",
       "      <td>positive</td>\n",
       "      <td>lonely</td>\n",
       "    </tr>\n",
       "    <tr>\n",
       "      <th>127</th>\n",
       "      <td>56</td>\n",
       "      <td>MentalHealthSupport</td>\n",
       "      <td>histrionic personality disorder</td>\n",
       "      <td>anuspain420</td>\n",
       "      <td>3</td>\n",
       "      <td>Not professionally diagnosed, so no. But I do assume I have it seeing I fit the criteria for it. It's pretty awful considering you have to have the spotlight on you all the time, and then people are mad at you because you don't understand that they can't have attention from others.</td>\n",
       "      <td>-0.1901</td>\n",
       "      <td>negative</td>\n",
       "      <td>embarrassed</td>\n",
       "    </tr>\n",
       "  </tbody>\n",
       "</table>\n",
       "</div>"
      ],
      "text/plain": [
       "     conversation_id            subreddit                       post_title  \\\n",
       "125               56  MentalHealthSupport  histrionic personality disorder   \n",
       "126               56  MentalHealthSupport  histrionic personality disorder   \n",
       "127               56  MentalHealthSupport  histrionic personality disorder   \n",
       "\n",
       "           author  dialog_turn  \\\n",
       "125   anuspain420            1   \n",
       "126  berry_cherry            2   \n",
       "127   anuspain420            3   \n",
       "\n",
       "                                                                                                                                                                                                                                                                                                                                                                                                                                           text  \\\n",
       "125                                                                                                                                                                                                                                                                                                                                                          haven't seen any posts about it on here, wondering here if anyone else has it? ;^^   \n",
       "126  I've never met anyone who has been diagnosed with HPD actually.  Even online I don't see people talk about it very much.  I have definitely met people who fit the symptoms (in my mind) but even all the treatment I've been in I've never met someone who admitted to be dx'd with HPD.   Do you have it?  What is it like?  What are your symptoms?  I am very interested in it and I actually kind of suspect my sister has it or NPD.   \n",
       "127                                                                                                                                                 Not professionally diagnosed, so no. But I do assume I have it seeing I fit the criteria for it. It's pretty awful considering you have to have the spotlight on you all the time, and then people are mad at you because you don't understand that they can't have attention from others.    \n",
       "\n",
       "     compound sentiment emotion_prediction  \n",
       "125    0.0000   neutral        sentimental  \n",
       "126    0.8290  positive             lonely  \n",
       "127   -0.1901  negative        embarrassed  "
      ]
     },
     "execution_count": 97,
     "metadata": {},
     "output_type": "execute_result"
    }
   ],
   "source": [
    "conversation"
   ]
  },
  {
   "cell_type": "code",
   "execution_count": null,
   "metadata": {},
   "outputs": [],
   "source": [
    "test_examples(1003)"
   ]
  },
  {
   "cell_type": "code",
   "execution_count": null,
   "metadata": {},
   "outputs": [],
   "source": [
    "df[df.conversation_id == 1003]"
   ]
  },
  {
   "cell_type": "code",
   "execution_count": null,
   "metadata": {},
   "outputs": [],
   "source": [
    "test_examples(1732)"
   ]
  },
  {
   "cell_type": "code",
   "execution_count": null,
   "metadata": {},
   "outputs": [],
   "source": [
    "test_examples(1754)"
   ]
  },
  {
   "cell_type": "markdown",
   "metadata": {},
   "source": [
    "## Emotion prediction is not accurate at all..."
   ]
  },
  {
   "cell_type": "code",
   "execution_count": null,
   "metadata": {},
   "outputs": [],
   "source": [
    "conversation_bad_emotion_prediction_example = df[df[\"conversation_id\"] == 1754]\n",
    "conversation_bad_emotion_prediction_example"
   ]
  },
  {
   "cell_type": "markdown",
   "metadata": {},
   "source": [
    "When we check the emotion predictions, we see that most of them are very inaccurate. The sentiment tags are more accurate."
   ]
  },
  {
   "cell_type": "code",
   "execution_count": null,
   "metadata": {},
   "outputs": [],
   "source": [
    "df[df[\"emotion_prediction\"]==\"questioning\"]"
   ]
  },
  {
   "cell_type": "code",
   "execution_count": null,
   "metadata": {},
   "outputs": [],
   "source": [
    "print(df[(df[\"conversation_id\"]==342) & (df[\"dialog_turn\"]==4)][\"text\"])\n",
    "print(df[(df[\"conversation_id\"]==455) & (df[\"dialog_turn\"]==2)][\"text\"])\n",
    "print(df[(df[\"conversation_id\"]==578) & (df[\"dialog_turn\"]==2)][\"text\"])\n",
    "print(df[(df[\"conversation_id\"]==1761) & (df[\"dialog_turn\"]==2)][\"text\"])\n",
    "print(df[(df[\"conversation_id\"]==2414) & (df[\"dialog_turn\"]==2)][\"text\"])"
   ]
  },
  {
   "cell_type": "markdown",
   "metadata": {},
   "source": [
    "The questioning tags are not accurate either. Only one of the statements that are tagged with the questioning tag are actually questioning."
   ]
  },
  {
   "cell_type": "code",
   "execution_count": null,
   "metadata": {},
   "outputs": [],
   "source": [
    "df[df[\"emotion_prediction\"]==\"suggesting\"]"
   ]
  },
  {
   "cell_type": "markdown",
   "metadata": {},
   "source": [
    "There are no posts with a suggesting tag in this subreddit. Therefore, it cannot be utilized in the calculation of the engagement measure."
   ]
  }
 ],
 "metadata": {
  "kernelspec": {
   "display_name": "Python 3",
   "language": "python",
   "name": "python3"
  },
  "language_info": {
   "codemirror_mode": {
    "name": "ipython",
    "version": 3
   },
   "file_extension": ".py",
   "mimetype": "text/x-python",
   "name": "python",
   "nbconvert_exporter": "python",
   "pygments_lexer": "ipython3",
   "version": "3.7.6"
  }
 },
 "nbformat": 4,
 "nbformat_minor": 4
}
