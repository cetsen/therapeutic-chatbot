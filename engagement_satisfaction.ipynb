{
 "cells": [
  {
   "cell_type": "markdown",
   "metadata": {},
   "source": [
    "# Measuring Engagement and Satisfaction in Online Mental Health Platform Conversations"
   ]
  },
  {
   "cell_type": "markdown",
   "metadata": {},
   "source": [
    "## Data preprocessing"
   ]
  },
  {
   "cell_type": "code",
   "execution_count": 534,
   "metadata": {},
   "outputs": [],
   "source": [
    "import pandas as pd\n",
    "import numpy as np\n",
    "import matplotlib.pyplot as plt\n",
    "import seaborn as sns\n",
    "from sklearn.linear_model import LinearRegression\n",
    "pd.options.display.max_colwidth = 500"
   ]
  },
  {
   "cell_type": "code",
   "execution_count": 535,
   "metadata": {},
   "outputs": [],
   "source": [
    "df = pd.read_csv(\"mentalhealthsupport_dyadic_convs_clean_emotion.csv\")"
   ]
  },
  {
   "cell_type": "code",
   "execution_count": 536,
   "metadata": {},
   "outputs": [
    {
     "data": {
      "text/html": [
       "<div>\n",
       "<style scoped>\n",
       "    .dataframe tbody tr th:only-of-type {\n",
       "        vertical-align: middle;\n",
       "    }\n",
       "\n",
       "    .dataframe tbody tr th {\n",
       "        vertical-align: top;\n",
       "    }\n",
       "\n",
       "    .dataframe thead th {\n",
       "        text-align: right;\n",
       "    }\n",
       "</style>\n",
       "<table border=\"1\" class=\"dataframe\">\n",
       "  <thead>\n",
       "    <tr style=\"text-align: right;\">\n",
       "      <th></th>\n",
       "      <th>conversation id</th>\n",
       "      <th>subreddit</th>\n",
       "      <th>post title</th>\n",
       "      <th>author</th>\n",
       "      <th>dialog turn</th>\n",
       "      <th>text</th>\n",
       "      <th>compound</th>\n",
       "      <th>sentiment</th>\n",
       "      <th>emotion prediction</th>\n",
       "    </tr>\n",
       "  </thead>\n",
       "  <tbody>\n",
       "  </tbody>\n",
       "</table>\n",
       "</div>"
      ],
      "text/plain": [
       "Empty DataFrame\n",
       "Columns: [conversation id, subreddit, post title, author, dialog turn, text, compound, sentiment, emotion prediction]\n",
       "Index: []"
      ]
     },
     "execution_count": 536,
     "metadata": {},
     "output_type": "execute_result"
    }
   ],
   "source": [
    "df.head(0)"
   ]
  },
  {
   "cell_type": "code",
   "execution_count": 537,
   "metadata": {},
   "outputs": [
    {
     "data": {
      "text/html": [
       "<div>\n",
       "<style scoped>\n",
       "    .dataframe tbody tr th:only-of-type {\n",
       "        vertical-align: middle;\n",
       "    }\n",
       "\n",
       "    .dataframe tbody tr th {\n",
       "        vertical-align: top;\n",
       "    }\n",
       "\n",
       "    .dataframe thead th {\n",
       "        text-align: right;\n",
       "    }\n",
       "</style>\n",
       "<table border=\"1\" class=\"dataframe\">\n",
       "  <thead>\n",
       "    <tr style=\"text-align: right;\">\n",
       "      <th></th>\n",
       "      <th>conversation_id</th>\n",
       "      <th>subreddit</th>\n",
       "      <th>post_title</th>\n",
       "      <th>author</th>\n",
       "      <th>dialog_turn</th>\n",
       "      <th>text</th>\n",
       "      <th>compound</th>\n",
       "      <th>sentiment</th>\n",
       "      <th>emotion_prediction</th>\n",
       "    </tr>\n",
       "  </thead>\n",
       "  <tbody>\n",
       "    <tr>\n",
       "      <th>0</th>\n",
       "      <td>1</td>\n",
       "      <td>MentalHealthSupport</td>\n",
       "      <td>DBT cheat sheet, for when you need a quick reminder</td>\n",
       "      <td>missfittnc</td>\n",
       "      <td>1</td>\n",
       "      <td>[DBT Skils over view](http://www.dbtselfhelp.com/html/dbt_skills_list.html)</td>\n",
       "      <td>0.0000</td>\n",
       "      <td>neutral</td>\n",
       "      <td>anticipating</td>\n",
       "    </tr>\n",
       "    <tr>\n",
       "      <th>1</th>\n",
       "      <td>1</td>\n",
       "      <td>MentalHealthSupport</td>\n",
       "      <td>DBT cheat sheet, for when you need a quick reminder</td>\n",
       "      <td>skbloom</td>\n",
       "      <td>2</td>\n",
       "      <td>Thanks for sharing!</td>\n",
       "      <td>0.7177</td>\n",
       "      <td>positive</td>\n",
       "      <td>grateful</td>\n",
       "    </tr>\n",
       "    <tr>\n",
       "      <th>2</th>\n",
       "      <td>2</td>\n",
       "      <td>MentalHealthSupport</td>\n",
       "      <td>[BPD] Difficulty in avoiding drama</td>\n",
       "      <td>I_Am_Jacks_BPD</td>\n",
       "      <td>1</td>\n",
       "      <td>*** **All names have been changed to protect the guilty** ***  It's been two days since my meltdown subsided. I spent the better part of yesterday feeling numb, which is par for the course. I'm doing even better today. I spent the first half hour of waking up laying on the couch reading my news feed and browsing Reddit instead of sleeping for 2-3 hours.  Anyway, as I sit here listening to music and sifting through the events of the past three weeks, I've come to the realization that my need ...</td>\n",
       "      <td>0.9654</td>\n",
       "      <td>positive</td>\n",
       "      <td>anticipating</td>\n",
       "    </tr>\n",
       "    <tr>\n",
       "      <th>3</th>\n",
       "      <td>2</td>\n",
       "      <td>MentalHealthSupport</td>\n",
       "      <td>[BPD] Difficulty in avoiding drama</td>\n",
       "      <td>redsaidfred</td>\n",
       "      <td>2</td>\n",
       "      <td>The best advice someone ever told me was... \"I am NOT in control. I CANNOT change someone else's behaviour. Just let it go, and the universe will unfold as it should.\" Felt like the weight of the world was lifted. I need to remind myself constantly...</td>\n",
       "      <td>0.7717</td>\n",
       "      <td>positive</td>\n",
       "      <td>faithful</td>\n",
       "    </tr>\n",
       "    <tr>\n",
       "      <th>4</th>\n",
       "      <td>3</td>\n",
       "      <td>MentalHealthSupport</td>\n",
       "      <td>How are you today and what's your recovery progress?</td>\n",
       "      <td>professorplumdidit</td>\n",
       "      <td>1</td>\n",
       "      <td>I thought maybe we should just do a thread to support each other in our own individual recovery goals as well as generally how people are feeling.</td>\n",
       "      <td>0.6486</td>\n",
       "      <td>positive</td>\n",
       "      <td>hopeful</td>\n",
       "    </tr>\n",
       "  </tbody>\n",
       "</table>\n",
       "</div>"
      ],
      "text/plain": [
       "   conversation_id            subreddit  \\\n",
       "0                1  MentalHealthSupport   \n",
       "1                1  MentalHealthSupport   \n",
       "2                2  MentalHealthSupport   \n",
       "3                2  MentalHealthSupport   \n",
       "4                3  MentalHealthSupport   \n",
       "\n",
       "                                             post_title              author  \\\n",
       "0   DBT cheat sheet, for when you need a quick reminder          missfittnc   \n",
       "1   DBT cheat sheet, for when you need a quick reminder             skbloom   \n",
       "2                    [BPD] Difficulty in avoiding drama      I_Am_Jacks_BPD   \n",
       "3                    [BPD] Difficulty in avoiding drama         redsaidfred   \n",
       "4  How are you today and what's your recovery progress?  professorplumdidit   \n",
       "\n",
       "   dialog_turn  \\\n",
       "0            1   \n",
       "1            2   \n",
       "2            1   \n",
       "3            2   \n",
       "4            1   \n",
       "\n",
       "                                                                                                                                                                                                                                                                                                                                                                                                                                                                                                                  text  \\\n",
       "0                                                                                                                                                                                                                                                                                                                                                                                                                                          [DBT Skils over view](http://www.dbtselfhelp.com/html/dbt_skills_list.html)   \n",
       "1                                                                                                                                                                                                                                                                                                                                                                                                                                                                                                 Thanks for sharing!    \n",
       "2  *** **All names have been changed to protect the guilty** ***  It's been two days since my meltdown subsided. I spent the better part of yesterday feeling numb, which is par for the course. I'm doing even better today. I spent the first half hour of waking up laying on the couch reading my news feed and browsing Reddit instead of sleeping for 2-3 hours.  Anyway, as I sit here listening to music and sifting through the events of the past three weeks, I've come to the realization that my need ...   \n",
       "3                                                                                                                                                                                                                                                          The best advice someone ever told me was... \"I am NOT in control. I CANNOT change someone else's behaviour. Just let it go, and the universe will unfold as it should.\" Felt like the weight of the world was lifted. I need to remind myself constantly...   \n",
       "4                                                                                                                                                                                                                                                                                                                                                                   I thought maybe we should just do a thread to support each other in our own individual recovery goals as well as generally how people are feeling.   \n",
       "\n",
       "   compound sentiment emotion_prediction  \n",
       "0    0.0000   neutral       anticipating  \n",
       "1    0.7177  positive           grateful  \n",
       "2    0.9654  positive       anticipating  \n",
       "3    0.7717  positive           faithful  \n",
       "4    0.6486  positive            hopeful  "
      ]
     },
     "execution_count": 537,
     "metadata": {},
     "output_type": "execute_result"
    }
   ],
   "source": [
    "df = df.rename(columns={'conversation id': 'conversation_id', 'post title': 'post_title', 'dialog turn': 'dialog_turn', 'emotion prediction': 'emotion_prediction'})\n",
    "df.head()"
   ]
  },
  {
   "cell_type": "code",
   "execution_count": 538,
   "metadata": {},
   "outputs": [
    {
     "name": "stdout",
     "output_type": "stream",
     "text": [
      "Number of conversations in subreddit:  3551\n",
      "Number of monologues in subreddit:  29\n",
      "Number of dialogues in subreddit:  3522\n"
     ]
    }
   ],
   "source": [
    "### --- CLEANING OUT MONOLOGUES FROM DATASET --- ###\n",
    "\n",
    "# Group data by conversation id and calculate count of each conversation id\n",
    "df_conv = df.groupby(\"conversation_id\").count()\n",
    "df_conv = df_conv.drop(columns=[\"subreddit\", \"post_title\", \"author\", \"text\", \"compound\", \"sentiment\", \"emotion_prediction\"])\n",
    "print(\"Number of conversations in subreddit: \", len(df_conv))\n",
    "\n",
    "# Separate conversation id's with a single occurrence as monologues\n",
    "df_mono = df_conv[df_conv[\"dialog_turn\"] == 1]\n",
    "print(\"Number of monologues in subreddit: \", len(df_mono))\n",
    "df_mono_ids = df_mono.reset_index()\n",
    "df_mono_ids = df_mono_ids[\"conversation_id\"]\n",
    "\n",
    "# Separate conversation id's with multiple occurrences as dialogues\n",
    "df_dia = df_conv[df_conv[\"dialog_turn\"] > 1]\n",
    "print(\"Number of dialogues in subreddit: \", len(df_dia))\n",
    "df_dia = df_dia.reset_index()\n",
    "df_dia = df_dia.drop(columns=['dialog_turn'])\n",
    "\n",
    "# Join dialogue conversation id's with original data such that only dialogues remain in the dataset\n",
    "df = df.join(df_dia.set_index('conversation_id'), on='conversation_id', how=\"right\") \n",
    "\n",
    "### ---------------------------------------------- ###"
   ]
  },
  {
   "cell_type": "code",
   "execution_count": 539,
   "metadata": {},
   "outputs": [
    {
     "data": {
      "text/html": [
       "<div>\n",
       "<style scoped>\n",
       "    .dataframe tbody tr th:only-of-type {\n",
       "        vertical-align: middle;\n",
       "    }\n",
       "\n",
       "    .dataframe tbody tr th {\n",
       "        vertical-align: top;\n",
       "    }\n",
       "\n",
       "    .dataframe thead th {\n",
       "        text-align: right;\n",
       "    }\n",
       "</style>\n",
       "<table border=\"1\" class=\"dataframe\">\n",
       "  <thead>\n",
       "    <tr style=\"text-align: right;\">\n",
       "      <th></th>\n",
       "      <th>conversation_id</th>\n",
       "      <th>subreddit</th>\n",
       "      <th>post_title</th>\n",
       "      <th>author</th>\n",
       "      <th>dialog_turn</th>\n",
       "      <th>text</th>\n",
       "      <th>compound</th>\n",
       "      <th>sentiment</th>\n",
       "      <th>emotion_prediction</th>\n",
       "    </tr>\n",
       "  </thead>\n",
       "  <tbody>\n",
       "    <tr>\n",
       "      <th>344</th>\n",
       "      <td>145</td>\n",
       "      <td>MentalHealthSupport</td>\n",
       "      <td>Mental Disorder?</td>\n",
       "      <td>Ontanium</td>\n",
       "      <td>1</td>\n",
       "      <td>Really hard to post this:  Ok, this is going to tarnish me big time if anyone I know reads it. However I need some input on my in most furtive thoughts.  I am 26 now and have believed that ever since I was in college (around 20) that there is some kind of a conspiracy around me to get me killed.  When I say conspiracy, I mean like people believe me some sort of child molester, or something as bad (which I would deem worthy of death btw).  So I want to list things I have done, that I dislike ...</td>\n",
       "      <td>-0.9946</td>\n",
       "      <td>negative</td>\n",
       "      <td>grateful</td>\n",
       "    </tr>\n",
       "    <tr>\n",
       "      <th>345</th>\n",
       "      <td>145</td>\n",
       "      <td>MentalHealthSupport</td>\n",
       "      <td>Mental Disorder?</td>\n",
       "      <td>btkbmys</td>\n",
       "      <td>2</td>\n",
       "      <td>Everyone does things that they regret and when it comes down to it, what's done is done. You have to ask yourself this question: what can I do? If you can, at least try to resolve one of these by talking to the respective person ie rue owner of the dog and apologise or your friend. If you are able to do that, you will see that in the long run, relatively small things like that don't matter in the grand scheme of things. If you are unable to apologise for whatever reason or don't want to, you...</td>\n",
       "      <td>0.9586</td>\n",
       "      <td>positive</td>\n",
       "      <td>anxious</td>\n",
       "    </tr>\n",
       "    <tr>\n",
       "      <th>346</th>\n",
       "      <td>145</td>\n",
       "      <td>MentalHealthSupport</td>\n",
       "      <td>Mental Disorder?</td>\n",
       "      <td>Ontanium</td>\n",
       "      <td>3</td>\n",
       "      <td>My biggest fear is that there has been something said about me for which people genuinely believe I deserve death.  And right now as I am sitting here typing this I keep getting feelings like someone is just going to break down the door and shoot me.  No matter how much I rationlise I can't get these thoughts out of my head.  And I can hear a near incessant bibbing (like a car horn) which has been going on for a few days now.  I can't shake these feelings, because I have seen people look at ...</td>\n",
       "      <td>-0.1670</td>\n",
       "      <td>negative</td>\n",
       "      <td>grateful</td>\n",
       "    </tr>\n",
       "    <tr>\n",
       "      <th>347</th>\n",
       "      <td>145</td>\n",
       "      <td>MentalHealthSupport</td>\n",
       "      <td>Mental Disorder?</td>\n",
       "      <td>Ontanium</td>\n",
       "      <td>4</td>\n",
       "      <td>Thanks, I will try to. But the sense of paranoia and conspiracy seems to stay with me no matter what I do. And I feel quite selfish. But thanks for getting back to me, I'll use this information best I can.</td>\n",
       "      <td>0.0503</td>\n",
       "      <td>positive</td>\n",
       "      <td>guilty</td>\n",
       "    </tr>\n",
       "    <tr>\n",
       "      <th>348</th>\n",
       "      <td>145</td>\n",
       "      <td>MentalHealthSupport</td>\n",
       "      <td>Mental Disorder?</td>\n",
       "      <td>btkbmys</td>\n",
       "      <td>5</td>\n",
       "      <td>There's not much I can do as me telling you that it won't happen isn't going to help you. I beg you, please seek a medical professional, you'll be able to enjoy life again.</td>\n",
       "      <td>0.5010</td>\n",
       "      <td>positive</td>\n",
       "      <td>grateful</td>\n",
       "    </tr>\n",
       "    <tr>\n",
       "      <th>349</th>\n",
       "      <td>145</td>\n",
       "      <td>MentalHealthSupport</td>\n",
       "      <td>Mental Disorder?</td>\n",
       "      <td>Ontanium</td>\n",
       "      <td>6</td>\n",
       "      <td>I probably will seek advice online. I had a drop of brandy which seems to have helped (only a bit).  Thanks for getting back to me again.</td>\n",
       "      <td>0.2023</td>\n",
       "      <td>positive</td>\n",
       "      <td>faithful</td>\n",
       "    </tr>\n",
       "    <tr>\n",
       "      <th>350</th>\n",
       "      <td>145</td>\n",
       "      <td>MentalHealthSupport</td>\n",
       "      <td>Mental Disorder?</td>\n",
       "      <td>btkbmys</td>\n",
       "      <td>7</td>\n",
       "      <td>Well done for seeking help, it's very brave. As someone with various mental health issues I can testify to how difficult it is to go for help. Also brandy is great but don't let it become a coping mechanism :)</td>\n",
       "      <td>0.8859</td>\n",
       "      <td>positive</td>\n",
       "      <td>lonely</td>\n",
       "    </tr>\n",
       "  </tbody>\n",
       "</table>\n",
       "</div>"
      ],
      "text/plain": [
       "     conversation_id            subreddit        post_title    author  \\\n",
       "344              145  MentalHealthSupport  Mental Disorder?  Ontanium   \n",
       "345              145  MentalHealthSupport  Mental Disorder?   btkbmys   \n",
       "346              145  MentalHealthSupport  Mental Disorder?  Ontanium   \n",
       "347              145  MentalHealthSupport  Mental Disorder?  Ontanium   \n",
       "348              145  MentalHealthSupport  Mental Disorder?   btkbmys   \n",
       "349              145  MentalHealthSupport  Mental Disorder?  Ontanium   \n",
       "350              145  MentalHealthSupport  Mental Disorder?   btkbmys   \n",
       "\n",
       "     dialog_turn  \\\n",
       "344            1   \n",
       "345            2   \n",
       "346            3   \n",
       "347            4   \n",
       "348            5   \n",
       "349            6   \n",
       "350            7   \n",
       "\n",
       "                                                                                                                                                                                                                                                                                                                                                                                                                                                                                                                    text  \\\n",
       "344  Really hard to post this:  Ok, this is going to tarnish me big time if anyone I know reads it. However I need some input on my in most furtive thoughts.  I am 26 now and have believed that ever since I was in college (around 20) that there is some kind of a conspiracy around me to get me killed.  When I say conspiracy, I mean like people believe me some sort of child molester, or something as bad (which I would deem worthy of death btw).  So I want to list things I have done, that I dislike ...   \n",
       "345  Everyone does things that they regret and when it comes down to it, what's done is done. You have to ask yourself this question: what can I do? If you can, at least try to resolve one of these by talking to the respective person ie rue owner of the dog and apologise or your friend. If you are able to do that, you will see that in the long run, relatively small things like that don't matter in the grand scheme of things. If you are unable to apologise for whatever reason or don't want to, you...   \n",
       "346  My biggest fear is that there has been something said about me for which people genuinely believe I deserve death.  And right now as I am sitting here typing this I keep getting feelings like someone is just going to break down the door and shoot me.  No matter how much I rationlise I can't get these thoughts out of my head.  And I can hear a near incessant bibbing (like a car horn) which has been going on for a few days now.  I can't shake these feelings, because I have seen people look at ...   \n",
       "347                                                                                                                                                                                                                                                                                                        Thanks, I will try to. But the sense of paranoia and conspiracy seems to stay with me no matter what I do. And I feel quite selfish. But thanks for getting back to me, I'll use this information best I can.   \n",
       "348                                                                                                                                                                                                                                                                                                                                         There's not much I can do as me telling you that it won't happen isn't going to help you. I beg you, please seek a medical professional, you'll be able to enjoy life again.   \n",
       "349                                                                                                                                                                                                                                                                                                                                                                            I probably will seek advice online. I had a drop of brandy which seems to have helped (only a bit).  Thanks for getting back to me again.   \n",
       "350                                                                                                                                                                                                                                                                                                    Well done for seeking help, it's very brave. As someone with various mental health issues I can testify to how difficult it is to go for help. Also brandy is great but don't let it become a coping mechanism :)   \n",
       "\n",
       "     compound sentiment emotion_prediction  \n",
       "344   -0.9946  negative           grateful  \n",
       "345    0.9586  positive            anxious  \n",
       "346   -0.1670  negative           grateful  \n",
       "347    0.0503  positive             guilty  \n",
       "348    0.5010  positive           grateful  \n",
       "349    0.2023  positive           faithful  \n",
       "350    0.8859  positive             lonely  "
      ]
     },
     "execution_count": 539,
     "metadata": {},
     "output_type": "execute_result"
    }
   ],
   "source": [
    "# Either choose from long or short conversations\n",
    "long_conversations = df[df[\"dialog_turn\"] >= 4][\"conversation_id\"].unique()\n",
    "short_conversations = df[df[\"dialog_turn\"] < 4][\"conversation_id\"]\n",
    "conversation = df[df[\"conversation_id\"] == long_conversations[12]]\n",
    "conversation"
   ]
  },
  {
   "cell_type": "code",
   "execution_count": 540,
   "metadata": {},
   "outputs": [],
   "source": [
    "# some long conversations: 1003"
   ]
  },
  {
   "cell_type": "markdown",
   "metadata": {},
   "source": [
    "## Measuring the level of engagement"
   ]
  },
  {
   "cell_type": "markdown",
   "metadata": {},
   "source": [
    "### Does the speaker respond back when the listener gives a response?"
   ]
  },
  {
   "cell_type": "code",
   "execution_count": 541,
   "metadata": {},
   "outputs": [],
   "source": [
    "def extract_responses(conversation):\n",
    "    speaker = conversation.author.iloc[0]\n",
    "    listener = conversation[conversation[\"author\"] != speaker][\"author\"].unique().item()\n",
    "    speaker_responses = conversation[conversation[\"author\"] == speaker]\n",
    "    listener_responses = conversation[conversation[\"author\"] == listener]\n",
    "    num_speaker_responses = len(speaker_responses)\n",
    "    num_listener_responses = len(listener_responses)\n",
    "    \n",
    "    return speaker, listener, speaker_responses, listener_responses, num_speaker_responses, num_listener_responses"
   ]
  },
  {
   "cell_type": "code",
   "execution_count": 542,
   "metadata": {},
   "outputs": [],
   "source": [
    "def calculate_speaker_listener_ratio(conversation):\n",
    "    _, _, _, _, num_speaker_responses, num_listener_responses = extract_responses(conversation)\n",
    "    speaker_listener_ratio = num_speaker_responses / num_listener_responses\n",
    "    \n",
    "    engagement = \"\"\n",
    "    if len(conversation) == 2:\n",
    "        engagement = \"low\"\n",
    "    elif len(conversation) <= 4 and speaker_listener_ratio < 1:\n",
    "        engagement = \"low\"\n",
    "    elif len(conversation) <= 4 and speaker_listener_ratio >= 1:\n",
    "        engagement = \"moderate\"\n",
    "    elif len(conversation) >= 4 and speaker_listener_ratio < 1:\n",
    "        engagement = \"moderate\"\n",
    "    elif len(conversation) >= 4  and speaker_listener_ratio >= 1:\n",
    "        engagement = \"high\"\n",
    "        \n",
    "    return speaker_listener_ratio, engagement"
   ]
  },
  {
   "cell_type": "code",
   "execution_count": 543,
   "metadata": {},
   "outputs": [
    {
     "data": {
      "text/plain": [
       "(1.3333333333333333, 'high')"
      ]
     },
     "execution_count": 543,
     "metadata": {},
     "output_type": "execute_result"
    }
   ],
   "source": [
    "calculate_speaker_listener_ratio(conversation)"
   ]
  },
  {
   "cell_type": "markdown",
   "metadata": {},
   "source": [
    "### Does the listener ask any informative questions or give any suggestions? "
   ]
  },
  {
   "cell_type": "code",
   "execution_count": 544,
   "metadata": {},
   "outputs": [],
   "source": [
    "speaker, listener, speaker_responses, listener_responses, num_speaker_responses, num_listener_responses = extract_responses(conversation)"
   ]
  },
  {
   "cell_type": "code",
   "execution_count": 545,
   "metadata": {},
   "outputs": [
    {
     "data": {
      "text/html": [
       "<div>\n",
       "<style scoped>\n",
       "    .dataframe tbody tr th:only-of-type {\n",
       "        vertical-align: middle;\n",
       "    }\n",
       "\n",
       "    .dataframe tbody tr th {\n",
       "        vertical-align: top;\n",
       "    }\n",
       "\n",
       "    .dataframe thead th {\n",
       "        text-align: right;\n",
       "    }\n",
       "</style>\n",
       "<table border=\"1\" class=\"dataframe\">\n",
       "  <thead>\n",
       "    <tr style=\"text-align: right;\">\n",
       "      <th></th>\n",
       "      <th>conversation_id</th>\n",
       "      <th>subreddit</th>\n",
       "      <th>post_title</th>\n",
       "      <th>author</th>\n",
       "      <th>dialog_turn</th>\n",
       "      <th>text</th>\n",
       "      <th>compound</th>\n",
       "      <th>sentiment</th>\n",
       "      <th>emotion_prediction</th>\n",
       "    </tr>\n",
       "  </thead>\n",
       "  <tbody>\n",
       "    <tr>\n",
       "      <th>799</th>\n",
       "      <td>342</td>\n",
       "      <td>MentalHealthSupport</td>\n",
       "      <td>Mental Health in the Black Community</td>\n",
       "      <td>yadadameannn</td>\n",
       "      <td>4</td>\n",
       "      <td>thanks man. We just got everything fixed. We were working on coding this weekend. Everything is fine now.</td>\n",
       "      <td>0.5719</td>\n",
       "      <td>positive</td>\n",
       "      <td>questioning</td>\n",
       "    </tr>\n",
       "    <tr>\n",
       "      <th>1070</th>\n",
       "      <td>455</td>\n",
       "      <td>MentalHealthSupport</td>\n",
       "      <td>I’m really struggling</td>\n",
       "      <td>McThrowaway42069</td>\n",
       "      <td>2</td>\n",
       "      <td>Dont. No matter how bad it seems there a people who care for you. You are loved, don't hurt the people who care about you.</td>\n",
       "      <td>0.8635</td>\n",
       "      <td>positive</td>\n",
       "      <td>questioning</td>\n",
       "    </tr>\n",
       "    <tr>\n",
       "      <th>1361</th>\n",
       "      <td>578</td>\n",
       "      <td>MentalHealthSupport</td>\n",
       "      <td>Let Me Introduce Myself</td>\n",
       "      <td>antwerpbanana</td>\n",
       "      <td>2</td>\n",
       "      <td>Hi Caty, thank you for sharing your story. I hope we can be of help to you here.</td>\n",
       "      <td>0.8720</td>\n",
       "      <td>positive</td>\n",
       "      <td>questioning</td>\n",
       "    </tr>\n",
       "    <tr>\n",
       "      <th>4239</th>\n",
       "      <td>1761</td>\n",
       "      <td>MentalHealthSupport</td>\n",
       "      <td>Feel awful</td>\n",
       "      <td>TheBassClarinetBoy</td>\n",
       "      <td>2</td>\n",
       "      <td>Hey friend. I’m recommend talking with people you trust about this, and trying to find professional help</td>\n",
       "      <td>0.8934</td>\n",
       "      <td>positive</td>\n",
       "      <td>questioning</td>\n",
       "    </tr>\n",
       "    <tr>\n",
       "      <th>5636</th>\n",
       "      <td>2414</td>\n",
       "      <td>MentalHealthSupport</td>\n",
       "      <td>Need help! Mental health destroying relationship...</td>\n",
       "      <td>Rock-it1</td>\n",
       "      <td>2</td>\n",
       "      <td>Therapist here. Can you provide a few more details?</td>\n",
       "      <td>0.0000</td>\n",
       "      <td>neutral</td>\n",
       "      <td>questioning</td>\n",
       "    </tr>\n",
       "  </tbody>\n",
       "</table>\n",
       "</div>"
      ],
      "text/plain": [
       "      conversation_id            subreddit  \\\n",
       "799               342  MentalHealthSupport   \n",
       "1070              455  MentalHealthSupport   \n",
       "1361              578  MentalHealthSupport   \n",
       "4239             1761  MentalHealthSupport   \n",
       "5636             2414  MentalHealthSupport   \n",
       "\n",
       "                                               post_title              author  \\\n",
       "799                  Mental Health in the Black Community        yadadameannn   \n",
       "1070                                I’m really struggling    McThrowaway42069   \n",
       "1361                              Let Me Introduce Myself       antwerpbanana   \n",
       "4239                                           Feel awful  TheBassClarinetBoy   \n",
       "5636  Need help! Mental health destroying relationship...            Rock-it1   \n",
       "\n",
       "      dialog_turn  \\\n",
       "799             4   \n",
       "1070            2   \n",
       "1361            2   \n",
       "4239            2   \n",
       "5636            2   \n",
       "\n",
       "                                                                                                                            text  \\\n",
       "799                   thanks man. We just got everything fixed. We were working on coding this weekend. Everything is fine now.    \n",
       "1070  Dont. No matter how bad it seems there a people who care for you. You are loved, don't hurt the people who care about you.   \n",
       "1361                                            Hi Caty, thank you for sharing your story. I hope we can be of help to you here.   \n",
       "4239                    Hey friend. I’m recommend talking with people you trust about this, and trying to find professional help   \n",
       "5636                                                                         Therapist here. Can you provide a few more details?   \n",
       "\n",
       "      compound sentiment emotion_prediction  \n",
       "799     0.5719  positive        questioning  \n",
       "1070    0.8635  positive        questioning  \n",
       "1361    0.8720  positive        questioning  \n",
       "4239    0.8934  positive        questioning  \n",
       "5636    0.0000   neutral        questioning  "
      ]
     },
     "execution_count": 545,
     "metadata": {},
     "output_type": "execute_result"
    }
   ],
   "source": [
    "df[df[\"emotion_prediction\"]==\"questioning\"]"
   ]
  },
  {
   "cell_type": "code",
   "execution_count": 546,
   "metadata": {},
   "outputs": [
    {
     "name": "stdout",
     "output_type": "stream",
     "text": [
      "799    thanks man. We just got everything fixed. We were working on coding this weekend. Everything is fine now. \n",
      "Name: text, dtype: object\n",
      "1070    Dont. No matter how bad it seems there a people who care for you. You are loved, don't hurt the people who care about you.\n",
      "Name: text, dtype: object\n",
      "1361    Hi Caty, thank you for sharing your story. I hope we can be of help to you here.\n",
      "Name: text, dtype: object\n",
      "4239    Hey friend. I’m recommend talking with people you trust about this, and trying to find professional help\n",
      "Name: text, dtype: object\n",
      "5636    Therapist here. Can you provide a few more details?\n",
      "Name: text, dtype: object\n"
     ]
    }
   ],
   "source": [
    "print(df[(df[\"conversation_id\"]==342) & (df[\"dialog_turn\"]==4)][\"text\"])\n",
    "print(df[(df[\"conversation_id\"]==455) & (df[\"dialog_turn\"]==2)][\"text\"])\n",
    "print(df[(df[\"conversation_id\"]==578) & (df[\"dialog_turn\"]==2)][\"text\"])\n",
    "print(df[(df[\"conversation_id\"]==1761) & (df[\"dialog_turn\"]==2)][\"text\"])\n",
    "print(df[(df[\"conversation_id\"]==2414) & (df[\"dialog_turn\"]==2)][\"text\"])"
   ]
  },
  {
   "cell_type": "markdown",
   "metadata": {},
   "source": [
    "The emotion prediction tags are not very accurate. Only the last of the listener responses above are questioning. "
   ]
  },
  {
   "cell_type": "code",
   "execution_count": 547,
   "metadata": {},
   "outputs": [
    {
     "data": {
      "text/html": [
       "<div>\n",
       "<style scoped>\n",
       "    .dataframe tbody tr th:only-of-type {\n",
       "        vertical-align: middle;\n",
       "    }\n",
       "\n",
       "    .dataframe tbody tr th {\n",
       "        vertical-align: top;\n",
       "    }\n",
       "\n",
       "    .dataframe thead th {\n",
       "        text-align: right;\n",
       "    }\n",
       "</style>\n",
       "<table border=\"1\" class=\"dataframe\">\n",
       "  <thead>\n",
       "    <tr style=\"text-align: right;\">\n",
       "      <th></th>\n",
       "      <th>conversation_id</th>\n",
       "      <th>subreddit</th>\n",
       "      <th>post_title</th>\n",
       "      <th>author</th>\n",
       "      <th>dialog_turn</th>\n",
       "      <th>text</th>\n",
       "      <th>compound</th>\n",
       "      <th>sentiment</th>\n",
       "      <th>emotion_prediction</th>\n",
       "    </tr>\n",
       "  </thead>\n",
       "  <tbody>\n",
       "  </tbody>\n",
       "</table>\n",
       "</div>"
      ],
      "text/plain": [
       "Empty DataFrame\n",
       "Columns: [conversation_id, subreddit, post_title, author, dialog_turn, text, compound, sentiment, emotion_prediction]\n",
       "Index: []"
      ]
     },
     "execution_count": 547,
     "metadata": {},
     "output_type": "execute_result"
    }
   ],
   "source": [
    "df[df[\"emotion_prediction\"]==\"suggesting\"]"
   ]
  },
  {
   "cell_type": "markdown",
   "metadata": {},
   "source": [
    "There are no posts with a suggesting tag in this subreddit. Therefore, it cannot be utilized in the calculation of the engagement measure."
   ]
  },
  {
   "cell_type": "code",
   "execution_count": 548,
   "metadata": {},
   "outputs": [],
   "source": [
    "# TODO: separately label each & every sentence, currently only the whole text is labeled"
   ]
  },
  {
   "cell_type": "markdown",
   "metadata": {},
   "source": [
    "### How the literature measures engagement"
   ]
  },
  {
   "cell_type": "markdown",
   "metadata": {},
   "source": [
    "## Measuring the level of satisfaction"
   ]
  },
  {
   "cell_type": "markdown",
   "metadata": {},
   "source": [
    "### Lexical details: \"Thank you\", \"It means a lot\""
   ]
  },
  {
   "cell_type": "markdown",
   "metadata": {},
   "source": [
    "### Shift of sentiment in speaker responses (sentiment trend)"
   ]
  },
  {
   "cell_type": "code",
   "execution_count": 549,
   "metadata": {},
   "outputs": [
    {
     "data": {
      "text/html": [
       "<div>\n",
       "<style scoped>\n",
       "    .dataframe tbody tr th:only-of-type {\n",
       "        vertical-align: middle;\n",
       "    }\n",
       "\n",
       "    .dataframe tbody tr th {\n",
       "        vertical-align: top;\n",
       "    }\n",
       "\n",
       "    .dataframe thead th {\n",
       "        text-align: right;\n",
       "    }\n",
       "</style>\n",
       "<table border=\"1\" class=\"dataframe\">\n",
       "  <thead>\n",
       "    <tr style=\"text-align: right;\">\n",
       "      <th></th>\n",
       "      <th>conversation_id</th>\n",
       "      <th>subreddit</th>\n",
       "      <th>post_title</th>\n",
       "      <th>author</th>\n",
       "      <th>dialog_turn</th>\n",
       "      <th>text</th>\n",
       "      <th>compound</th>\n",
       "      <th>sentiment</th>\n",
       "      <th>emotion_prediction</th>\n",
       "    </tr>\n",
       "  </thead>\n",
       "  <tbody>\n",
       "    <tr>\n",
       "      <th>344</th>\n",
       "      <td>145</td>\n",
       "      <td>MentalHealthSupport</td>\n",
       "      <td>Mental Disorder?</td>\n",
       "      <td>Ontanium</td>\n",
       "      <td>1</td>\n",
       "      <td>Really hard to post this:  Ok, this is going to tarnish me big time if anyone I know reads it. However I need some input on my in most furtive thoughts.  I am 26 now and have believed that ever since I was in college (around 20) that there is some kind of a conspiracy around me to get me killed.  When I say conspiracy, I mean like people believe me some sort of child molester, or something as bad (which I would deem worthy of death btw).  So I want to list things I have done, that I dislike ...</td>\n",
       "      <td>-0.9946</td>\n",
       "      <td>negative</td>\n",
       "      <td>grateful</td>\n",
       "    </tr>\n",
       "    <tr>\n",
       "      <th>346</th>\n",
       "      <td>145</td>\n",
       "      <td>MentalHealthSupport</td>\n",
       "      <td>Mental Disorder?</td>\n",
       "      <td>Ontanium</td>\n",
       "      <td>3</td>\n",
       "      <td>My biggest fear is that there has been something said about me for which people genuinely believe I deserve death.  And right now as I am sitting here typing this I keep getting feelings like someone is just going to break down the door and shoot me.  No matter how much I rationlise I can't get these thoughts out of my head.  And I can hear a near incessant bibbing (like a car horn) which has been going on for a few days now.  I can't shake these feelings, because I have seen people look at ...</td>\n",
       "      <td>-0.1670</td>\n",
       "      <td>negative</td>\n",
       "      <td>grateful</td>\n",
       "    </tr>\n",
       "    <tr>\n",
       "      <th>347</th>\n",
       "      <td>145</td>\n",
       "      <td>MentalHealthSupport</td>\n",
       "      <td>Mental Disorder?</td>\n",
       "      <td>Ontanium</td>\n",
       "      <td>4</td>\n",
       "      <td>Thanks, I will try to. But the sense of paranoia and conspiracy seems to stay with me no matter what I do. And I feel quite selfish. But thanks for getting back to me, I'll use this information best I can.</td>\n",
       "      <td>0.0503</td>\n",
       "      <td>positive</td>\n",
       "      <td>guilty</td>\n",
       "    </tr>\n",
       "    <tr>\n",
       "      <th>349</th>\n",
       "      <td>145</td>\n",
       "      <td>MentalHealthSupport</td>\n",
       "      <td>Mental Disorder?</td>\n",
       "      <td>Ontanium</td>\n",
       "      <td>6</td>\n",
       "      <td>I probably will seek advice online. I had a drop of brandy which seems to have helped (only a bit).  Thanks for getting back to me again.</td>\n",
       "      <td>0.2023</td>\n",
       "      <td>positive</td>\n",
       "      <td>faithful</td>\n",
       "    </tr>\n",
       "  </tbody>\n",
       "</table>\n",
       "</div>"
      ],
      "text/plain": [
       "     conversation_id            subreddit        post_title    author  \\\n",
       "344              145  MentalHealthSupport  Mental Disorder?  Ontanium   \n",
       "346              145  MentalHealthSupport  Mental Disorder?  Ontanium   \n",
       "347              145  MentalHealthSupport  Mental Disorder?  Ontanium   \n",
       "349              145  MentalHealthSupport  Mental Disorder?  Ontanium   \n",
       "\n",
       "     dialog_turn  \\\n",
       "344            1   \n",
       "346            3   \n",
       "347            4   \n",
       "349            6   \n",
       "\n",
       "                                                                                                                                                                                                                                                                                                                                                                                                                                                                                                                    text  \\\n",
       "344  Really hard to post this:  Ok, this is going to tarnish me big time if anyone I know reads it. However I need some input on my in most furtive thoughts.  I am 26 now and have believed that ever since I was in college (around 20) that there is some kind of a conspiracy around me to get me killed.  When I say conspiracy, I mean like people believe me some sort of child molester, or something as bad (which I would deem worthy of death btw).  So I want to list things I have done, that I dislike ...   \n",
       "346  My biggest fear is that there has been something said about me for which people genuinely believe I deserve death.  And right now as I am sitting here typing this I keep getting feelings like someone is just going to break down the door and shoot me.  No matter how much I rationlise I can't get these thoughts out of my head.  And I can hear a near incessant bibbing (like a car horn) which has been going on for a few days now.  I can't shake these feelings, because I have seen people look at ...   \n",
       "347                                                                                                                                                                                                                                                                                                        Thanks, I will try to. But the sense of paranoia and conspiracy seems to stay with me no matter what I do. And I feel quite selfish. But thanks for getting back to me, I'll use this information best I can.   \n",
       "349                                                                                                                                                                                                                                                                                                                                                                            I probably will seek advice online. I had a drop of brandy which seems to have helped (only a bit).  Thanks for getting back to me again.   \n",
       "\n",
       "     compound sentiment emotion_prediction  \n",
       "344   -0.9946  negative           grateful  \n",
       "346   -0.1670  negative           grateful  \n",
       "347    0.0503  positive             guilty  \n",
       "349    0.2023  positive           faithful  "
      ]
     },
     "execution_count": 549,
     "metadata": {},
     "output_type": "execute_result"
    }
   ],
   "source": [
    "speaker_responses"
   ]
  },
  {
   "cell_type": "code",
   "execution_count": 550,
   "metadata": {},
   "outputs": [
    {
     "data": {
      "text/plain": [
       "<seaborn.axisgrid.FacetGrid at 0x7fb7c28b2150>"
      ]
     },
     "execution_count": 550,
     "metadata": {},
     "output_type": "execute_result"
    },
    {
     "data": {
      "image/png": "[encoded data removed]",
      "text/plain": [
       "<Figure size 478.725x360 with 1 Axes>"
      ]
     },
     "metadata": {},
     "output_type": "display_data"
    }
   ],
   "source": [
    "sns.set_theme(style=\"white\")\n",
    "sns.relplot(x=\"dialog_turn\", y=\"compound\", hue=\"emotion_prediction\", style=\"sentiment\", palette=\"Set2\", data=speaker_responses, s=200)"
   ]
  },
  {
   "cell_type": "code",
   "execution_count": 551,
   "metadata": {},
   "outputs": [
    {
     "data": {
      "text/plain": [
       "<seaborn.axisgrid.FacetGrid at 0x7fb7b5805410>"
      ]
     },
     "execution_count": 551,
     "metadata": {},
     "output_type": "execute_result"
    },
    {
     "data": {
      "image/png": "[encoded data removed]",
      "text/plain": [
       "<Figure size 478.725x360 with 1 Axes>"
      ]
     },
     "metadata": {},
     "output_type": "display_data"
    }
   ],
   "source": [
    "sns.set_theme(style=\"white\")\n",
    "sns.relplot(x=\"dialog_turn\", y=\"compound\", hue=\"sentiment\", style=\"emotion_prediction\", palette=\"Set2\",data=speaker_responses, s=200)"
   ]
  },
  {
   "cell_type": "code",
   "execution_count": 552,
   "metadata": {},
   "outputs": [],
   "source": [
    "def calculate_sentiment_shift(responses):\n",
    "    x = np.array(responses[\"dialog_turn\"]).reshape((-1, 1))\n",
    "    y = np.array(responses[\"compound\"])\n",
    "    model = LinearRegression().fit(x, y)\n",
    "    r_sq = model.score(x, y)\n",
    "    \n",
    "    satisfaction = \"\"\n",
    "    if r_sq >= 0.5: # TODO: play with these variables (maybe even do some ML to learn these params)\n",
    "        satisfaction = \"positive\"\n",
    "    elif r_sq >= 0.3:\n",
    "        satisfaction = \"moderate\"\n",
    "    elif r_sq < 0.3 and r_sq >= 0:\n",
    "        satisfaction = \"neutral\"\n",
    "    elif r_sq < 0:\n",
    "        satisfaction = \"negative\"\n",
    "        \n",
    "    return r_sq, satisfaction"
   ]
  },
  {
   "cell_type": "code",
   "execution_count": 553,
   "metadata": {},
   "outputs": [
    {
     "data": {
      "text/plain": [
       "(0.8661091484878147, 'positive')"
      ]
     },
     "execution_count": 553,
     "metadata": {},
     "output_type": "execute_result"
    }
   ],
   "source": [
    "calculate_sentiment_shift(speaker_responses)"
   ]
  },
  {
   "cell_type": "code",
   "execution_count": 554,
   "metadata": {},
   "outputs": [],
   "source": [
    "def get_sentiment(responses):\n",
    "    sentiments = responses[\"sentiment\"]\n",
    "    final_sentiment = sentiments.iloc[-1]\n",
    "    \n",
    "    return sentiments, final_sentiment"
   ]
  },
  {
   "cell_type": "markdown",
   "metadata": {},
   "source": [
    "### If the last speaker turn has grateful emotion and has positive sentiment"
   ]
  },
  {
   "cell_type": "code",
   "execution_count": 555,
   "metadata": {},
   "outputs": [],
   "source": [
    "def get_emotion_prediction(responses):\n",
    "    emotions = responses[\"emotion_prediction\"]\n",
    "    final_emotion = emotions.iloc[-1]\n",
    "    \n",
    "    return emotions, final_emotion"
   ]
  },
  {
   "cell_type": "code",
   "execution_count": 556,
   "metadata": {},
   "outputs": [
    {
     "data": {
      "text/plain": [
       "(344    grateful\n",
       " 346    grateful\n",
       " 347      guilty\n",
       " 349    faithful\n",
       " Name: emotion_prediction, dtype: object,\n",
       " 'faithful')"
      ]
     },
     "execution_count": 556,
     "metadata": {},
     "output_type": "execute_result"
    }
   ],
   "source": [
    "get_emotion_prediction(speaker_responses)"
   ]
  },
  {
   "cell_type": "markdown",
   "metadata": {},
   "source": [
    "### How the literature measures satisfaction"
   ]
  },
  {
   "cell_type": "markdown",
   "metadata": {},
   "source": [
    "## Equation to measure the engagement and satisfaction of a conversation"
   ]
  },
  {
   "cell_type": "code",
   "execution_count": 557,
   "metadata": {},
   "outputs": [],
   "source": [
    "def classify_conversation(conversation):\n",
    "    print(calculate_speaker_listener_ratio(conversation)[1] + \" engagement, \" + calculate_sentiment_shift(speaker_responses)[1] + \" satisfaction\")"
   ]
  },
  {
   "cell_type": "code",
   "execution_count": 558,
   "metadata": {},
   "outputs": [
    {
     "data": {
      "text/html": [
       "<div>\n",
       "<style scoped>\n",
       "    .dataframe tbody tr th:only-of-type {\n",
       "        vertical-align: middle;\n",
       "    }\n",
       "\n",
       "    .dataframe tbody tr th {\n",
       "        vertical-align: top;\n",
       "    }\n",
       "\n",
       "    .dataframe thead th {\n",
       "        text-align: right;\n",
       "    }\n",
       "</style>\n",
       "<table border=\"1\" class=\"dataframe\">\n",
       "  <thead>\n",
       "    <tr style=\"text-align: right;\">\n",
       "      <th></th>\n",
       "      <th>conversation_id</th>\n",
       "      <th>subreddit</th>\n",
       "      <th>post_title</th>\n",
       "      <th>author</th>\n",
       "      <th>dialog_turn</th>\n",
       "      <th>text</th>\n",
       "      <th>compound</th>\n",
       "      <th>sentiment</th>\n",
       "      <th>emotion_prediction</th>\n",
       "    </tr>\n",
       "  </thead>\n",
       "  <tbody>\n",
       "    <tr>\n",
       "      <th>344</th>\n",
       "      <td>145</td>\n",
       "      <td>MentalHealthSupport</td>\n",
       "      <td>Mental Disorder?</td>\n",
       "      <td>Ontanium</td>\n",
       "      <td>1</td>\n",
       "      <td>Really hard to post this:  Ok, this is going to tarnish me big time if anyone I know reads it. However I need some input on my in most furtive thoughts.  I am 26 now and have believed that ever since I was in college (around 20) that there is some kind of a conspiracy around me to get me killed.  When I say conspiracy, I mean like people believe me some sort of child molester, or something as bad (which I would deem worthy of death btw).  So I want to list things I have done, that I dislike ...</td>\n",
       "      <td>-0.9946</td>\n",
       "      <td>negative</td>\n",
       "      <td>grateful</td>\n",
       "    </tr>\n",
       "    <tr>\n",
       "      <th>345</th>\n",
       "      <td>145</td>\n",
       "      <td>MentalHealthSupport</td>\n",
       "      <td>Mental Disorder?</td>\n",
       "      <td>btkbmys</td>\n",
       "      <td>2</td>\n",
       "      <td>Everyone does things that they regret and when it comes down to it, what's done is done. You have to ask yourself this question: what can I do? If you can, at least try to resolve one of these by talking to the respective person ie rue owner of the dog and apologise or your friend. If you are able to do that, you will see that in the long run, relatively small things like that don't matter in the grand scheme of things. If you are unable to apologise for whatever reason or don't want to, you...</td>\n",
       "      <td>0.9586</td>\n",
       "      <td>positive</td>\n",
       "      <td>anxious</td>\n",
       "    </tr>\n",
       "    <tr>\n",
       "      <th>346</th>\n",
       "      <td>145</td>\n",
       "      <td>MentalHealthSupport</td>\n",
       "      <td>Mental Disorder?</td>\n",
       "      <td>Ontanium</td>\n",
       "      <td>3</td>\n",
       "      <td>My biggest fear is that there has been something said about me for which people genuinely believe I deserve death.  And right now as I am sitting here typing this I keep getting feelings like someone is just going to break down the door and shoot me.  No matter how much I rationlise I can't get these thoughts out of my head.  And I can hear a near incessant bibbing (like a car horn) which has been going on for a few days now.  I can't shake these feelings, because I have seen people look at ...</td>\n",
       "      <td>-0.1670</td>\n",
       "      <td>negative</td>\n",
       "      <td>grateful</td>\n",
       "    </tr>\n",
       "    <tr>\n",
       "      <th>347</th>\n",
       "      <td>145</td>\n",
       "      <td>MentalHealthSupport</td>\n",
       "      <td>Mental Disorder?</td>\n",
       "      <td>Ontanium</td>\n",
       "      <td>4</td>\n",
       "      <td>Thanks, I will try to. But the sense of paranoia and conspiracy seems to stay with me no matter what I do. And I feel quite selfish. But thanks for getting back to me, I'll use this information best I can.</td>\n",
       "      <td>0.0503</td>\n",
       "      <td>positive</td>\n",
       "      <td>guilty</td>\n",
       "    </tr>\n",
       "    <tr>\n",
       "      <th>348</th>\n",
       "      <td>145</td>\n",
       "      <td>MentalHealthSupport</td>\n",
       "      <td>Mental Disorder?</td>\n",
       "      <td>btkbmys</td>\n",
       "      <td>5</td>\n",
       "      <td>There's not much I can do as me telling you that it won't happen isn't going to help you. I beg you, please seek a medical professional, you'll be able to enjoy life again.</td>\n",
       "      <td>0.5010</td>\n",
       "      <td>positive</td>\n",
       "      <td>grateful</td>\n",
       "    </tr>\n",
       "    <tr>\n",
       "      <th>349</th>\n",
       "      <td>145</td>\n",
       "      <td>MentalHealthSupport</td>\n",
       "      <td>Mental Disorder?</td>\n",
       "      <td>Ontanium</td>\n",
       "      <td>6</td>\n",
       "      <td>I probably will seek advice online. I had a drop of brandy which seems to have helped (only a bit).  Thanks for getting back to me again.</td>\n",
       "      <td>0.2023</td>\n",
       "      <td>positive</td>\n",
       "      <td>faithful</td>\n",
       "    </tr>\n",
       "    <tr>\n",
       "      <th>350</th>\n",
       "      <td>145</td>\n",
       "      <td>MentalHealthSupport</td>\n",
       "      <td>Mental Disorder?</td>\n",
       "      <td>btkbmys</td>\n",
       "      <td>7</td>\n",
       "      <td>Well done for seeking help, it's very brave. As someone with various mental health issues I can testify to how difficult it is to go for help. Also brandy is great but don't let it become a coping mechanism :)</td>\n",
       "      <td>0.8859</td>\n",
       "      <td>positive</td>\n",
       "      <td>lonely</td>\n",
       "    </tr>\n",
       "  </tbody>\n",
       "</table>\n",
       "</div>"
      ],
      "text/plain": [
       "     conversation_id            subreddit        post_title    author  \\\n",
       "344              145  MentalHealthSupport  Mental Disorder?  Ontanium   \n",
       "345              145  MentalHealthSupport  Mental Disorder?   btkbmys   \n",
       "346              145  MentalHealthSupport  Mental Disorder?  Ontanium   \n",
       "347              145  MentalHealthSupport  Mental Disorder?  Ontanium   \n",
       "348              145  MentalHealthSupport  Mental Disorder?   btkbmys   \n",
       "349              145  MentalHealthSupport  Mental Disorder?  Ontanium   \n",
       "350              145  MentalHealthSupport  Mental Disorder?   btkbmys   \n",
       "\n",
       "     dialog_turn  \\\n",
       "344            1   \n",
       "345            2   \n",
       "346            3   \n",
       "347            4   \n",
       "348            5   \n",
       "349            6   \n",
       "350            7   \n",
       "\n",
       "                                                                                                                                                                                                                                                                                                                                                                                                                                                                                                                    text  \\\n",
       "344  Really hard to post this:  Ok, this is going to tarnish me big time if anyone I know reads it. However I need some input on my in most furtive thoughts.  I am 26 now and have believed that ever since I was in college (around 20) that there is some kind of a conspiracy around me to get me killed.  When I say conspiracy, I mean like people believe me some sort of child molester, or something as bad (which I would deem worthy of death btw).  So I want to list things I have done, that I dislike ...   \n",
       "345  Everyone does things that they regret and when it comes down to it, what's done is done. You have to ask yourself this question: what can I do? If you can, at least try to resolve one of these by talking to the respective person ie rue owner of the dog and apologise or your friend. If you are able to do that, you will see that in the long run, relatively small things like that don't matter in the grand scheme of things. If you are unable to apologise for whatever reason or don't want to, you...   \n",
       "346  My biggest fear is that there has been something said about me for which people genuinely believe I deserve death.  And right now as I am sitting here typing this I keep getting feelings like someone is just going to break down the door and shoot me.  No matter how much I rationlise I can't get these thoughts out of my head.  And I can hear a near incessant bibbing (like a car horn) which has been going on for a few days now.  I can't shake these feelings, because I have seen people look at ...   \n",
       "347                                                                                                                                                                                                                                                                                                        Thanks, I will try to. But the sense of paranoia and conspiracy seems to stay with me no matter what I do. And I feel quite selfish. But thanks for getting back to me, I'll use this information best I can.   \n",
       "348                                                                                                                                                                                                                                                                                                                                         There's not much I can do as me telling you that it won't happen isn't going to help you. I beg you, please seek a medical professional, you'll be able to enjoy life again.   \n",
       "349                                                                                                                                                                                                                                                                                                                                                                            I probably will seek advice online. I had a drop of brandy which seems to have helped (only a bit).  Thanks for getting back to me again.   \n",
       "350                                                                                                                                                                                                                                                                                                    Well done for seeking help, it's very brave. As someone with various mental health issues I can testify to how difficult it is to go for help. Also brandy is great but don't let it become a coping mechanism :)   \n",
       "\n",
       "     compound sentiment emotion_prediction  \n",
       "344   -0.9946  negative           grateful  \n",
       "345    0.9586  positive            anxious  \n",
       "346   -0.1670  negative           grateful  \n",
       "347    0.0503  positive             guilty  \n",
       "348    0.5010  positive           grateful  \n",
       "349    0.2023  positive           faithful  \n",
       "350    0.8859  positive             lonely  "
      ]
     },
     "execution_count": 558,
     "metadata": {},
     "output_type": "execute_result"
    }
   ],
   "source": [
    "conversation"
   ]
  },
  {
   "cell_type": "code",
   "execution_count": 559,
   "metadata": {},
   "outputs": [
    {
     "name": "stdout",
     "output_type": "stream",
     "text": [
      "high engagement, positive satisfaction\n"
     ]
    }
   ],
   "source": [
    "classify_conversation(conversation)"
   ]
  },
  {
   "cell_type": "code",
   "execution_count": 560,
   "metadata": {},
   "outputs": [
    {
     "data": {
      "text/plain": [
       "(1.3333333333333333, 'high')"
      ]
     },
     "execution_count": 560,
     "metadata": {},
     "output_type": "execute_result"
    }
   ],
   "source": [
    "calculate_speaker_listener_ratio(conversation)"
   ]
  },
  {
   "cell_type": "code",
   "execution_count": 561,
   "metadata": {},
   "outputs": [
    {
     "data": {
      "text/plain": [
       "(0.8661091484878147, 'positive')"
      ]
     },
     "execution_count": 561,
     "metadata": {},
     "output_type": "execute_result"
    }
   ],
   "source": [
    "calculate_sentiment_shift(speaker_responses)"
   ]
  }
 ],
 "metadata": {
  "kernelspec": {
   "display_name": "Python 3",
   "language": "python",
   "name": "python3"
  },
  "language_info": {
   "codemirror_mode": {
    "name": "ipython",
    "version": 3
   },
   "file_extension": ".py",
   "mimetype": "text/x-python",
   "name": "python",
   "nbconvert_exporter": "python",
   "pygments_lexer": "ipython3",
   "version": "3.7.6"
  }
 },
 "nbformat": 4,
 "nbformat_minor": 4
}
