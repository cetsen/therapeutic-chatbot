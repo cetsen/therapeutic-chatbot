{
 "cells": [
  {
   "cell_type": "markdown",
   "metadata": {},
   "source": [
    "# Measuring Engagement and Satisfaction in Online Mental Health Platform Conversations"
   ]
  },
  {
   "cell_type": "markdown",
   "metadata": {},
   "source": [
    "## Data preprocessing"
   ]
  },
  {
   "cell_type": "code",
   "execution_count": 103,
   "metadata": {},
   "outputs": [],
   "source": [
    "import pandas as pd\n",
    "import numpy as np\n",
    "import matplotlib.pyplot as plt\n",
    "import seaborn as sns\n",
    "from sklearn.linear_model import LinearRegression\n",
    "from math import log10, floor\n",
    "import math\n",
    "import nltk"
   ]
  },
  {
   "cell_type": "code",
   "execution_count": 104,
   "metadata": {},
   "outputs": [],
   "source": [
    "# Display long column text\n",
    "pd.options.display.max_colwidth = 500\n",
    "\n",
    "df = pd.read_csv(\"mentalhealthsupport_dyadic_convs_clean_emotion.csv\")\n",
    "df = df.rename(columns={'conversation id': 'conversation_id', 'post title': 'post_title', 'dialog turn': 'dialog_turn', 'emotion prediction': 'emotion_prediction'})"
   ]
  },
  {
   "cell_type": "code",
   "execution_count": 105,
   "metadata": {},
   "outputs": [
    {
     "name": "stdout",
     "output_type": "stream",
     "text": [
      "Number of conversations in subreddit:  3551\n",
      "Number of monologues in subreddit:  29\n",
      "Number of dialogues longer than 2 turns in subreddit:  487\n"
     ]
    }
   ],
   "source": [
    "### --- CLEANING OUT CONVERSATIONS WITH ONLY 1 OR 2 TURN(S) FROM DATASET --- ###\n",
    "\n",
    "# Group data by conversation id and calculate count of each conversation id\n",
    "df_conv = df.groupby(\"conversation_id\").count()\n",
    "df_conv = df_conv.drop(columns=[\"subreddit\", \"post_title\", \"author\", \"text\", \"compound\", \"sentiment\", \"emotion_prediction\"])\n",
    "print(\"Number of conversations in subreddit: \", len(df_conv))\n",
    "\n",
    "# Separate conversation id's with a single occurrence as monologues\n",
    "df_mono = df_conv[df_conv[\"dialog_turn\"] == 1]\n",
    "print(\"Number of monologues in subreddit: \", len(df_mono))\n",
    "df_mono_ids = df_mono.reset_index()\n",
    "df_mono_ids = df_mono_ids[\"conversation_id\"]\n",
    "\n",
    "# Separate conversation id's with multiple occurrences as dialogues\n",
    "df_dia = df_conv[df_conv[\"dialog_turn\"] > 2]\n",
    "print(\"Number of dialogues longer than 2 turns in subreddit: \", len(df_dia))\n",
    "df_dia = df_dia.reset_index()\n",
    "df_dia = df_dia.drop(columns=['dialog_turn'])\n",
    "\n",
    "# Join dialogue conversation id's with original data such that only dialogues remain in the dataset\n",
    "df = df.join(df_dia.set_index('conversation_id'), on='conversation_id', how=\"right\") \n",
    "\n",
    "### ---------------------------------------------- ###"
   ]
  },
  {
   "cell_type": "code",
   "execution_count": 106,
   "metadata": {},
   "outputs": [],
   "source": [
    "# Round numbers to a given number of significant figures (default = 2)\n",
    "def round_sig(x, sig=2):\n",
    "    if x != 0:\n",
    "        return round(x, sig-int(floor(log10(abs(x))))-1)\n",
    "    else:\n",
    "        return"
   ]
  },
  {
   "cell_type": "markdown",
   "metadata": {},
   "source": [
    "## Measuring the level of engagement"
   ]
  },
  {
   "cell_type": "markdown",
   "metadata": {},
   "source": [
    "### Does the speaker respond back when the listener gives a response?"
   ]
  },
  {
   "cell_type": "code",
   "execution_count": 107,
   "metadata": {},
   "outputs": [],
   "source": [
    "def extract_responses(conversation):\n",
    "    speaker = conversation.author.iloc[0]\n",
    "    listener = conversation[conversation[\"author\"] != speaker][\"author\"].unique().item() \n",
    "    speaker_responses = conversation[conversation[\"author\"] == speaker]\n",
    "    listener_responses = conversation[conversation[\"author\"] == listener]\n",
    "    num_speaker_responses = len(speaker_responses)\n",
    "    num_listener_responses = len(listener_responses)\n",
    "    \n",
    "    return speaker, listener, speaker_responses, listener_responses, num_speaker_responses, num_listener_responses"
   ]
  },
  {
   "cell_type": "code",
   "execution_count": 109,
   "metadata": {},
   "outputs": [],
   "source": [
    "def calculate_engagement(speaker_responses, num_speaker_responses, num_listener_responses):\n",
    "    speaker_listener_difference = num_speaker_responses - num_listener_responses\n",
    "    \n",
    "    engagement = \"\"\n",
    "    if len(conversation) == 2:\n",
    "        engagement = \"low engagement\"\n",
    "    elif len(conversation) == 3:\n",
    "        if speaker_listener_difference == 2: \n",
    "            engagement = \"moderate engagement\" \n",
    "        else: #speaker_listener_ratio == 0.5: \n",
    "            engagement = \"low engagement\"\n",
    "    elif len(conversation) == 4:\n",
    "        if speaker_listener_ratio == 1:\n",
    "            engagement = \"high engagement\" \n",
    "        elif speaker_listener_difference == 3: # (only if the 2nd turn is listener, add more if statements)\n",
    "            engagement = \"moderate engagement\"\n",
    "        elif speaker_listener_difference == (1/3):\n",
    "            engagement = \"low engagement\"\n",
    "    elif len(conversation) > 4: # \n",
    "        if speaker_listener_difference >= 0.7 and speaker_listener_ratio <= 1.35:\n",
    "            engagement = \"high engagement\"\n",
    "        elif speaker_listener_difference <= 0.5 or speaker_listener_ratio >= 1.5: # separate all conditions\n",
    "            engagement = \"low engagement\"\n",
    "        else:\n",
    "            engagement = \"moderate engagement\"\n",
    "        \n",
    "    return round_sig(speaker_listener_difference), engagement"
   ]
  },
  {
   "cell_type": "markdown",
   "metadata": {},
   "source": [
    "### Does the listener ask any informative questions or give any suggestions? "
   ]
  },
  {
   "cell_type": "markdown",
   "metadata": {},
   "source": [
    "Unfortunately, the emotion predictions are very inaccurate. Normally, we could have given bonus points to questioning and/or suggesting listener responses. "
   ]
  },
  {
   "cell_type": "markdown",
   "metadata": {},
   "source": [
    "## Measuring the level of satisfaction"
   ]
  },
  {
   "cell_type": "markdown",
   "metadata": {},
   "source": [
    "### Shift of sentiment in speaker responses (sentiment trend)"
   ]
  },
  {
   "cell_type": "code",
   "execution_count": 110,
   "metadata": {},
   "outputs": [],
   "source": [
    "def plot_emotion_sentiment(speaker_responses):   \n",
    "    sns.set_theme(style=\"white\")\n",
    "    g = sns.relplot(x=\"dialog_turn\", y=\"compound\", hue=\"sentiment\", style=\"emotion_prediction\", palette=\"Set1\",data=speaker_responses, s=200)\n",
    "    g.fig.suptitle('Sentimental and Emotional Shift in Speaker Responses with Conversation Progression', fontsize=16)\n",
    "    g.fig.subplots_adjust(top=0.9);"
   ]
  },
  {
   "cell_type": "code",
   "execution_count": 111,
   "metadata": {},
   "outputs": [],
   "source": [
    "def calculate_satisfaction(speaker_responses, conversation):\n",
    "    satisfaction = \"\"\n",
    "\n",
    "    f = np.polyfit(speaker_responses['dialog_turn'], speaker_responses['compound'], deg=1)\n",
    "    slope = f[0]\n",
    "    \n",
    "    # If either the last speaker text is tagged with grateful & positive \n",
    "    # or if the last speaker text contains lexical details that express gratitude, add a bonus point to satisfaction.\n",
    "    grateful_bonus = 0\n",
    "    if check_grateful_positive()==True or check_lexical_details()==True:\n",
    "        grateful_bonus = 0.4\n",
    "        slope += grateful_bonus\n",
    "        \n",
    "    if len(conversation) == 2:\n",
    "        satisfaction = \"none\"\n",
    "    else:\n",
    "        if slope >= 0.8: \n",
    "            satisfaction = \"positive satisfaction\"\n",
    "        elif slope >= 0.4:\n",
    "            satisfaction = \"moderate satisfaction\"\n",
    "        elif slope < 0.4 and slope >= 0:\n",
    "            satisfaction = \"neutral satisfaction\"\n",
    "        elif slope < 0:\n",
    "            satisfaction = \"negative satisfaction\"\n",
    "            \n",
    "    return round_sig(slope), satisfaction, grateful_bonus"
   ]
  },
  {
   "cell_type": "markdown",
   "metadata": {},
   "source": [
    "### Check if the last speaker turn has grateful emotion and has positive sentiment"
   ]
  },
  {
   "cell_type": "code",
   "execution_count": 112,
   "metadata": {},
   "outputs": [],
   "source": [
    "# Return all emotions and the final emotion of the given responses\n",
    "def get_emotion_prediction():\n",
    "    emotions = speaker_responses[\"emotion_prediction\"]\n",
    "    final_emotion = emotions.iloc[-1]\n",
    "    \n",
    "    return emotions, final_emotion"
   ]
  },
  {
   "cell_type": "code",
   "execution_count": 113,
   "metadata": {},
   "outputs": [],
   "source": [
    "# Return all sentiments and the final sentiment of the given responses\n",
    "def get_sentiment():\n",
    "    sentiments = speaker_responses[\"sentiment\"]\n",
    "    final_sentiment = sentiments.iloc[-1]\n",
    "    \n",
    "    return sentiments, final_sentiment"
   ]
  },
  {
   "cell_type": "code",
   "execution_count": 114,
   "metadata": {},
   "outputs": [],
   "source": [
    "# Check if the last speaker emotion is grateful and its sentiment is positive. If yes, return true. Otherwise, return false.\n",
    "def check_grateful_positive():\n",
    "    _, final_sentiment = get_sentiment()\n",
    "    _, final_emotion = get_emotion_prediction()\n",
    "    \n",
    "    if final_sentiment == \"positive\" and final_emotion == \"grateful\":\n",
    "        return True\n",
    "    \n",
    "    return False"
   ]
  },
  {
   "cell_type": "markdown",
   "metadata": {},
   "source": [
    "### Check if the last speaker turn contains lexical details that express gratitude, e.g. \"Thank you\" or \"It means a lot\""
   ]
  },
  {
   "cell_type": "code",
   "execution_count": 115,
   "metadata": {},
   "outputs": [],
   "source": [
    "def check_lexical_details():\n",
    "    # TO ASK: I couldn't find a gratitude lexicon. Will I create one myself or is there one that I don't know of? e.g. appreciate --> manual inspection & research\n",
    "    \n",
    "    tokens = nltk.word_tokenize(speaker_responses[\"text\"].iloc[-1].lower())\n",
    "    \n",
    "    if \"thank\" in tokens: # if we get a lexicon of gratitude I can check if any of those words are in tokens (can also use ngrams)\n",
    "        return True\n",
    "        \n",
    "    return False"
   ]
  },
  {
   "cell_type": "markdown",
   "metadata": {},
   "source": [
    "## Final classification"
   ]
  },
  {
   "cell_type": "code",
   "execution_count": 116,
   "metadata": {},
   "outputs": [],
   "source": [
    "def classify_conversation(speaker_responses, num_speaker_responses, num_listener_responses, conversation):\n",
    "    return str(calculate_engagement(speaker_responses, num_speaker_responses, num_listener_responses)[1] + \", \" + calculate_satisfaction(speaker_responses, conversation)[1])"
   ]
  },
  {
   "cell_type": "markdown",
   "metadata": {},
   "source": [
    "## Testing the measures with examples"
   ]
  },
  {
   "cell_type": "code",
   "execution_count": 131,
   "metadata": {},
   "outputs": [],
   "source": [
    "def test_examples(conversation_id):\n",
    "    conversation = df[df[\"conversation_id\"] == conversation_id]\n",
    "    speaker, listener, speaker_responses, listener_responses, num_speaker_responses, num_listener_responses = extract_responses(conversation)\n",
    "    plot_emotion_sentiment(speaker_responses)\n",
    "    print(\"Conversation length: \", len(conversation))\n",
    "    print(\"Speaker listener ratio: \", calculate_engagement(speaker_responses, num_speaker_responses, num_listener_responses)[0], \" --> \", calculate_engagement(speaker_responses, num_speaker_responses, num_listener_responses)[1])\n",
    "    print(\"Sentiment shift: \", calculate_satisfaction(speaker_responses, conversation)[0], \" with grateful bonus: \", calculate_satisfaction(speaker_responses, conversation)[2], \" --> \", calculate_satisfaction(speaker_responses, conversation)[1])\n",
    "    print(\"Classification summary: \", classify_conversation(speaker_responses, num_speaker_responses, num_listener_responses, conversation))"
   ]
  },
  {
   "cell_type": "code",
   "execution_count": 132,
   "metadata": {},
   "outputs": [
    {
     "name": "stdout",
     "output_type": "stream",
     "text": [
      "Conversation length:  3\n",
      "Speaker listener ratio:  1  -->  low engagement\n",
      "Sentiment shift:  0.24  with grateful bonus:  0.4  -->  neutral satisfaction\n",
      "Classification summary:  low engagement, neutral satisfaction\n"
     ]
    },
    {
     "data": {
      "image/png": "[encoded data removed]",
      "text/plain": [
       "<Figure size 478.725x360 with 1 Axes>"
      ]
     },
     "metadata": {},
     "output_type": "display_data"
    }
   ],
   "source": [
    "test_examples(23)"
   ]
  },
  {
   "cell_type": "code",
   "execution_count": 133,
   "metadata": {},
   "outputs": [
    {
     "name": "stdout",
     "output_type": "stream",
     "text": [
      "Conversation length:  4\n",
      "Speaker listener ratio:  2  -->  moderate engagement\n",
      "Sentiment shift:  0.61  with grateful bonus:  0.4  -->  moderate satisfaction\n",
      "Classification summary:  moderate engagement, moderate satisfaction\n"
     ]
    },
    {
     "data": {
      "image/png": "[encoded data removed]",
      "text/plain": [
       "<Figure size 478.725x360 with 1 Axes>"
      ]
     },
     "metadata": {},
     "output_type": "display_data"
    }
   ],
   "source": [
    "test_examples(24)"
   ]
  },
  {
   "cell_type": "markdown",
   "metadata": {},
   "source": [
    "### High engagement, positive satisfaction"
   ]
  },
  {
   "cell_type": "markdown",
   "metadata": {},
   "source": [
    "### High engagement, negative satisfaction"
   ]
  },
  {
   "cell_type": "markdown",
   "metadata": {},
   "source": [
    "### Moderate engagement, moderate satisfaction"
   ]
  },
  {
   "cell_type": "markdown",
   "metadata": {},
   "source": [
    "### Low engagement, neutral satisfaction"
   ]
  },
  {
   "cell_type": "markdown",
   "metadata": {},
   "source": [
    "## Emotion prediction is not accurate at all..."
   ]
  },
  {
   "cell_type": "code",
   "execution_count": 122,
   "metadata": {},
   "outputs": [],
   "source": [
    "#conversation_bad_emotion_prediction_example = df[df[\"conversation_id\"] == 1754]\n",
    "#conversation_bad_emotion_prediction_example"
   ]
  },
  {
   "cell_type": "markdown",
   "metadata": {},
   "source": [
    "When we check the emotion predictions, we see that most of them are very inaccurate. The sentiment tags are more accurate, but sometimes they fail too."
   ]
  },
  {
   "cell_type": "code",
   "execution_count": 123,
   "metadata": {},
   "outputs": [],
   "source": [
    "#df[df[\"emotion_prediction\"]==\"questioning\"]"
   ]
  },
  {
   "cell_type": "markdown",
   "metadata": {},
   "source": [
    "The questioning tags are not accurate either. Only one of the statements that are tagged with the questioning tag are actually questioning."
   ]
  },
  {
   "cell_type": "code",
   "execution_count": 124,
   "metadata": {},
   "outputs": [],
   "source": [
    "#df[df[\"emotion_prediction\"]==\"suggesting\"]"
   ]
  },
  {
   "cell_type": "markdown",
   "metadata": {},
   "source": [
    "There are no turns tagged as suggesting."
   ]
  },
  {
   "cell_type": "markdown",
   "metadata": {},
   "source": [
    "## TODO: Improve these scoring functions"
   ]
  },
  {
   "cell_type": "markdown",
   "metadata": {},
   "source": [
    "Satisfaction: \n",
    "- Take off points if speaker got offended from listener's response\n",
    "- Find a lexicon of gratitude tokens\n",
    "\n",
    "Engagement:\n",
    "- Number of tokens speaker used to respond back (excluding the first turn), i.e. when the speaker responds back, is it a shorter/longer response elaborating the situation\n",
    "- Check if the turns are interleaved (i.e. if there is interaction)\n",
    "- Change ratio to difference\n",
    "\n",
    "Examples:\n",
    "- A few examples showing low/moderate/high engagement/satisfaction\n"
   ]
  }
 ],
 "metadata": {
  "kernelspec": {
   "display_name": "Python 3",
   "language": "python",
   "name": "python3"
  },
  "language_info": {
   "codemirror_mode": {
    "name": "ipython",
    "version": 3
   },
   "file_extension": ".py",
   "mimetype": "text/x-python",
   "name": "python",
   "nbconvert_exporter": "python",
   "pygments_lexer": "ipython3",
   "version": "3.7.6"
  }
 },
 "nbformat": 4,
 "nbformat_minor": 4
}
