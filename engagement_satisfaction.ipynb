{
 "cells": [
  {
   "cell_type": "markdown",
   "metadata": {},
   "source": [
    "# Measuring Engagement and Satisfaction in Online Mental Health Platform Conversations"
   ]
  },
  {
   "cell_type": "markdown",
   "metadata": {},
   "source": [
    "## Data preprocessing"
   ]
  },
  {
   "cell_type": "code",
   "execution_count": 207,
   "metadata": {},
   "outputs": [],
   "source": [
    "import pandas as pd\n",
    "import numpy as np\n",
    "import matplotlib.pyplot as plt\n",
    "import seaborn as sns\n",
    "from sklearn.linear_model import LinearRegression\n",
    "from math import log10, floor\n",
    "import math\n",
    "import nltk\n",
    "import string\n",
    "from nltk.tokenize import sent_tokenize\n",
    "from vaderSentiment.vaderSentiment import SentimentIntensityAnalyzer\n",
    "sid = SentimentIntensityAnalyzer()\n",
    "\n",
    "pd.set_option('mode.chained_assignment',None)"
   ]
  },
  {
   "cell_type": "code",
   "execution_count": 208,
   "metadata": {},
   "outputs": [],
   "source": [
    "# Display long column text\n",
    "pd.options.display.max_colwidth = 500\n",
    "\n",
    "df = pd.read_csv(\"mentalhealthsupport_dyadic_convs_clean_emotion.csv\")\n",
    "df = df.rename(columns={'conversation id': 'conversation_id', 'post title': 'post_title', 'dialog turn': 'dialog_turn', 'emotion prediction': 'emotion_prediction'})"
   ]
  },
  {
   "cell_type": "code",
   "execution_count": 209,
   "metadata": {},
   "outputs": [
    {
     "name": "stdout",
     "output_type": "stream",
     "text": [
      "Number of conversations in subreddit:  3551\n",
      "Number of conversations longer than 2 turns in subreddit:  487\n",
      "Number of conversations longer than 2 turns with more than a single author in subreddit:  476\n"
     ]
    }
   ],
   "source": [
    "### --- CLEANING OUT CONVERSATIONS WITH ONLY 1 OR 2 TURN(S) AND/OR WITH A SINGLE AUTHOR --- ###\n",
    "\n",
    "# Group data by conversation id and calculate count of each conversation id\n",
    "df_conv_len = df.groupby(\"conversation_id\").count()\n",
    "df_conv_len = df_conv_len.drop(columns=[\"subreddit\", \"post_title\", \"author\", \"text\", \"compound\", \"sentiment\", \"emotion_prediction\"])\n",
    "print(\"Number of conversations in subreddit: \", len(df_conv_len))\n",
    "\n",
    "# Separate conversation id's with a single occurrence as monologues\n",
    "df_mono = df_conv_len[df_conv_len[\"dialog_turn\"] == 1]\n",
    "#print(\"Number of conversations with a single turn in subreddit: \", len(df_mono))\n",
    "df_mono_ids = df_mono.reset_index()\n",
    "df_mono_ids = df_mono_ids[\"conversation_id\"]\n",
    "\n",
    "# Separate conversation id's with multiple occurrences as dialogues\n",
    "df_dia = df_conv_len[df_conv_len[\"dialog_turn\"] > 2]\n",
    "print(\"Number of conversations longer than 2 turns in subreddit: \", len(df_dia))\n",
    "df_dia = df_dia.reset_index()\n",
    "df_dia = df_dia.drop(columns=['dialog_turn'])\n",
    "\n",
    "# Join dialogue conversation id's with original data such that only dialogues remain in the dataset\n",
    "df = df.join(df_dia.set_index('conversation_id'), on='conversation_id', how=\"right\") \n",
    "\n",
    "# Separate conversations that have more than one author\n",
    "df_conv_authors = df.groupby(\"conversation_id\")[\"author\"].unique().reset_index()\n",
    "df_conv_authors[\"author\"] = df_conv_authors[\"author\"].apply(lambda x: x.size)\n",
    "df_conv_authors = df_conv_authors[df_conv_authors[\"author\"] > 1]\n",
    "df_conv_authors = df_conv_authors.drop(columns=['author'])\n",
    "\n",
    "# Join dialogue conversation id's with original data such that only conversations that have more than one author remain in the dataset\n",
    "df = df.join(df_conv_authors.set_index('conversation_id'), on='conversation_id', how=\"right\") \n",
    "print(\"Number of conversations longer than 2 turns with more than a single author in subreddit: \", len(df_conv_authors))\n",
    "\n",
    "### ---------------------------------------------- ###"
   ]
  },
  {
   "cell_type": "code",
   "execution_count": 210,
   "metadata": {},
   "outputs": [],
   "source": [
    "# Round numbers to a given number of significant figures (default = 2)\n",
    "def round_sig(x, sig=2):\n",
    "    if x != 0:\n",
    "        return round(x, sig-int(floor(log10(abs(x))))-1)\n",
    "    else:\n",
    "        return"
   ]
  },
  {
   "cell_type": "markdown",
   "metadata": {},
   "source": [
    "## Extracting conversation, speaker, and listener"
   ]
  },
  {
   "cell_type": "code",
   "execution_count": 211,
   "metadata": {},
   "outputs": [],
   "source": [
    "def extract_responses(conversation_id):\n",
    "    conversation = df[df[\"conversation_id\"] == conversation_id]\n",
    "    conversation.reset_index(drop=True, inplace=True)\n",
    "    speaker = conversation.author.iloc[0]\n",
    "    listener = conversation[conversation[\"author\"] != speaker][\"author\"].unique().item() \n",
    "    speaker_responses = conversation[conversation[\"author\"] == speaker]\n",
    "    listener_responses = conversation[conversation[\"author\"] == listener]\n",
    "    num_speaker_responses = len(speaker_responses) \n",
    "    num_listener_responses = len(listener_responses)\n",
    "    # TOIMPROVE: you can only keep conversation, speaker, and listener (because others are dynamic and can be calculated from these 3)\n",
    "    return conversation, speaker, listener, speaker_responses, listener_responses, num_speaker_responses, num_listener_responses"
   ]
  },
  {
   "cell_type": "markdown",
   "metadata": {},
   "source": [
    "## Measuring the level of engagement"
   ]
  },
  {
   "cell_type": "code",
   "execution_count": 212,
   "metadata": {},
   "outputs": [],
   "source": [
    "# Calculates token length for all speaker responses except for the first and adds it to a new column 'token_length', and returns their sum.\n",
    "def calculate_speaker_token_length(conversation, speaker):\n",
    "    # Create an empty dataframe column 'token_length'\n",
    "    conversation.loc[:,'token_length'] = np.nan\n",
    "    \n",
    "    sum_token_length = 0\n",
    "    \n",
    "    for i in range(1, len(conversation)):\n",
    "        if conversation['author'].iloc[i] == speaker:\n",
    "            # Tokenize speaker response and filter punctuations\n",
    "            tokens = nltk.word_tokenize(conversation[\"text\"][i])\n",
    "            tokens = list(filter(lambda tokens: tokens not in string.punctuation, tokens)) # TOIMPROVE: exclude quotation marks\n",
    "            \n",
    "            # Add token length to dataframe\n",
    "            conversation.at[i,'token_length'] = len(tokens)\n",
    "            \n",
    "            # Calculate sum of all tokens by speaker\n",
    "            sum_token_length += len(tokens)\n",
    "        \n",
    "    return conversation, sum_token_length"
   ]
  },
  {
   "cell_type": "code",
   "execution_count": 213,
   "metadata": {},
   "outputs": [],
   "source": [
    "def merge_consecutive_speaker_responses(conversation, speaker, listener):\n",
    "    i = 0\n",
    "    \n",
    "    while i < (len(conversation) - 1):\n",
    "        if conversation['author'].iloc[i] == speaker and conversation['author'].iloc[i+1] == speaker:\n",
    "            if (conversation['dialog_turn'].iloc[i] + 1) == conversation['dialog_turn'].iloc[i+1]:\n",
    "                dropped_turn = conversation['dialog_turn'].iloc[i+1]\n",
    "                former_text = conversation['text'][i]\n",
    "                latter_text = conversation['text'][i+1]\n",
    "\n",
    "                # Merge consecutive responses of the speaker\n",
    "                merged_text = former_text + \" \" + latter_text \n",
    "                conversation['text'].replace({former_text: merged_text}, inplace=True)\n",
    "\n",
    "                # Get names of indexes for which column dialog_turn has value of the dropped turn\n",
    "                conversation_index_names = conversation[conversation['dialog_turn'] == dropped_turn].index\n",
    "\n",
    "                # Delete these row indexes from dataframe\n",
    "                conversation.drop(conversation_index_names, inplace=True)\n",
    "\n",
    "                # Reset indexes\n",
    "                conversation.reset_index(drop=True, inplace=True)\n",
    "                \n",
    "        i += 1\n",
    "        \n",
    "    speaker_responses = conversation[conversation[\"author\"] == speaker]\n",
    "    listener_responses = conversation[conversation[\"author\"] == listener]\n",
    "    num_speaker_responses = len(speaker_responses) \n",
    "    num_listener_responses = len(listener_responses)\n",
    "                 \n",
    "    return conversation, num_speaker_responses, num_listener_responses"
   ]
  },
  {
   "cell_type": "code",
   "execution_count": 214,
   "metadata": {},
   "outputs": [],
   "source": [
    "# Checks if conversation is interleaved. \n",
    "# If all the even-numbered turns are by the speaker and if all the odd-numbered turns are by the listener, returns True. Otherwise, returns False.\n",
    "def is_interleaved_conversation(speaker, listener, conversation):\n",
    "    num_turns = len(conversation)\n",
    "    \n",
    "    for i in range(0, num_turns, 2):\n",
    "        if conversation['author'].iloc[i] == speaker:\n",
    "            continue\n",
    "        else:\n",
    "            return False\n",
    "        \n",
    "    for i in range(1, num_turns, 2):\n",
    "        if conversation['author'].iloc[i] == listener:\n",
    "            continue\n",
    "        else:\n",
    "            return False\n",
    "        \n",
    "    return True"
   ]
  },
  {
   "cell_type": "code",
   "execution_count": 215,
   "metadata": {},
   "outputs": [],
   "source": [
    "def calculate_engagement_score(num_turns, interleaved, sum_token_length, diff):\n",
    "    num_turns_weight = 1\n",
    "    interleaved_weight = 1\n",
    "    token_length_weight = 1\n",
    "    diff_weight = 1\n",
    "    \n",
    "    if interleaved == True:\n",
    "        interleaved_int = 1\n",
    "    else:\n",
    "        interleaved_int = 0\n",
    "    \n",
    "    return num_turns_weight*num_turns + interleaved_weight*interleaved + token_length_weight*sum_token_length + diff_weight*diff"
   ]
  },
  {
   "cell_type": "code",
   "execution_count": 216,
   "metadata": {},
   "outputs": [],
   "source": [
    "def calculate_engagement(speaker, listener, conversation):\n",
    "    conversation, num_speaker_responses, num_listener_responses = merge_consecutive_speaker_responses(conversation, speaker, listener)\n",
    "    conversation, sum_token_length = calculate_speaker_token_length(conversation, speaker)\n",
    "    diff = num_speaker_responses - num_listener_responses\n",
    "    diff = abs(diff)\n",
    "    interleaved = is_interleaved_conversation(speaker, listener, conversation)\n",
    "    num_turns = len(conversation)\n",
    "    engagement = \"\"\n",
    "    threshold = 2\n",
    "    \n",
    "    engagement_score = calculate_engagement_score(num_turns, interleaved, sum_token_length, diff)\n",
    "    \n",
    "    # TODO: if engagement_score > 2:\n",
    "        \n",
    "    if num_turns == 2:\n",
    "        engagement = \"low engagement\"\n",
    "        \n",
    "    elif num_turns == 3:\n",
    "        if is_interleaved_conversation(speaker, listener, conversation) == True and sum_token_length > 15: # TOASK: What number to choose as token length? Is it logical to use it like this?\n",
    "            engagement = \"moderate engagement\" \n",
    "        else:\n",
    "            engagement = \"low engagement\"\n",
    "            \n",
    "    elif num_turns >= 4:\n",
    "        if (is_interleaved_conversation(speaker, listener, conversation) == True or (diff <= 1)) and sum_token_length > 15: \n",
    "            engagement = \"high engagement\" \n",
    "        else:\n",
    "            engagement = \"low engagement\"\n",
    "    \n",
    "    # TODO: Create a function that takes a weighted sum of these individual measures. Take a subset and calculate for each weight and inspect (which weight is most meaningful?) --> like a compound score\n",
    "            \n",
    "    return round_sig(diff), engagement"
   ]
  },
  {
   "cell_type": "markdown",
   "metadata": {},
   "source": [
    "## Measuring the level of satisfaction"
   ]
  },
  {
   "cell_type": "code",
   "execution_count": 217,
   "metadata": {},
   "outputs": [],
   "source": [
    "def plot_emotion_sentiment(speaker_responses):   \n",
    "    sns.set_theme(style=\"white\")\n",
    "    g = sns.relplot(x=\"dialog_turn\", y=\"compound\", hue=\"sentiment\", style=\"emotion_prediction\", palette=\"Set1\",data=speaker_responses, s=200)\n",
    "    g.fig.suptitle('Sentimental and Emotional Shift in Speaker Responses with Conversation Progression', fontsize=16)\n",
    "    g.fig.subplots_adjust(top=0.9);"
   ]
  },
  {
   "cell_type": "code",
   "execution_count": 218,
   "metadata": {},
   "outputs": [],
   "source": [
    "# Return all emotions and the final emotion of the given responses\n",
    "def get_emotion_prediction(speaker_responses):\n",
    "    emotions = speaker_responses[\"emotion_prediction\"]\n",
    "    final_emotion = emotions.iloc[-1]\n",
    "    \n",
    "    return emotions, final_emotion"
   ]
  },
  {
   "cell_type": "code",
   "execution_count": 219,
   "metadata": {},
   "outputs": [],
   "source": [
    "# Return all sentiments and the final sentiment of the given responses\n",
    "def get_sentiment(speaker_responses):\n",
    "    sentiments = speaker_responses[\"sentiment\"]\n",
    "    final_sentiment = sentiments.iloc[-1]\n",
    "    \n",
    "    return sentiments, final_sentiment"
   ]
  },
  {
   "cell_type": "code",
   "execution_count": 220,
   "metadata": {},
   "outputs": [],
   "source": [
    "# Check if the last speaker emotion is grateful and its sentiment is positive. If yes, return true. Otherwise, return false.\n",
    "def is_tagged_grateful_positive(speaker_responses):\n",
    "    _, final_sentiment = get_sentiment(speaker_responses)\n",
    "    _, final_emotion = get_emotion_prediction(speaker_responses)\n",
    "    \n",
    "    if final_sentiment == \"positive\" and final_emotion == \"grateful\":\n",
    "        return True\n",
    "    \n",
    "    return False"
   ]
  },
  {
   "cell_type": "code",
   "execution_count": 221,
   "metadata": {},
   "outputs": [],
   "source": [
    "def contains_grateful_tokens(conversation, speaker):\n",
    "    index = 0\n",
    "    \n",
    "    # Takes the last speaker response\n",
    "    for i in range(len(conversation)-1,0,-1):\n",
    "        if conversation['author'].iloc[i] == speaker:\n",
    "            index = i\n",
    "            break\n",
    "   \n",
    "    tokens = nltk.word_tokenize(conversation[\"text\"].iloc[index].lower())\n",
    "    tokens = list(filter(lambda tokens: tokens not in string.punctuation, tokens)) # TOIMPROVE: exclude quotation marks\n",
    "    \n",
    "    # TODO: finish lexicon of gratitude words towards listener \n",
    "    gratitude_words = ['thank', 'means a lot to me', 'thanks', 'appreciate', 'your support', 'your help']\n",
    "    \n",
    "    if gratitude_words in tokens: \n",
    "        return True\n",
    "        \n",
    "    return False"
   ]
  },
  {
   "cell_type": "code",
   "execution_count": 222,
   "metadata": {},
   "outputs": [],
   "source": [
    "# def is_offended(conversation):\n",
    "    "
   ]
  },
  {
   "cell_type": "code",
   "execution_count": 223,
   "metadata": {},
   "outputs": [],
   "source": [
    "# Creates a column with sentence-level sentiment compounds\n",
    "def sent_lvl_sentiment(conversation):\n",
    "    conversation['sentences'] = conversation['text'].apply(lambda x: sent_tokenize(x)) \n",
    "    conversation['sentence_compounds'] = conversation['sentences']\n",
    "    \n",
    "    for i in range(0,len(conversation)):\n",
    "        num_sentences = len(sent_tokenize(conversation['text'].iloc[i]))\n",
    "        # sentiment compound for each sentence\n",
    "        scores = np.zeros(num_sentences) \n",
    "        for j in range(0,num_sentences):\n",
    "            # i'th dialogue turn, j'th sentence\n",
    "            scores[j] = sid.polarity_scores(sent_tokenize(conversation['text'][i])[j])['compound']\n",
    "\n",
    "            conversation['sentence_compounds'][i] = scores\n",
    "            \n",
    "    return conversation"
   ]
  },
  {
   "cell_type": "code",
   "execution_count": 224,
   "metadata": {},
   "outputs": [],
   "source": [
    "# Creates a column with the sentence compound with strongest magnitude within a dialogue turn\n",
    "def strongest_sentiment(conversation):\n",
    "    conversation['strongest_compound'] = conversation['sentence_compounds']\n",
    "    conversation['strongest_compound'] = conversation['strongest_compound'].apply(lambda x: np.min(x) if np.max(abs(x)) == abs(np.min(x)) else np.max(x))\n",
    "    \n",
    "    return conversation"
   ]
  },
  {
   "cell_type": "code",
   "execution_count": 225,
   "metadata": {},
   "outputs": [],
   "source": [
    "# TODO IN LATER WEEKS?\n",
    "def emobert_predict_sentence_emotion(conversation):\n",
    "    conversation['sent_emotion_prediction'] = conversation['sentences']\n",
    "    \n",
    "    for i in range(0,len(conversation)):\n",
    "        num_sentences = len(sent_tokenize(conversation['text'].iloc[i]))\n",
    "        # emotion for each sentence\n",
    "        emotions = np.zeros(num_sentences) \n",
    "        for j in range(0,num_sentences):\n",
    "            # i'th dialogue turn, j'th sentence\n",
    "            emotions[j] = sent_tokenize(conversation['text'][i])[j].swifter.apply(emobert_predict_emotion)\n",
    "            conversation['sent_emotion_prediction'][i] = emotions\n",
    "            \n",
    "    return conversation"
   ]
  },
  {
   "cell_type": "code",
   "execution_count": 226,
   "metadata": {},
   "outputs": [],
   "source": [
    "def calculate_satisfaction_score(slope, sentiment_change, grateful_bonus, offended_penalty):\n",
    "    slope_weight = 1\n",
    "    sentiment_change_weight = 1\n",
    "    grateful_bonus_weight = 1\n",
    "    offended_penalty_weight = 1\n",
    "    \n",
    "    return slope_weight*slope + sentiment_change_weight*sentiment_change + grateful_bonus_weight*grateful_bonus + offended_penalty_weight*offended_penalty"
   ]
  },
  {
   "cell_type": "code",
   "execution_count": 227,
   "metadata": {},
   "outputs": [],
   "source": [
    "#conversation, speaker, listener, speaker_responses, listener_responses, num_speaker_responses, num_listener_responses = extract_responses(24)\n",
    "#speaker_responses = conversation[conversation[\"author\"] == speaker]\n",
    "#conversation"
   ]
  },
  {
   "cell_type": "code",
   "execution_count": 228,
   "metadata": {},
   "outputs": [],
   "source": [
    "#conversation = sent_lvl_sentiment(conversation)\n",
    "#conversation = strongest_sentiment(conversation)\n",
    "#conversation"
   ]
  },
  {
   "cell_type": "code",
   "execution_count": 229,
   "metadata": {},
   "outputs": [],
   "source": [
    "def calculate_satisfaction(conversation, speaker):\n",
    "    conversation = sent_lvl_sentiment(conversation)\n",
    "    conversation = strongest_sentiment(conversation)\n",
    "    speaker_responses = conversation[conversation[\"author\"] == speaker]\n",
    "    num_speaker_responses = len(speaker_responses)\n",
    "    \n",
    "    satisfaction = \"\"\n",
    "    grateful_bonus = 0\n",
    "    offended_penalty = 0\n",
    "    threshold = 2\n",
    "    \n",
    "    # Change in sentiment from the first to the last turn\n",
    "    sentiment_change = speaker_responses['strongest_compound'].iloc[-1] - speaker_responses['strongest_compound'].iloc[0]\n",
    "    \n",
    "    # Take the slope of the compounds of speaker responses\n",
    "    f = np.polyfit(speaker_responses['dialog_turn'], speaker_responses['compound'], deg=1)\n",
    "    slope = f[0]\n",
    "\n",
    "    if is_tagged_grateful_positive(speaker_responses)==True or contains_grateful_tokens(speaker_responses, speaker)==True:\n",
    "        grateful_bonus = 1\n",
    "        \n",
    "    # TODO: offended penalty \n",
    "              \n",
    "    satisfaction_score = calculate_satisfaction_score(slope, sentiment_change, grateful_bonus, offended_penalty)\n",
    "                                         \n",
    "    if satisfaction_score > threshold:\n",
    "        satisfaction = \"highly satisfying\"\n",
    "    else:\n",
    "        satisfaction = \"less satisfying\"\n",
    "        \n",
    "    return round_sig(slope), sentiment_change, grateful_bonus, offended_penalty, satisfaction_score, satisfaction"
   ]
  },
  {
   "cell_type": "markdown",
   "metadata": {},
   "source": [
    "## Final classification"
   ]
  },
  {
   "cell_type": "code",
   "execution_count": 230,
   "metadata": {},
   "outputs": [],
   "source": [
    "def classify_conversation(speaker_responses, num_speaker_responses, num_listener_responses, conversation, speaker, listener):\n",
    "    return str(calculate_engagement(speaker, listener, conversation)[-1] + \", \" + calculate_satisfaction(conversation, speaker)[-1])"
   ]
  },
  {
   "cell_type": "markdown",
   "metadata": {},
   "source": [
    "## Testing the measures"
   ]
  },
  {
   "cell_type": "code",
   "execution_count": 231,
   "metadata": {},
   "outputs": [],
   "source": [
    "def test_examples(conversation_id):\n",
    "    conversation, speaker, listener, speaker_responses, listener_responses, num_speaker_responses, num_listener_responses = extract_responses(conversation_id)\n",
    "    plot_emotion_sentiment(speaker_responses)\n",
    "    print(\"Conversation length: \", len(conversation))\n",
    "    print(\"Speaker-listener turn difference: \", calculate_engagement(speaker, listener, conversation)[0], \" --> \", calculate_engagement(speaker, listener, conversation)[1])\n",
    "    print(\"Sentiment slope: \", calculate_satisfaction(conversation, speaker)[0], \", sentiment change: \", calculate_satisfaction(conversation, speaker)[1], \", grateful bonus: \", \n",
    "          calculate_satisfaction(conversation, speaker)[2], \", offended penalty: \", calculate_satisfaction(conversation, speaker)[3]), \"SATISFACTION SCORE: \", \n",
    "    calculate_satisfaction(conversation, speaker)[4], \"SATISFACTION : \", calculate_satisfaction(conversation, speaker)[5], \n",
    "    print(\"Classification summary: \", classify_conversation(speaker_responses, num_speaker_responses, num_listener_responses, conversation, speaker, listener))"
   ]
  },
  {
   "cell_type": "code",
   "execution_count": 232,
   "metadata": {},
   "outputs": [
    {
     "data": {
      "text/html": [
       "<div>\n",
       "<style scoped>\n",
       "    .dataframe tbody tr th:only-of-type {\n",
       "        vertical-align: middle;\n",
       "    }\n",
       "\n",
       "    .dataframe tbody tr th {\n",
       "        vertical-align: top;\n",
       "    }\n",
       "\n",
       "    .dataframe thead th {\n",
       "        text-align: right;\n",
       "    }\n",
       "</style>\n",
       "<table border=\"1\" class=\"dataframe\">\n",
       "  <thead>\n",
       "    <tr style=\"text-align: right;\">\n",
       "      <th></th>\n",
       "      <th>conversation_id</th>\n",
       "      <th>subreddit</th>\n",
       "      <th>post_title</th>\n",
       "      <th>author</th>\n",
       "      <th>dialog_turn</th>\n",
       "      <th>text</th>\n",
       "      <th>compound</th>\n",
       "      <th>sentiment</th>\n",
       "      <th>emotion_prediction</th>\n",
       "    </tr>\n",
       "  </thead>\n",
       "  <tbody>\n",
       "    <tr>\n",
       "      <th>52</th>\n",
       "      <td>23</td>\n",
       "      <td>MentalHealthSupport</td>\n",
       "      <td>I've been having a horrible recurring dream.</td>\n",
       "      <td>jacksongray213</td>\n",
       "      <td>1</td>\n",
       "      <td>(Just an FYI I've posted this in other places but I'm new to Reddit and I'm not sure where this best fits)  Hey there guys, for the past month or so I have a reoccurring dream that happens probably once every 2-3 nights. It's really starting to drive me crazy. Just a heads up, this dream is pretty inappropriate and has a lot of gross and graphic things happening so if you don't want to read something like that, please move on.  Basically what happens is I start out in a dark room, then some ...</td>\n",
       "      <td>0.9970</td>\n",
       "      <td>positive</td>\n",
       "      <td>anticipating</td>\n",
       "    </tr>\n",
       "    <tr>\n",
       "      <th>53</th>\n",
       "      <td>23</td>\n",
       "      <td>MentalHealthSupport</td>\n",
       "      <td>I've been having a horrible recurring dream.</td>\n",
       "      <td>normalornotwhoa</td>\n",
       "      <td>2</td>\n",
       "      <td>Hey there.  That sounds really frightening.  I'll share with you what I learned in therapy to help rid yourself of nightmares.   Write down in a book or on your phone the story of what happens in the dream, but when bad things start to happen, imagine something positive happening instead.  The more fantastical it is the better (not sure why that helps but it does).  So write that you sprout wings and fly away, or shoot fire out of your mouth and kill your enemies and then ride an elephant to...</td>\n",
       "      <td>0.7072</td>\n",
       "      <td>positive</td>\n",
       "      <td>guilty</td>\n",
       "    </tr>\n",
       "    <tr>\n",
       "      <th>54</th>\n",
       "      <td>23</td>\n",
       "      <td>MentalHealthSupport</td>\n",
       "      <td>I've been having a horrible recurring dream.</td>\n",
       "      <td>jacksongray213</td>\n",
       "      <td>3</td>\n",
       "      <td>Thank you for the response. I'm going to try that tonight. Hopefully it will work, I'll get back to you!</td>\n",
       "      <td>0.6696</td>\n",
       "      <td>positive</td>\n",
       "      <td>guilty</td>\n",
       "    </tr>\n",
       "  </tbody>\n",
       "</table>\n",
       "</div>"
      ],
      "text/plain": [
       "    conversation_id            subreddit  \\\n",
       "52               23  MentalHealthSupport   \n",
       "53               23  MentalHealthSupport   \n",
       "54               23  MentalHealthSupport   \n",
       "\n",
       "                                      post_title           author  \\\n",
       "52  I've been having a horrible recurring dream.   jacksongray213   \n",
       "53  I've been having a horrible recurring dream.  normalornotwhoa   \n",
       "54  I've been having a horrible recurring dream.   jacksongray213   \n",
       "\n",
       "    dialog_turn  \\\n",
       "52            1   \n",
       "53            2   \n",
       "54            3   \n",
       "\n",
       "                                                                                                                                                                                                                                                                                                                                                                                                                                                                                                                   text  \\\n",
       "52  (Just an FYI I've posted this in other places but I'm new to Reddit and I'm not sure where this best fits)  Hey there guys, for the past month or so I have a reoccurring dream that happens probably once every 2-3 nights. It's really starting to drive me crazy. Just a heads up, this dream is pretty inappropriate and has a lot of gross and graphic things happening so if you don't want to read something like that, please move on.  Basically what happens is I start out in a dark room, then some ...   \n",
       "53  Hey there.  That sounds really frightening.  I'll share with you what I learned in therapy to help rid yourself of nightmares.   Write down in a book or on your phone the story of what happens in the dream, but when bad things start to happen, imagine something positive happening instead.  The more fantastical it is the better (not sure why that helps but it does).  So write that you sprout wings and fly away, or shoot fire out of your mouth and kill your enemies and then ride an elephant to...   \n",
       "54                                                                                                                                                                                                                                                                                                                                                                                                             Thank you for the response. I'm going to try that tonight. Hopefully it will work, I'll get back to you!   \n",
       "\n",
       "    compound sentiment emotion_prediction  \n",
       "52    0.9970  positive       anticipating  \n",
       "53    0.7072  positive             guilty  \n",
       "54    0.6696  positive             guilty  "
      ]
     },
     "execution_count": 232,
     "metadata": {},
     "output_type": "execute_result"
    }
   ],
   "source": [
    "conversation_id = 23\n",
    "df[df[\"conversation_id\"] == conversation_id]"
   ]
  },
  {
   "cell_type": "code",
   "execution_count": 233,
   "metadata": {},
   "outputs": [
    {
     "name": "stdout",
     "output_type": "stream",
     "text": [
      "Conversation length:  3\n",
      "Speaker-listener turn difference:  1  -->  moderate engagement\n",
      "Sentiment slope:  -0.16 , sentiment change:  -0.3662 , grateful bonus:  0 , offended penalty:  0\n",
      "Classification summary:  moderate engagement, less satisfying\n"
     ]
    },
    {
     "data": {
      "image/png": "[encoded data removed]",
      "text/plain": [
       "<Figure size 478.725x360 with 1 Axes>"
      ]
     },
     "metadata": {},
     "output_type": "display_data"
    }
   ],
   "source": [
    "test_examples(conversation_id) "
   ]
  },
  {
   "cell_type": "markdown",
   "metadata": {},
   "source": [
    "## More examples"
   ]
  },
  {
   "cell_type": "markdown",
   "metadata": {},
   "source": [
    "### High engagement, neutral satisfaction (but should be positive satisfaction)"
   ]
  },
  {
   "cell_type": "code",
   "execution_count": 234,
   "metadata": {},
   "outputs": [
    {
     "data": {
      "text/html": [
       "<div>\n",
       "<style scoped>\n",
       "    .dataframe tbody tr th:only-of-type {\n",
       "        vertical-align: middle;\n",
       "    }\n",
       "\n",
       "    .dataframe tbody tr th {\n",
       "        vertical-align: top;\n",
       "    }\n",
       "\n",
       "    .dataframe thead th {\n",
       "        text-align: right;\n",
       "    }\n",
       "</style>\n",
       "<table border=\"1\" class=\"dataframe\">\n",
       "  <thead>\n",
       "    <tr style=\"text-align: right;\">\n",
       "      <th></th>\n",
       "      <th>conversation_id</th>\n",
       "      <th>subreddit</th>\n",
       "      <th>post_title</th>\n",
       "      <th>author</th>\n",
       "      <th>dialog_turn</th>\n",
       "      <th>text</th>\n",
       "      <th>compound</th>\n",
       "      <th>sentiment</th>\n",
       "      <th>emotion_prediction</th>\n",
       "    </tr>\n",
       "  </thead>\n",
       "  <tbody>\n",
       "    <tr>\n",
       "      <th>4125</th>\n",
       "      <td>1732</td>\n",
       "      <td>MentalHealthSupport</td>\n",
       "      <td>Hello, I need some advice/help</td>\n",
       "      <td>itsyaboi-apyr</td>\n",
       "      <td>1</td>\n",
       "      <td>I’m kinda worried about posting this here because I don’t know if it is correct or not but I’m stuck in a very bad anxiety hole atm, I posted this in one of the legal advice subs and everyone said it’s more of a mental health problem, (also sorry I don’t know how to do paragraphs) ok so recently every single day and night I’ve been having panic attacks over something that happened 2-3 years ago, when I was 13 I was on pornhub and came across Ben 10 hentai and being thirty I was very stupid a...</td>\n",
       "      <td>-0.9960</td>\n",
       "      <td>negative</td>\n",
       "      <td>anticipating</td>\n",
       "    </tr>\n",
       "    <tr>\n",
       "      <th>4126</th>\n",
       "      <td>1732</td>\n",
       "      <td>MentalHealthSupport</td>\n",
       "      <td>Hello, I need some advice/help</td>\n",
       "      <td>SophieSofar</td>\n",
       "      <td>2</td>\n",
       "      <td>No it's not illegal and you won't get in trouble for it. Especially as pornhub is legal.  There's weirder things on there like scooby doo or American dad sketches.  We all get curious. There's nothing to worry about x</td>\n",
       "      <td>0.8477</td>\n",
       "      <td>positive</td>\n",
       "      <td>faithful</td>\n",
       "    </tr>\n",
       "    <tr>\n",
       "      <th>4127</th>\n",
       "      <td>1732</td>\n",
       "      <td>MentalHealthSupport</td>\n",
       "      <td>Hello, I need some advice/help</td>\n",
       "      <td>itsyaboi-apyr</td>\n",
       "      <td>3</td>\n",
       "      <td>Thank you so much, I’ve felt so bad for so long, I was at the point where I can’t handle it anymore, I know this whole thing sounds stupid but I have been having serious suicidal thoughts over it, after reading your comment I’m crying lol, I was so worried about posting this but I’m at the point where it was either a suicidal help line or this, I chose this because I wasn’t brave enough for the latter but seriously thank you I was so nervous, also please excuse my lack of ability to do parag...</td>\n",
       "      <td>-0.9430</td>\n",
       "      <td>negative</td>\n",
       "      <td>anxious</td>\n",
       "    </tr>\n",
       "    <tr>\n",
       "      <th>4128</th>\n",
       "      <td>1732</td>\n",
       "      <td>MentalHealthSupport</td>\n",
       "      <td>Hello, I need some advice/help</td>\n",
       "      <td>SophieSofar</td>\n",
       "      <td>4</td>\n",
       "      <td>No problem. I was the same when I started exploring that side of the web. It's harmless x</td>\n",
       "      <td>0.5037</td>\n",
       "      <td>positive</td>\n",
       "      <td>sentimental</td>\n",
       "    </tr>\n",
       "    <tr>\n",
       "      <th>4129</th>\n",
       "      <td>1732</td>\n",
       "      <td>MentalHealthSupport</td>\n",
       "      <td>Hello, I need some advice/help</td>\n",
       "      <td>itsyaboi-apyr</td>\n",
       "      <td>5</td>\n",
       "      <td>So do you really think I’ll be ok?</td>\n",
       "      <td>0.0000</td>\n",
       "      <td>neutral</td>\n",
       "      <td>sentimental</td>\n",
       "    </tr>\n",
       "    <tr>\n",
       "      <th>4130</th>\n",
       "      <td>1732</td>\n",
       "      <td>MentalHealthSupport</td>\n",
       "      <td>Hello, I need some advice/help</td>\n",
       "      <td>SophieSofar</td>\n",
       "      <td>6</td>\n",
       "      <td>Yeah for sure. Pornhub can't have anything illegal on there or they'll lose their licence</td>\n",
       "      <td>0.5753</td>\n",
       "      <td>positive</td>\n",
       "      <td>angry</td>\n",
       "    </tr>\n",
       "    <tr>\n",
       "      <th>4131</th>\n",
       "      <td>1732</td>\n",
       "      <td>MentalHealthSupport</td>\n",
       "      <td>Hello, I need some advice/help</td>\n",
       "      <td>itsyaboi-apyr</td>\n",
       "      <td>7</td>\n",
       "      <td>I was just really worried because i read that even hentai which is underage is illegal, so as you could probably guess I had a panic attack, but it’s been 2-3 years so I don’t think I’ll be in trouble right? And I never downloaded it</td>\n",
       "      <td>-0.8688</td>\n",
       "      <td>negative</td>\n",
       "      <td>embarrassed</td>\n",
       "    </tr>\n",
       "    <tr>\n",
       "      <th>4132</th>\n",
       "      <td>1732</td>\n",
       "      <td>MentalHealthSupport</td>\n",
       "      <td>Hello, I need some advice/help</td>\n",
       "      <td>SophieSofar</td>\n",
       "      <td>8</td>\n",
       "      <td>Kids sent each other weirder stuff when I was in school. If nothing has happened by now it won't happen x</td>\n",
       "      <td>-0.1280</td>\n",
       "      <td>negative</td>\n",
       "      <td>embarrassed</td>\n",
       "    </tr>\n",
       "    <tr>\n",
       "      <th>4133</th>\n",
       "      <td>1732</td>\n",
       "      <td>MentalHealthSupport</td>\n",
       "      <td>Hello, I need some advice/help</td>\n",
       "      <td>itsyaboi-apyr</td>\n",
       "      <td>9</td>\n",
       "      <td>Thank you, your really nice which really helps my anxiety, I hope you have an amazing year, also would it be ok if I ever messaged you just in case I was worrying?</td>\n",
       "      <td>0.9189</td>\n",
       "      <td>positive</td>\n",
       "      <td>sentimental</td>\n",
       "    </tr>\n",
       "    <tr>\n",
       "      <th>4134</th>\n",
       "      <td>1732</td>\n",
       "      <td>MentalHealthSupport</td>\n",
       "      <td>Hello, I need some advice/help</td>\n",
       "      <td>SophieSofar</td>\n",
       "      <td>10</td>\n",
       "      <td>No problem. Hopefully this advice will allow you to move forward with your life x</td>\n",
       "      <td>0.2263</td>\n",
       "      <td>positive</td>\n",
       "      <td>sentimental</td>\n",
       "    </tr>\n",
       "  </tbody>\n",
       "</table>\n",
       "</div>"
      ],
      "text/plain": [
       "      conversation_id            subreddit                      post_title  \\\n",
       "4125             1732  MentalHealthSupport  Hello, I need some advice/help   \n",
       "4126             1732  MentalHealthSupport  Hello, I need some advice/help   \n",
       "4127             1732  MentalHealthSupport  Hello, I need some advice/help   \n",
       "4128             1732  MentalHealthSupport  Hello, I need some advice/help   \n",
       "4129             1732  MentalHealthSupport  Hello, I need some advice/help   \n",
       "4130             1732  MentalHealthSupport  Hello, I need some advice/help   \n",
       "4131             1732  MentalHealthSupport  Hello, I need some advice/help   \n",
       "4132             1732  MentalHealthSupport  Hello, I need some advice/help   \n",
       "4133             1732  MentalHealthSupport  Hello, I need some advice/help   \n",
       "4134             1732  MentalHealthSupport  Hello, I need some advice/help   \n",
       "\n",
       "             author  dialog_turn  \\\n",
       "4125  itsyaboi-apyr            1   \n",
       "4126    SophieSofar            2   \n",
       "4127  itsyaboi-apyr            3   \n",
       "4128    SophieSofar            4   \n",
       "4129  itsyaboi-apyr            5   \n",
       "4130    SophieSofar            6   \n",
       "4131  itsyaboi-apyr            7   \n",
       "4132    SophieSofar            8   \n",
       "4133  itsyaboi-apyr            9   \n",
       "4134    SophieSofar           10   \n",
       "\n",
       "                                                                                                                                                                                                                                                                                                                                                                                                                                                                                                                     text  \\\n",
       "4125  I’m kinda worried about posting this here because I don’t know if it is correct or not but I’m stuck in a very bad anxiety hole atm, I posted this in one of the legal advice subs and everyone said it’s more of a mental health problem, (also sorry I don’t know how to do paragraphs) ok so recently every single day and night I’ve been having panic attacks over something that happened 2-3 years ago, when I was 13 I was on pornhub and came across Ben 10 hentai and being thirty I was very stupid a...   \n",
       "4126                                                                                                                                                                                                                                                                                            No it's not illegal and you won't get in trouble for it. Especially as pornhub is legal.  There's weirder things on there like scooby doo or American dad sketches.  We all get curious. There's nothing to worry about x   \n",
       "4127  Thank you so much, I’ve felt so bad for so long, I was at the point where I can’t handle it anymore, I know this whole thing sounds stupid but I have been having serious suicidal thoughts over it, after reading your comment I’m crying lol, I was so worried about posting this but I’m at the point where it was either a suicidal help line or this, I chose this because I wasn’t brave enough for the latter but seriously thank you I was so nervous, also please excuse my lack of ability to do parag...   \n",
       "4128                                                                                                                                                                                                                                                                                                                                                                                                                            No problem. I was the same when I started exploring that side of the web. It's harmless x   \n",
       "4129                                                                                                                                                                                                                                                                                                                                                                                                                                                                                   So do you really think I’ll be ok?   \n",
       "4130                                                                                                                                                                                                                                                                                                                                                                                                                            Yeah for sure. Pornhub can't have anything illegal on there or they'll lose their licence   \n",
       "4131                                                                                                                                                                                                                                                                            I was just really worried because i read that even hentai which is underage is illegal, so as you could probably guess I had a panic attack, but it’s been 2-3 years so I don’t think I’ll be in trouble right? And I never downloaded it   \n",
       "4132                                                                                                                                                                                                                                                                                                                                                                                                            Kids sent each other weirder stuff when I was in school. If nothing has happened by now it won't happen x   \n",
       "4133                                                                                                                                                                                                                                                                                                                                                  Thank you, your really nice which really helps my anxiety, I hope you have an amazing year, also would it be ok if I ever messaged you just in case I was worrying?   \n",
       "4134                                                                                                                                                                                                                                                                                                                                                                                                                                    No problem. Hopefully this advice will allow you to move forward with your life x   \n",
       "\n",
       "      compound sentiment emotion_prediction  \n",
       "4125   -0.9960  negative       anticipating  \n",
       "4126    0.8477  positive           faithful  \n",
       "4127   -0.9430  negative            anxious  \n",
       "4128    0.5037  positive        sentimental  \n",
       "4129    0.0000   neutral        sentimental  \n",
       "4130    0.5753  positive              angry  \n",
       "4131   -0.8688  negative        embarrassed  \n",
       "4132   -0.1280  negative        embarrassed  \n",
       "4133    0.9189  positive        sentimental  \n",
       "4134    0.2263  positive        sentimental  "
      ]
     },
     "execution_count": 234,
     "metadata": {},
     "output_type": "execute_result"
    }
   ],
   "source": [
    "df[df[\"conversation_id\"] == 1732]"
   ]
  },
  {
   "cell_type": "code",
   "execution_count": 235,
   "metadata": {},
   "outputs": [
    {
     "name": "stdout",
     "output_type": "stream",
     "text": [
      "Conversation length:  10\n",
      "Speaker-listener turn difference:  None  -->  high engagement\n",
      "Sentiment slope:  0.2 , sentiment change:  1.9149 , grateful bonus:  0 , offended penalty:  0\n",
      "Classification summary:  high engagement, highly satisfying\n"
     ]
    },
    {
     "data": {
      "image/png": "[encoded data removed]",
      "text/plain": [
       "<Figure size 478.725x360 with 1 Axes>"
      ]
     },
     "metadata": {},
     "output_type": "display_data"
    }
   ],
   "source": [
    "test_examples(1732) "
   ]
  },
  {
   "cell_type": "markdown",
   "metadata": {},
   "source": [
    "### High engagement, moderate satisfaction"
   ]
  },
  {
   "cell_type": "code",
   "execution_count": 236,
   "metadata": {},
   "outputs": [
    {
     "data": {
      "text/html": [
       "<div>\n",
       "<style scoped>\n",
       "    .dataframe tbody tr th:only-of-type {\n",
       "        vertical-align: middle;\n",
       "    }\n",
       "\n",
       "    .dataframe tbody tr th {\n",
       "        vertical-align: top;\n",
       "    }\n",
       "\n",
       "    .dataframe thead th {\n",
       "        text-align: right;\n",
       "    }\n",
       "</style>\n",
       "<table border=\"1\" class=\"dataframe\">\n",
       "  <thead>\n",
       "    <tr style=\"text-align: right;\">\n",
       "      <th></th>\n",
       "      <th>conversation_id</th>\n",
       "      <th>subreddit</th>\n",
       "      <th>post_title</th>\n",
       "      <th>author</th>\n",
       "      <th>dialog_turn</th>\n",
       "      <th>text</th>\n",
       "      <th>compound</th>\n",
       "      <th>sentiment</th>\n",
       "      <th>emotion_prediction</th>\n",
       "    </tr>\n",
       "  </thead>\n",
       "  <tbody>\n",
       "    <tr>\n",
       "      <th>2418</th>\n",
       "      <td>1003</td>\n",
       "      <td>MentalHealthSupport</td>\n",
       "      <td>Mood swings from random bits of information.</td>\n",
       "      <td>q-6u</td>\n",
       "      <td>1</td>\n",
       "      <td>A bit of background information. I smoked weed twice in my life, first time in november of 2018 and second in april of 2019. both times i had extreme panic attacks that were amplified by my depersonalization disorder. I get really stressed out when I think about those episodes I had, and worry about death constantly.    Recently, my girlfriend has admitted to me that she’s been smoking weed regularly for over a year. I don’t know why, but that bothered me and put me in a really depressed moo...</td>\n",
       "      <td>-0.9820</td>\n",
       "      <td>negative</td>\n",
       "      <td>grateful</td>\n",
       "    </tr>\n",
       "    <tr>\n",
       "      <th>2419</th>\n",
       "      <td>1003</td>\n",
       "      <td>MentalHealthSupport</td>\n",
       "      <td>Mood swings from random bits of information.</td>\n",
       "      <td>you_are_marvelous</td>\n",
       "      <td>2</td>\n",
       "      <td>Well, I'm going to take a stab at it and say that you have mixed feelings and anxiety because you've been raised to think of weed as a bad thing and it's been demonized. So there's already a stigma there for you when it comes to the drug. Then there's the other side of it, which is you tried it, you had a severe panic attack (which can happen depending on the type of weed. I've had one as well with some kinds, and not with others. And I've had depersonalization on weed too. Your frame of min...</td>\n",
       "      <td>-0.8813</td>\n",
       "      <td>negative</td>\n",
       "      <td>anxious</td>\n",
       "    </tr>\n",
       "    <tr>\n",
       "      <th>2420</th>\n",
       "      <td>1003</td>\n",
       "      <td>MentalHealthSupport</td>\n",
       "      <td>Mood swings from random bits of information.</td>\n",
       "      <td>q-6u</td>\n",
       "      <td>3</td>\n",
       "      <td>you hit the nail on the head with that egg analogy. except if i were you, i’d be under this false idea that eggs are killing everyone and turning them into shitty burnouts. i don’t know why.</td>\n",
       "      <td>-0.8402</td>\n",
       "      <td>negative</td>\n",
       "      <td>sentimental</td>\n",
       "    </tr>\n",
       "    <tr>\n",
       "      <th>2421</th>\n",
       "      <td>1003</td>\n",
       "      <td>MentalHealthSupport</td>\n",
       "      <td>Mood swings from random bits of information.</td>\n",
       "      <td>you_are_marvelous</td>\n",
       "      <td>4</td>\n",
       "      <td>Awww. I’m sorry you feel that way. I’d look into why you’re having that reaction to it. 💗</td>\n",
       "      <td>0.6808</td>\n",
       "      <td>positive</td>\n",
       "      <td>sentimental</td>\n",
       "    </tr>\n",
       "    <tr>\n",
       "      <th>2422</th>\n",
       "      <td>1003</td>\n",
       "      <td>MentalHealthSupport</td>\n",
       "      <td>Mood swings from random bits of information.</td>\n",
       "      <td>q-6u</td>\n",
       "      <td>5</td>\n",
       "      <td>i feel so alone in my life and it eats me up inside to hear that the one i love is having a normal reaction to it. i feel left out and angry at the same time and i just cut my wrists tonight to get my mind off of her. i’m a fucking wreck</td>\n",
       "      <td>-0.7192</td>\n",
       "      <td>negative</td>\n",
       "      <td>embarrassed</td>\n",
       "    </tr>\n",
       "    <tr>\n",
       "      <th>2423</th>\n",
       "      <td>1003</td>\n",
       "      <td>MentalHealthSupport</td>\n",
       "      <td>Mood swings from random bits of information.</td>\n",
       "      <td>you_are_marvelous</td>\n",
       "      <td>6</td>\n",
       "      <td>Did you self-harm or attempt suicide? Are you okay?!</td>\n",
       "      <td>-0.6430</td>\n",
       "      <td>negative</td>\n",
       "      <td>sentimental</td>\n",
       "    </tr>\n",
       "    <tr>\n",
       "      <th>2424</th>\n",
       "      <td>1003</td>\n",
       "      <td>MentalHealthSupport</td>\n",
       "      <td>Mood swings from random bits of information.</td>\n",
       "      <td>q-6u</td>\n",
       "      <td>7</td>\n",
       "      <td>self harm.</td>\n",
       "      <td>-0.5423</td>\n",
       "      <td>negative</td>\n",
       "      <td>surprised</td>\n",
       "    </tr>\n",
       "    <tr>\n",
       "      <th>2425</th>\n",
       "      <td>1003</td>\n",
       "      <td>MentalHealthSupport</td>\n",
       "      <td>Mood swings from random bits of information.</td>\n",
       "      <td>you_are_marvelous</td>\n",
       "      <td>8</td>\n",
       "      <td>How are you doing today?</td>\n",
       "      <td>0.0000</td>\n",
       "      <td>neutral</td>\n",
       "      <td>grateful</td>\n",
       "    </tr>\n",
       "    <tr>\n",
       "      <th>2426</th>\n",
       "      <td>1003</td>\n",
       "      <td>MentalHealthSupport</td>\n",
       "      <td>Mood swings from random bits of information.</td>\n",
       "      <td>q-6u</td>\n",
       "      <td>9</td>\n",
       "      <td>i’ve been mych, much better since i last logged into reddit.    thanks for sticking around, and for your help. seriously.</td>\n",
       "      <td>0.7783</td>\n",
       "      <td>positive</td>\n",
       "      <td>grateful</td>\n",
       "    </tr>\n",
       "    <tr>\n",
       "      <th>2427</th>\n",
       "      <td>1003</td>\n",
       "      <td>MentalHealthSupport</td>\n",
       "      <td>Mood swings from random bits of information.</td>\n",
       "      <td>you_are_marvelous</td>\n",
       "      <td>10</td>\n",
       "      <td>So glad to hear that! And you’re very welcome. :)</td>\n",
       "      <td>0.8795</td>\n",
       "      <td>positive</td>\n",
       "      <td>anticipating</td>\n",
       "    </tr>\n",
       "  </tbody>\n",
       "</table>\n",
       "</div>"
      ],
      "text/plain": [
       "      conversation_id            subreddit  \\\n",
       "2418             1003  MentalHealthSupport   \n",
       "2419             1003  MentalHealthSupport   \n",
       "2420             1003  MentalHealthSupport   \n",
       "2421             1003  MentalHealthSupport   \n",
       "2422             1003  MentalHealthSupport   \n",
       "2423             1003  MentalHealthSupport   \n",
       "2424             1003  MentalHealthSupport   \n",
       "2425             1003  MentalHealthSupport   \n",
       "2426             1003  MentalHealthSupport   \n",
       "2427             1003  MentalHealthSupport   \n",
       "\n",
       "                                        post_title             author  \\\n",
       "2418  Mood swings from random bits of information.               q-6u   \n",
       "2419  Mood swings from random bits of information.  you_are_marvelous   \n",
       "2420  Mood swings from random bits of information.               q-6u   \n",
       "2421  Mood swings from random bits of information.  you_are_marvelous   \n",
       "2422  Mood swings from random bits of information.               q-6u   \n",
       "2423  Mood swings from random bits of information.  you_are_marvelous   \n",
       "2424  Mood swings from random bits of information.               q-6u   \n",
       "2425  Mood swings from random bits of information.  you_are_marvelous   \n",
       "2426  Mood swings from random bits of information.               q-6u   \n",
       "2427  Mood swings from random bits of information.  you_are_marvelous   \n",
       "\n",
       "      dialog_turn  \\\n",
       "2418            1   \n",
       "2419            2   \n",
       "2420            3   \n",
       "2421            4   \n",
       "2422            5   \n",
       "2423            6   \n",
       "2424            7   \n",
       "2425            8   \n",
       "2426            9   \n",
       "2427           10   \n",
       "\n",
       "                                                                                                                                                                                                                                                                                                                                                                                                                                                                                                                     text  \\\n",
       "2418  A bit of background information. I smoked weed twice in my life, first time in november of 2018 and second in april of 2019. both times i had extreme panic attacks that were amplified by my depersonalization disorder. I get really stressed out when I think about those episodes I had, and worry about death constantly.    Recently, my girlfriend has admitted to me that she’s been smoking weed regularly for over a year. I don’t know why, but that bothered me and put me in a really depressed moo...   \n",
       "2419  Well, I'm going to take a stab at it and say that you have mixed feelings and anxiety because you've been raised to think of weed as a bad thing and it's been demonized. So there's already a stigma there for you when it comes to the drug. Then there's the other side of it, which is you tried it, you had a severe panic attack (which can happen depending on the type of weed. I've had one as well with some kinds, and not with others. And I've had depersonalization on weed too. Your frame of min...   \n",
       "2420                                                                                                                                                                                                                                                                                                                       you hit the nail on the head with that egg analogy. except if i were you, i’d be under this false idea that eggs are killing everyone and turning them into shitty burnouts. i don’t know why.   \n",
       "2421                                                                                                                                                                                                                                                                                                                                                                                                                            Awww. I’m sorry you feel that way. I’d look into why you’re having that reaction to it. 💗   \n",
       "2422                                                                                                                                                                                                                                                                        i feel so alone in my life and it eats me up inside to hear that the one i love is having a normal reaction to it. i feel left out and angry at the same time and i just cut my wrists tonight to get my mind off of her. i’m a fucking wreck   \n",
       "2423                                                                                                                                                                                                                                                                                                                                                                                                                                                                 Did you self-harm or attempt suicide? Are you okay?!   \n",
       "2424                                                                                                                                                                                                                                                                                                                                                                                                                                                                                                           self harm.   \n",
       "2425                                                                                                                                                                                                                                                                                                                                                                                                                                                                                             How are you doing today?   \n",
       "2426                                                                                                                                                                                                                                                                                                                                                                                            i’ve been mych, much better since i last logged into reddit.    thanks for sticking around, and for your help. seriously.   \n",
       "2427                                                                                                                                                                                                                                                                                                                                                                                                                                                                    So glad to hear that! And you’re very welcome. :)   \n",
       "\n",
       "      compound sentiment emotion_prediction  \n",
       "2418   -0.9820  negative           grateful  \n",
       "2419   -0.8813  negative            anxious  \n",
       "2420   -0.8402  negative        sentimental  \n",
       "2421    0.6808  positive        sentimental  \n",
       "2422   -0.7192  negative        embarrassed  \n",
       "2423   -0.6430  negative        sentimental  \n",
       "2424   -0.5423  negative          surprised  \n",
       "2425    0.0000   neutral           grateful  \n",
       "2426    0.7783  positive           grateful  \n",
       "2427    0.8795  positive       anticipating  "
      ]
     },
     "execution_count": 236,
     "metadata": {},
     "output_type": "execute_result"
    }
   ],
   "source": [
    "df[df[\"conversation_id\"] == 1003]"
   ]
  },
  {
   "cell_type": "code",
   "execution_count": null,
   "metadata": {},
   "outputs": [
    {
     "name": "stdout",
     "output_type": "stream",
     "text": [
      "Conversation length:  10\n",
      "Speaker-listener turn difference:  None  -->  high engagement\n",
      "Sentiment slope: "
     ]
    }
   ],
   "source": [
    "test_examples(1003) "
   ]
  },
  {
   "cell_type": "markdown",
   "metadata": {},
   "source": [
    "### High engagement, neutral satisfaction"
   ]
  },
  {
   "cell_type": "code",
   "execution_count": null,
   "metadata": {},
   "outputs": [],
   "source": [
    "df[df[\"conversation_id\"] == 854]"
   ]
  },
  {
   "cell_type": "code",
   "execution_count": null,
   "metadata": {},
   "outputs": [],
   "source": [
    "test_examples(854) "
   ]
  },
  {
   "cell_type": "markdown",
   "metadata": {},
   "source": [
    "### Moderate engagement, neutral satisfaction"
   ]
  },
  {
   "cell_type": "markdown",
   "metadata": {},
   "source": [
    "This is also an example with merged speaker turns. "
   ]
  },
  {
   "cell_type": "code",
   "execution_count": null,
   "metadata": {},
   "outputs": [],
   "source": [
    "df[df[\"conversation_id\"] == 24]"
   ]
  },
  {
   "cell_type": "code",
   "execution_count": null,
   "metadata": {},
   "outputs": [],
   "source": [
    "test_examples(24) "
   ]
  },
  {
   "cell_type": "markdown",
   "metadata": {},
   "source": [
    "### Low engagement, moderate satisfaction"
   ]
  },
  {
   "cell_type": "code",
   "execution_count": null,
   "metadata": {},
   "outputs": [],
   "source": [
    "df[df[\"conversation_id\"] == 35]"
   ]
  },
  {
   "cell_type": "code",
   "execution_count": null,
   "metadata": {},
   "outputs": [],
   "source": [
    "test_examples(35) "
   ]
  },
  {
   "cell_type": "markdown",
   "metadata": {},
   "source": [
    "**Satisfaction:**\n",
    "- make scoring numerical (like a compound score column)\n",
    "    - put a weight to all the factors \n",
    "        - experiment and inspect which weights and threshold yield a good scoring\n",
    "- Take off points if speaker got offended from listener's response \n",
    "- Find a lexicon of gratitude tokens\n",
    "\n",
    "**Engagement:**\n",
    "- make scoring numerical (like a compound score column)\n",
    "    - put a weight to all the factors \n",
    "        - experiment and inspect which weights and threshold yield a good scoring\n",
    "\n",
    "**Examples:**\n",
    "- A few examples showing low/moderate/high engagement/satisfaction"
   ]
  }
 ],
 "metadata": {
  "kernelspec": {
   "display_name": "Python 3",
   "language": "python",
   "name": "python3"
  },
  "language_info": {
   "codemirror_mode": {
    "name": "ipython",
    "version": 3
   },
   "file_extension": ".py",
   "mimetype": "text/x-python",
   "name": "python",
   "nbconvert_exporter": "python",
   "pygments_lexer": "ipython3",
   "version": "3.7.6"
  }
 },
 "nbformat": 4,
 "nbformat_minor": 4
}
