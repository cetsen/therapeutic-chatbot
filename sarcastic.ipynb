{
 "cells": [
  {
   "cell_type": "markdown",
   "metadata": {
    "id": "hN4YLT_zYvYq"
   },
   "source": [
    "# Are you being sarcastic? \n",
    "\n",
    "In this tutorial, we are going through the basis steps to build a text classifier:     \n",
    "\n",
    "1.    Dataset: Loading and splitting data into train and test sets.\n",
    "2.    Tokenization: How to represent words in a way that a computer can process them?\n",
    "3.    Design and train the deep model with embeddings\n",
    "4.    Evaluate on new arbitrary sentences    \n",
    "\n",
    "This code is based on [Coding TensorFlow](https://youtu.be/Y_hzMnRXjhI) \n",
    "\n",
    "\n",
    "By [Ibrahim Sobh](https://www.linkedin.com/in/ibrahim-sobh-phd-8681757/)"
   ]
  },
  {
   "cell_type": "code",
   "execution_count": 14,
   "metadata": {
    "id": "fnjfdueIYt2e"
   },
   "outputs": [],
   "source": [
    "import json\n",
    "import tensorflow as tf\n",
    "from tensorflow.keras.preprocessing.text import Tokenizer\n",
    "from tensorflow.keras.preprocessing.sequence import pad_sequences\n",
    "import numpy as np\n",
    "import matplotlib.pyplot as plt"
   ]
  },
  {
   "cell_type": "code",
   "execution_count": 15,
   "metadata": {
    "id": "4dEeR5zwYuqv"
   },
   "outputs": [],
   "source": [
    "vocab_size = 10000\n",
    "embedding_dim = 16\n",
    "max_length = 100\n",
    "trunc_type='post'\n",
    "padding_type='post'\n",
    "oov_tok = \"<OOV>\"\n",
    "training_size = 20000\n",
    "num_epochs = 15"
   ]
  },
  {
   "cell_type": "markdown",
   "metadata": {
    "id": "NQPSdXH9jio2"
   },
   "source": [
    "## Dataset: Loading and splitting data into train and test sets."
   ]
  },
  {
   "cell_type": "code",
   "execution_count": 16,
   "metadata": {
    "id": "tXPriVAgYu7R"
   },
   "outputs": [],
   "source": [
    "with open(\"data/sarcasm.json\", 'r') as f:\n",
    "    datastore = json.load(f)\n",
    "\n",
    "sentences = []\n",
    "labels = []\n",
    "\n",
    "for item in datastore:\n",
    "    sentences.append(item['headline'])\n",
    "    labels.append(item['is_sarcastic'])"
   ]
  },
  {
   "cell_type": "code",
   "execution_count": 17,
   "metadata": {
    "id": "mOJWCLXTYu4e"
   },
   "outputs": [],
   "source": [
    "training_sentences = sentences[0:training_size]\n",
    "testing_sentences = sentences[training_size:]\n",
    "training_labels = labels[0:training_size]\n",
    "testing_labels = labels[training_size:]"
   ]
  },
  {
   "cell_type": "markdown",
   "metadata": {
    "id": "_Uoa2Z6Wjmjg"
   },
   "source": [
    "## Tokenization: How to represent words in a way that a computer can process them?"
   ]
  },
  {
   "cell_type": "code",
   "execution_count": 18,
   "metadata": {
    "id": "taxB84e4Yu1m"
   },
   "outputs": [],
   "source": [
    "tokenizer = Tokenizer(num_words=vocab_size, oov_token=oov_tok)\n",
    "tokenizer.fit_on_texts(training_sentences)\n",
    "\n",
    "word_index = tokenizer.word_index\n",
    "\n",
    "training_sequences = tokenizer.texts_to_sequences(training_sentences)\n",
    "training_padded = pad_sequences(training_sequences, maxlen=max_length, padding=padding_type, truncating=trunc_type)\n",
    "\n",
    "testing_sequences = tokenizer.texts_to_sequences(testing_sentences)\n",
    "testing_padded = pad_sequences(testing_sequences, maxlen=max_length, padding=padding_type, truncating=trunc_type)"
   ]
  },
  {
   "cell_type": "code",
   "execution_count": 19,
   "metadata": {
    "id": "n6a6aERZZLrD"
   },
   "outputs": [],
   "source": [
    "training_padded = np.array(training_padded)\n",
    "training_labels = np.array(training_labels)\n",
    "testing_padded = np.array(testing_padded)\n",
    "testing_labels = np.array(testing_labels)"
   ]
  },
  {
   "cell_type": "markdown",
   "metadata": {
    "id": "p30zPW0_jpm8"
   },
   "source": [
    "## Design and train the deep model with embeddings"
   ]
  },
  {
   "cell_type": "code",
   "execution_count": 20,
   "metadata": {
    "colab": {
     "base_uri": "https://localhost:8080/",
     "height": 289
    },
    "id": "qoagPtRGZLvg",
    "outputId": "90355a97-3ae9-4db8-8ee0-5883ced718bc"
   },
   "outputs": [
    {
     "name": "stdout",
     "output_type": "stream",
     "text": [
      "Model: \"sequential_1\"\n",
      "_________________________________________________________________\n",
      "Layer (type)                 Output Shape              Param #   \n",
      "=================================================================\n",
      "embedding_1 (Embedding)      (None, 100, 16)           160000    \n",
      "_________________________________________________________________\n",
      "global_average_pooling1d_1 ( (None, 16)                0         \n",
      "_________________________________________________________________\n",
      "dense_2 (Dense)              (None, 24)                408       \n",
      "_________________________________________________________________\n",
      "dense_3 (Dense)              (None, 1)                 25        \n",
      "=================================================================\n",
      "Total params: 160,433\n",
      "Trainable params: 160,433\n",
      "Non-trainable params: 0\n",
      "_________________________________________________________________\n"
     ]
    }
   ],
   "source": [
    "model = tf.keras.Sequential([\n",
    "    tf.keras.layers.Embedding(vocab_size, embedding_dim, input_length=max_length),\n",
    "    tf.keras.layers.GlobalAveragePooling1D(),\n",
    "    tf.keras.layers.Dense(24, activation='relu'),\n",
    "    tf.keras.layers.Dense(1, activation='sigmoid')\n",
    "])\n",
    "model.compile(loss='binary_crossentropy',optimizer='adam',metrics=['accuracy'])\n",
    "model.summary()"
   ]
  },
  {
   "cell_type": "code",
   "execution_count": 21,
   "metadata": {
    "colab": {
     "base_uri": "https://localhost:8080/",
     "height": 527
    },
    "id": "XSbdDmZYZL1U",
    "outputId": "c9c0ffd2-9399-49a4-ba35-b24eadc0145e"
   },
   "outputs": [
    {
     "name": "stdout",
     "output_type": "stream",
     "text": [
      "Epoch 1/15\n",
      "625/625 - 1s - loss: 0.6795 - accuracy: 0.5637 - val_loss: 0.6513 - val_accuracy: 0.7450\n",
      "Epoch 2/15\n",
      "625/625 - 1s - loss: 0.4844 - accuracy: 0.7904 - val_loss: 0.3977 - val_accuracy: 0.8313\n",
      "Epoch 3/15\n",
      "625/625 - 1s - loss: 0.3263 - accuracy: 0.8686 - val_loss: 0.3689 - val_accuracy: 0.8360\n",
      "Epoch 4/15\n",
      "625/625 - 1s - loss: 0.2722 - accuracy: 0.8924 - val_loss: 0.3438 - val_accuracy: 0.8571\n",
      "Epoch 5/15\n",
      "625/625 - 1s - loss: 0.2353 - accuracy: 0.9086 - val_loss: 0.3413 - val_accuracy: 0.8566\n",
      "Epoch 6/15\n",
      "625/625 - 1s - loss: 0.2079 - accuracy: 0.9193 - val_loss: 0.3571 - val_accuracy: 0.8469\n",
      "Epoch 7/15\n",
      "625/625 - 1s - loss: 0.1843 - accuracy: 0.9296 - val_loss: 0.3679 - val_accuracy: 0.8486\n",
      "Epoch 8/15\n",
      "625/625 - 1s - loss: 0.1649 - accuracy: 0.9383 - val_loss: 0.3720 - val_accuracy: 0.8517\n",
      "Epoch 9/15\n",
      "625/625 - 1s - loss: 0.1505 - accuracy: 0.9456 - val_loss: 0.3876 - val_accuracy: 0.8492\n",
      "Epoch 10/15\n",
      "625/625 - 1s - loss: 0.1351 - accuracy: 0.9525 - val_loss: 0.4033 - val_accuracy: 0.8487\n",
      "Epoch 11/15\n",
      "625/625 - 1s - loss: 0.1242 - accuracy: 0.9555 - val_loss: 0.4218 - val_accuracy: 0.8481\n",
      "Epoch 12/15\n",
      "625/625 - 1s - loss: 0.1135 - accuracy: 0.9603 - val_loss: 0.4423 - val_accuracy: 0.8475\n",
      "Epoch 13/15\n",
      "625/625 - 1s - loss: 0.1039 - accuracy: 0.9659 - val_loss: 0.4653 - val_accuracy: 0.8436\n",
      "Epoch 14/15\n",
      "625/625 - 1s - loss: 0.0959 - accuracy: 0.9665 - val_loss: 0.4845 - val_accuracy: 0.8433\n",
      "Epoch 15/15\n",
      "625/625 - 1s - loss: 0.0876 - accuracy: 0.9711 - val_loss: 0.5140 - val_accuracy: 0.8413\n"
     ]
    }
   ],
   "source": [
    "history = model.fit(training_padded, training_labels, epochs=num_epochs, validation_data=(testing_padded, testing_labels), verbose=2)"
   ]
  },
  {
   "cell_type": "code",
   "execution_count": 22,
   "metadata": {
    "colab": {
     "base_uri": "https://localhost:8080/",
     "height": 541
    },
    "id": "Ef1kTntWZLuA",
    "outputId": "0d1d831a-f1c2-45f7-9353-bd08ad6c3258"
   },
   "outputs": [
    {
     "data": {
      "image/png": "[encoded data removed]",
      "text/plain": [
       "<Figure size 432x288 with 1 Axes>"
      ]
     },
     "metadata": {
      "needs_background": "light"
     },
     "output_type": "display_data"
    },
    {
     "data": {
      "image/png": "[encoded data removed]",
      "text/plain": [
       "<Figure size 432x288 with 1 Axes>"
      ]
     },
     "metadata": {
      "needs_background": "light"
     },
     "output_type": "display_data"
    }
   ],
   "source": [
    "def plot_graphs(history, string):\n",
    "    plt.plot(history.history[string])\n",
    "    plt.plot(history.history['val_'+string])\n",
    "    plt.xlabel(\"Epochs\")\n",
    "    plt.ylabel(string)\n",
    "    plt.legend([string, 'val_'+string])\n",
    "    plt.show()\n",
    "    \n",
    "plot_graphs(history, \"accuracy\")\n",
    "plot_graphs(history, \"loss\")"
   ]
  },
  {
   "cell_type": "markdown",
   "metadata": {
    "id": "Mb4w0jkrjwz_"
   },
   "source": [
    "## Evaluate on new arbitrary sentences"
   ]
  },
  {
   "cell_type": "code",
   "execution_count": 23,
   "metadata": {
    "colab": {
     "base_uri": "https://localhost:8080/",
     "height": 51
    },
    "id": "nv5knYgRYuxW",
    "outputId": "3028544f-d06e-490b-d185-6a8c922653d9"
   },
   "outputs": [
    {
     "name": "stdout",
     "output_type": "stream",
     "text": [
      "[[9.979181e-01]\n",
      " [5.514324e-04]]\n"
     ]
    }
   ],
   "source": [
    "sentence = [\"country music protested in restaurant's kitchen\", \"deadly stabbing attack at maryland prayer center\"]\n",
    "sequences = tokenizer.texts_to_sequences(sentence)\n",
    "padded = pad_sequences(sequences, maxlen=max_length, padding=padding_type, truncating=trunc_type)\n",
    "print(model.predict(padded))"
   ]
  },
  {
   "cell_type": "code",
   "execution_count": 24,
   "metadata": {
    "colab": {
     "base_uri": "https://localhost:8080/",
     "height": 51
    },
    "id": "3jYmuf88YuvN",
    "outputId": "beacd97d-38d2-4c28-83be-041b64bb28db"
   },
   "outputs": [
    {
     "name": "stdout",
     "output_type": "stream",
     "text": [
      "[[9.979181e-01]\n",
      " [5.514324e-04]]\n"
     ]
    }
   ],
   "source": [
    "# order does not matter \n",
    "sentence = [\"kitchen music protested in country restaurant's\", \"maryland prayer deadly at stabbing center attack\"]\n",
    "sequences = tokenizer.texts_to_sequences(sentence)\n",
    "padded = pad_sequences(sequences, maxlen=max_length, padding=padding_type, truncating=trunc_type)\n",
    "print(model.predict(padded))"
   ]
  },
  {
   "cell_type": "code",
   "execution_count": 25,
   "metadata": {},
   "outputs": [
    {
     "name": "stdout",
     "output_type": "stream",
     "text": [
      "[[0.18406245]\n",
      " [0.32157135]\n",
      " [0.00381568]\n",
      " [0.45743   ]\n",
      " [0.47472554]\n",
      " [0.00247428]]\n"
     ]
    }
   ],
   "source": [
    "sentence = [\"hey squish.\", \"thanks for not just telling me it was 'all in my head.'\", \"a. i wasnt shoplifting.,\", \"and b., the phrase 'we pay for that, dont we?'\", \"is not a normal phrase.\", \"appreciate your input, but i disagree.\"]\n",
    "sequences = tokenizer.texts_to_sequences(sentence)\n",
    "padded = pad_sequences(sequences, maxlen=max_length, padding=padding_type, truncating=trunc_type)\n",
    "print(model.predict(padded))"
   ]
  },
  {
   "cell_type": "code",
   "execution_count": 26,
   "metadata": {},
   "outputs": [
    {
     "data": {
      "text/plain": [
       "False"
      ]
     },
     "execution_count": 26,
     "metadata": {},
     "output_type": "execute_result"
    }
   ],
   "source": [
    "proba = model.predict(padded)\n",
    "(proba > 0.5).any()"
   ]
  }
 ],
 "metadata": {
  "colab": {
   "collapsed_sections": [],
   "name": "sarcastic01.ipynb",
   "provenance": [],
   "toc_visible": true
  },
  "kernelspec": {
   "display_name": "Python 3",
   "language": "python",
   "name": "python3"
  },
  "language_info": {
   "codemirror_mode": {
    "name": "ipython",
    "version": 3
   },
   "file_extension": ".py",
   "mimetype": "text/x-python",
   "name": "python",
   "nbconvert_exporter": "python",
   "pygments_lexer": "ipython3",
   "version": "3.7.6"
  }
 },
 "nbformat": 4,
 "nbformat_minor": 4
}
